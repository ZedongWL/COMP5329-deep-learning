{
  "nbformat": 4,
  "nbformat_minor": 0,
  "metadata": {
    "colab": {
      "name": "final.ipynb",
      "provenance": [],
      "collapsed_sections": [
        "iwaYPdRTx_iX",
        "yELGoJWFgTRJ",
        "91VcvJh0icY3",
        "FLlaGyVQkmbX",
        "IZA-832EnsLA",
        "Nt2F6CcpuKS5",
        "dpHWNQi0vJWe",
        "2i1GhwIbw9lF",
        "-U5AjIgivgOE"
      ],
      "machine_shape": "hm"
    },
    "kernelspec": {
      "name": "python3",
      "display_name": "Python 3"
    },
    "language_info": {
      "name": "python"
    },
    "accelerator": "GPU"
  },
  "cells": [
    {
      "cell_type": "markdown",
      "source": [
        "## Clip (ViT and Transformer all included)"
      ],
      "metadata": {
        "id": "a6GFRqUqyl-m"
      }
    },
    {
      "cell_type": "code",
      "execution_count": 1,
      "metadata": {
        "colab": {
          "base_uri": "https://localhost:8080/"
        },
        "id": "AdlrjixmBP_O",
        "outputId": "8da99ba6-0fa0-4d9f-8622-12b6dfc81f13"
      },
      "outputs": [
        {
          "output_type": "stream",
          "name": "stdout",
          "text": [
            "Sun May 22 13:39:01 2022       \n",
            "+-----------------------------------------------------------------------------+\n",
            "| NVIDIA-SMI 460.32.03    Driver Version: 460.32.03    CUDA Version: 11.2     |\n",
            "|-------------------------------+----------------------+----------------------+\n",
            "| GPU  Name        Persistence-M| Bus-Id        Disp.A | Volatile Uncorr. ECC |\n",
            "| Fan  Temp  Perf  Pwr:Usage/Cap|         Memory-Usage | GPU-Util  Compute M. |\n",
            "|                               |                      |               MIG M. |\n",
            "|===============================+======================+======================|\n",
            "|   0  Tesla P100-PCIE...  Off  | 00000000:00:04.0 Off |                    0 |\n",
            "| N/A   37C    P0    26W / 250W |      0MiB / 16280MiB |      0%      Default |\n",
            "|                               |                      |                  N/A |\n",
            "+-------------------------------+----------------------+----------------------+\n",
            "                                                                               \n",
            "+-----------------------------------------------------------------------------+\n",
            "| Processes:                                                                  |\n",
            "|  GPU   GI   CI        PID   Type   Process name                  GPU Memory |\n",
            "|        ID   ID                                                   Usage      |\n",
            "|=============================================================================|\n",
            "|  No running processes found                                                 |\n",
            "+-----------------------------------------------------------------------------+\n"
          ]
        }
      ],
      "source": [
        "!/opt/bin/nvidia-smi"
      ]
    },
    {
      "cell_type": "code",
      "source": [
        "# Code to download file into Colaboratory:\n",
        "!pip install -U -q PyDrive\n",
        "from pydrive.auth import GoogleAuth\n",
        "from pydrive.drive import GoogleDrive\n",
        "from google.colab import auth\n",
        "from oauth2client.client import GoogleCredentials\n",
        "# Authenticate and create the PyDrive client.\n",
        "auth.authenticate_user()\n",
        "gauth = GoogleAuth()\n",
        "gauth.credentials = GoogleCredentials.get_application_default()\n",
        "drive = GoogleDrive(gauth)\n",
        "\n",
        "#get the data from the drive\n",
        "id = '1aMRFCTeYpZzudslsKlvQ8U5e8KEVBZFQ'\n",
        "downloaded = drive.CreateFile({'id':id}) \n",
        "downloaded.GetContentFile('multi-label-classification-competition-22.zip')\n",
        "#unzip the dataset\n",
        "!unzip multi-label-classification-competition-22.zip"
      ],
      "metadata": {
        "id": "8SoCVK7VBpU9",
        "colab": {
          "base_uri": "https://localhost:8080/"
        },
        "outputId": "5e8e28d2-34bd-43e1-d429-d643e4458a2d"
      },
      "execution_count": 2,
      "outputs": [
        {
          "output_type": "stream",
          "name": "stdout",
          "text": [
            "Archive:  multi-label-classification-competition-22.zip\n",
            "replace COMP5329S1A2Dataset/data/0.jpg? [y]es, [n]o, [A]ll, [N]one, [r]ename: "
          ]
        }
      ]
    },
    {
      "cell_type": "code",
      "source": [
        "import re\n",
        "import pandas as pd\n",
        "from io import StringIO\n",
        "FILENAME = '/content/COMP5329S1A2Dataset/train.csv'\n",
        "with open(FILENAME) as file:\n",
        "    lines = [re.sub(r'([^,])\"(\\s*[^\\n])', r'\\1/\"\\2', line) for line in file]\n",
        "    error_num = [4790,14716,14961,29895]\n",
        "    for i in error_num:\n",
        "      lines[i] = lines[i][:-3]+lines[i][-2:]\n",
        "    df = pd.read_csv(StringIO(''.join(lines)), escapechar=\"/\")"
      ],
      "metadata": {
        "id": "EEqZaBdJBuQM"
      },
      "execution_count": 3,
      "outputs": []
    },
    {
      "cell_type": "code",
      "source": [
        "FILENAME1 = '/content/COMP5329S1A2Dataset/test.csv'\n",
        "with open(FILENAME1) as file:\n",
        "    lines = [re.sub(r'([^,])\"(\\s*[^\\n])', r'\\1/\"\\2', line) for line in file]\n",
        "    \n",
        "    df1 = pd.read_csv(StringIO(''.join(lines)), escapechar=\"/\")"
      ],
      "metadata": {
        "id": "ueo8NnsqBzUY"
      },
      "execution_count": 4,
      "outputs": []
    },
    {
      "cell_type": "code",
      "source": [
        "from PIL import Image \n",
        "import numpy as np\n",
        "\n",
        "data_name = ['/content/COMP5329S1A2Dataset/data/{}.jpg'.format(i) for i in range(30000)]\n",
        "\n",
        "image_ls = []\n",
        "for i in range(30000):\n",
        "  image = Image.open(data_name[i])\n",
        "  asl = image.resize((336,336))\n",
        "  #img = np.asarray(asl)\n",
        "  image_ls.append(asl)\n",
        "image_ls = np.array(image_ls)"
      ],
      "metadata": {
        "id": "DXgzqQSz1rOF",
        "colab": {
          "base_uri": "https://localhost:8080/"
        },
        "outputId": "272adf8e-9091-426e-891f-fce9c24f240f"
      },
      "execution_count": null,
      "outputs": [
        {
          "output_type": "stream",
          "name": "stderr",
          "text": [
            "/usr/local/lib/python3.7/dist-packages/ipykernel_launcher.py:12: FutureWarning: The input object of type 'Image' is an array-like implementing one of the corresponding protocols (`__array__`, `__array_interface__` or `__array_struct__`); but not a sequence (or 0-D). In the future, this object will be coerced as if it was first converted using `np.array(obj)`. To retain the old behaviour, you have to either modify the type 'Image', or assign to an empty array created with `np.empty(correct_shape, dtype=object)`.\n",
            "  if sys.path[0] == '':\n"
          ]
        }
      ]
    },
    {
      "cell_type": "code",
      "source": [
        "import numpy as np\n",
        "data_name1 = ['/content/COMP5329S1A2Dataset/data/{}.jpg'.format(i) for i in range(30000,40000)]\n",
        "from PIL import Image \n",
        "image_ls_test = []\n",
        "for i in range(10000):\n",
        "  image = Image.open(data_name1[i])\n",
        "  asl = image.resize((336,336))\n",
        "  #img = np.asarray(asl)\n",
        "  image_ls_test.append(asl)\n",
        "image_ls_test = np.array(image_ls_test)"
      ],
      "metadata": {
        "id": "lfxWC20z1xoS"
      },
      "execution_count": null,
      "outputs": []
    },
    {
      "cell_type": "code",
      "source": [
        "def a(input):\n",
        "  if len(input) > 1:\n",
        "    b = sum([ord(i)-48 for i in input])+9\n",
        "  else:\n",
        "    b = ord(input)-48\n",
        "  return b\n",
        "\n",
        "def transnum(input):\n",
        "  return [a(x) for x in input.split()]\n",
        "\n",
        "train_label = []\n",
        "for i in df['Labels']:\n",
        "    train_label.append(transnum(i))\n",
        "\n",
        "from sklearn.preprocessing import MultiLabelBinarizer\n",
        "one_hot = MultiLabelBinarizer()\n",
        "label_onehot = (one_hot.fit_transform(train_label))"
      ],
      "metadata": {
        "id": "jUHiiDZXB1o5"
      },
      "execution_count": 5,
      "outputs": []
    },
    {
      "cell_type": "code",
      "source": [
        "import torch\n",
        "\n",
        "label_onehot_tensor = torch.tensor(label_onehot)\n",
        "label_onehot_tensor = label_onehot_tensor.to(torch.float32)"
      ],
      "metadata": {
        "id": "XfHR72gfDL-h"
      },
      "execution_count": 7,
      "outputs": []
    },
    {
      "cell_type": "code",
      "source": [
        "'''\n",
        "\n",
        "import torch\n",
        "\n",
        "all_text_feature = torch.load('/content/drive/MyDrive/text_g_d.pt').to(torch.float32)\n",
        "all_image_features = torch.load('/content/drive/MyDrive/image_g_d.pt').to(torch.float32)\n",
        "test_text_feature = torch.load('/content/drive/MyDrive/test_text.pt').to(torch.float32)\n",
        "test_image_features = torch.load('/content/drive/MyDrive/test_image.pt').to(torch.float32)\n",
        "\n",
        "'''"
      ],
      "metadata": {
        "id": "GWCxj4jmCGvq"
      },
      "execution_count": 10,
      "outputs": []
    },
    {
      "cell_type": "code",
      "source": [
        "import os\n",
        "import clip\n",
        "import torch\n",
        "from torchvision.datasets import CIFAR100\n",
        "from PIL import Image\n",
        "\n",
        "# Load the model\n",
        "device = \"cuda\" if torch.cuda.is_available() else \"cpu\"\n",
        "model, preprocess = clip.load('ViT-B/32', device)\n",
        "\n",
        "all_image_features = []\n",
        "all_text_feature = []\n",
        "\n",
        "for image , label, caption in zip(image_ls,train_label,df['Caption']):\n",
        "\n",
        "  image_input = preprocess(image).unsqueeze(0).to(device)\n",
        "  text_inputs = torch.cat([clip.tokenize(f\"{caption}\")]).to(device) #生成文字描述\n",
        "  with torch.no_grad():\n",
        "    image_features = model.encode_image(image_input)\n",
        "    \n",
        "    text_features = model.encode_text(text_inputs)\n",
        "    \n",
        "\n",
        "  all_image_features.append(image_features)\n",
        "  all_text_feature.append(text_features)"
      ],
      "metadata": {
        "id": "CP9qMhxG0i0t"
      },
      "execution_count": null,
      "outputs": []
    },
    {
      "cell_type": "code",
      "source": [
        "import os\n",
        "import clip\n",
        "import torch\n",
        "from torchvision.datasets import CIFAR100\n",
        "from PIL import Image\n",
        "\n",
        "test_image_features = []\n",
        "test_text_feature = []\n",
        "\n",
        "for image , caption in zip(image_ls_test,df1['Caption']):\n",
        "\n",
        "  image_input = preprocess(image).unsqueeze(0).to(device)\n",
        "  text_inputs = torch.cat([clip.tokenize(f\"{caption}\")]).to(device) #生成文字描述\n",
        "  with torch.no_grad():\n",
        "    image_features = model.encode_image(image_input)\n",
        "    \n",
        "    text_features = model.encode_text(text_inputs)\n",
        "    \n",
        "\n",
        "  test_image_features.append(image_features)\n",
        "  test_text_feature.append(text_features)"
      ],
      "metadata": {
        "id": "S09BQ_TT2E6n"
      },
      "execution_count": null,
      "outputs": []
    },
    {
      "cell_type": "code",
      "source": [
        "test_image_features = torch.cat(test_image_features).to(torch.float32)\n",
        "test_text_feature = torch.cat(test_text_feature).to(torch.float32)\n",
        "\n",
        "all_image_features = torch.cat(all_image_features).to(torch.float32)\n",
        "all_text_feature = torch.cat(all_text_feature).to(torch.float32)"
      ],
      "metadata": {
        "id": "PkZpUd6i8cWw"
      },
      "execution_count": null,
      "outputs": []
    },
    {
      "cell_type": "markdown",
      "source": [
        "## Bert"
      ],
      "metadata": {
        "id": "iwaYPdRTx_iX"
      }
    },
    {
      "cell_type": "code",
      "source": [
        "pip install transformers"
      ],
      "metadata": {
        "id": "nJrqj3pBxvUS"
      },
      "execution_count": null,
      "outputs": []
    },
    {
      "cell_type": "code",
      "source": [
        "import logging\n",
        "logging.basicConfig(level=logging.ERROR)\n",
        "from transformers import TFBertPreTrainedModel,TFBertMainLayer,BertTokenizer\n",
        "import tensorflow as tf\n",
        "from transformers.modeling_tf_utils import (\n",
        "    TFQuestionAnsweringLoss,\n",
        "    TFTokenClassificationLoss,\n",
        "    get_initializer,\n",
        "    keras_serializable,\n",
        "    shape_list,\n",
        ")\n",
        "import pandas as pd\n",
        "import numpy as np\n",
        "from sklearn.metrics import roc_auc_score\n",
        "\n",
        "\n",
        "def convert_example_to_feature(review):\n",
        "  \n",
        "  # combine step for tokenization, WordPiece vector mapping, adding special tokens as well as truncating reviews longer than the max length\n",
        "    return tokenizer.encode_plus(review, \n",
        "                add_special_tokens = True, # add [CLS], [SEP]\n",
        "                max_length = max_length, # max length of the text that can go to BERT\n",
        "                pad_to_max_length = True, # add [PAD] tokens\n",
        "                return_attention_mask = True, # add attention mask to not focus on pad tokens\n",
        "                truncation=True\n",
        "              )\n",
        "# map to the expected input to TFBertForSequenceClassification, see here \n",
        "def map_example_to_dict(input_ids, attention_masks, token_type_ids, label):\n",
        "    return {\n",
        "      \"input_ids\": input_ids,\n",
        "      \"token_type_ids\": token_type_ids,\n",
        "      \"attention_mask\": attention_masks,\n",
        "  }, label\n",
        "def encode_examples(ds, limit=-1):\n",
        "    # prepare list, so that we can build up final TensorFlow dataset from slices.\n",
        "    input_ids_list = []\n",
        "    token_type_ids_list = []\n",
        "    attention_mask_list = []\n",
        "    label_list = []\n",
        "    if (limit > 0):\n",
        "        ds = ds.take(limit)\n",
        "    \n",
        "    for (i, row) in enumerate(ds.values):\n",
        "#     for index, row in ds.iterrows():\n",
        "#         review = row[\"text\"]\n",
        "#         label = row[\"y\"]\n",
        "        review = row[1]\n",
        "        label = list(row[2:])\n",
        "        bert_input = convert_example_to_feature(review)\n",
        "        #print(bert_input)\n",
        "  \n",
        "        input_ids_list.append(bert_input['input_ids'])\n",
        "        token_type_ids_list.append(bert_input['token_type_ids'])\n",
        "        attention_mask_list.append(bert_input['attention_mask'])\n",
        "        label_list.append(label)\n",
        "    return tf.data.Dataset.from_tensor_slices((input_ids_list, attention_mask_list, token_type_ids_list, label_list)).map(map_example_to_dict)\n",
        "    \n",
        "class TFBertForMultilabelClassification(TFBertPreTrainedModel):\n",
        "\n",
        "    def __init__(self, config, *inputs, **kwargs):\n",
        "        super(TFBertForMultilabelClassification, self).__init__(config, *inputs, **kwargs)\n",
        "        self.num_labels = config.num_labels\n",
        "\n",
        "        self.bert = TFBertMainLayer(config, name='bert')\n",
        "        self.dropout = tf.keras.layers.Dropout(config.hidden_dropout_prob)\n",
        "        self.classifier = tf.keras.layers.Dense(config.num_labels,\n",
        "                                                kernel_initializer=get_initializer(config.initializer_range),\n",
        "                                                name='classifier',\n",
        "                                                activation='sigmoid')\n",
        "\n",
        "    def call(self, inputs, **kwargs):\n",
        "        outputs = self.bert(inputs, **kwargs)\n",
        "\n",
        "        pooled_output = outputs[1]\n",
        "\n",
        "        pooled_output = self.dropout(pooled_output, training=kwargs.get('training', False))\n",
        "        logits = self.classifier(pooled_output)\n",
        "\n",
        "        outputs = (logits,) + outputs[2:]  # add hidden states and attention if they are here\n",
        "\n",
        "        return outputs  # logits, (hidden_states), (attentions)\n",
        "\n",
        "\n",
        "\n",
        "def measure_auc(label,pred):\n",
        "  auc = [roc_auc_score(label[:,i],pred[:,i]) for i in list(range(18))]\n",
        "  return pd.DataFrame({\"label_name\":[\"1\",\"2\",\"3\",\"4\",\"5\",\"6\",\"7\",\"8\",\"9\",\"10\",\"11\",\"13\",\"14\",\"15\",\"16\",\"17\",\"18\",\"19\"],\"auc\":auc})\n",
        "\n",
        "\n",
        "if __name__ == '__main__': \n",
        "\n",
        "    # parameters\n",
        "    train_path = \"/content/train_WZD.csv\" # 数据路径\n",
        "    test_path = \"/content/test_WZD.csv\" # 数据路径\n",
        "    model_path = \"bert-large-uncased\" #模型路径，建议预先下载(https://huggingface.co/bert-base-uncased#)\n",
        "\n",
        "    # parameters\n",
        "    max_length = 28\n",
        "    batch_size = 5\n",
        "    learning_rate = 1e-5\n",
        "    number_of_epochs = 5\n",
        "    num_classes = 18 # 类别数\n",
        "\n",
        "    # read data\n",
        "    train_val_data = pd.read_csv(train_path)\n",
        "    TRAIN_VAL_RATIO = 0.98\n",
        "    LEN = train_val_data.shape[0]\n",
        "    SIZE_TRAIN = int(TRAIN_VAL_RATIO*LEN)\n",
        "    # train data\n",
        "    train_data = af\n",
        "    # val data\n",
        "    val_data = pd.read_csv(test_path)[2000:]\n",
        "    # test data\n",
        "    test_data = pd.read_csv(test_path)[2000:]\n",
        "    \n",
        "    # tokenizer\n",
        "    tokenizer = BertTokenizer.from_pretrained(model_path)\n",
        "    # train dataset\n",
        "    ds_train_encoded = encode_examples(train_data).shuffle(47).batch(batch_size)\n",
        "    # val dataset\n",
        "    ds_val_encoded = encode_examples(val_data).batch(batch_size)\n",
        "    # test dataset\n",
        "    ds_test_encoded = encode_examples(test_data).batch(batch_size)\n",
        "    \n",
        "    # model initialization\n",
        "    model = TFBertForMultilabelClassification.from_pretrained(model_path, num_labels=num_classes)\n",
        "    # optimizer Adam recommended\n",
        "    optimizer = tf.keras.optimizers.Adam(learning_rate=learning_rate,epsilon=1e-08, clipnorm=1)\n",
        "    # we do not have one-hot vectors, we can use sparce categorical cross entropy and accuracy\n",
        "    loss = tf.keras.losses.BinaryCrossentropy()\n",
        "    metric = tf.keras.metrics.CategoricalAccuracy()\n",
        "    model.compile(optimizer=optimizer, loss=loss, metrics=[metric])\n",
        "\n",
        "    # fit model\n",
        "    bert_history = model.fit(ds_train_encoded, epochs=number_of_epochs, validation_data=ds_val_encoded)\n",
        "    # evaluate val_set\n",
        "    pred=model.predict(ds_val_encoded)\n",
        "    #df_auc = measure_auc(val_data.iloc[:,2:].astype(np.float32).values,pred)\n",
        "    #print(\"val set mean column auc:\",df_auc)\n",
        "    #predict test_set"
      ],
      "metadata": {
        "id": "kiMUWHuyxv7p"
      },
      "execution_count": null,
      "outputs": []
    },
    {
      "cell_type": "markdown",
      "source": [
        "## Feature Extract DNN"
      ],
      "metadata": {
        "id": "n37qCRMoCoFZ"
      }
    },
    {
      "cell_type": "code",
      "source": [
        "import torch.nn as nn\n",
        "\n",
        "class FEATURE_DECISION_DNN(nn.Module):\n",
        "    def __init__(self):\n",
        "        super().__init__()\n",
        "        self.fc1 = nn.Linear(768, 1024)\n",
        "        self.fc2 = nn.Linear(1024, 512)\n",
        "        self.fc3 = nn.Linear(512, 18)\n",
        "        self.dropout = nn.Dropout(p = 0.5)\n",
        "\n",
        "    def forward(self, inputs):\n",
        "        tensor = F.gelu(self.fc1(inputs))\n",
        "        tensor = self.dropout(tensor)\n",
        "        tensor = F.gelu(self.fc2(tensor))\n",
        "        tensor = self.dropout(tensor)\n",
        "        tensor = torch.sigmoid(self.fc3(tensor))\n",
        "        return tensor"
      ],
      "metadata": {
        "id": "BfRZCaw_Chpa"
      },
      "execution_count": null,
      "outputs": []
    },
    {
      "cell_type": "code",
      "source": [
        "class FEATURE_DECISION_DNN2(nn.Module):\n",
        "    def __init__(self):\n",
        "        super().__init__()\n",
        "        self.fc1 = nn.Linear(1536, 2048)\n",
        "        self.fc2 = nn.Linear(2048, 1024)\n",
        "        self.fc3 = nn.Linear(1024, 512)\n",
        "        self.fc4 = nn.Linear(512, 18)\n",
        "\n",
        "    def forward(self, inputs):\n",
        "        tensor = F.gelu(self.fc1(inputs))\n",
        "        tensor = F.gelu(self.fc2(tensor))\n",
        "        tensor = F.gelu(self.fc3(tensor))\n",
        "        tensor = torch.sigmoid(self.fc4(tensor))\n",
        "        return tensor"
      ],
      "metadata": {
        "id": "DqzDPUcmhE-2"
      },
      "execution_count": null,
      "outputs": []
    },
    {
      "cell_type": "code",
      "source": [
        "class DECISION_DECISION_DNN(nn.Module):\n",
        "    def __init__(self):\n",
        "        super().__init__()\n",
        "        self.fc1 = nn.Linear(18, 512)\n",
        "        self.fc2 = nn.Linear(512, 512)\n",
        "        self.fc3 = nn.Linear(512, 18)\n",
        "\n",
        "    def forward(self, inputs):\n",
        "        tensor = F.gelu(self.fc1(inputs))\n",
        "        tensor = F.gelu(self.fc2(tensor))\n",
        "        tensor = torch.sigmoid(self.fc3(tensor))\n",
        "        return tensor"
      ],
      "metadata": {
        "id": "Uho--KSlRvE9"
      },
      "execution_count": null,
      "outputs": []
    },
    {
      "cell_type": "code",
      "source": [
        "class PCA_DNN(nn.Module):\n",
        "    def __init__(self):\n",
        "        super().__init__()\n",
        "        self.fc1 = nn.Linear(908, 2048)\n",
        "        self.fc2 = nn.Linear(2048, 1024)\n",
        "        self.fc3 = nn.Linear(1024, 512)\n",
        "        self.fc4 = nn.Linear(512, 18)\n",
        "\n",
        "    def forward(self, inputs):\n",
        "        tensor = F.gelu(self.fc1(inputs))\n",
        "        tensor = F.gelu(self.fc2(tensor))\n",
        "        tensor = F.gelu(self.fc3(tensor))\n",
        "        tensor = torch.sigmoid(self.fc4(tensor))\n",
        "        return tensor"
      ],
      "metadata": {
        "id": "uYhM1uI-UJOd"
      },
      "execution_count": null,
      "outputs": []
    },
    {
      "cell_type": "code",
      "source": [
        "import torch.nn as nn\n",
        "\n",
        "class AutoEncoder_DNN(nn.Module):\n",
        "    def __init__(self):\n",
        "        super().__init__()\n",
        "        self.fc1 = nn.Linear(1536, 700)\n",
        "        self.fc2 = nn.Linear(700, 1536)\n",
        "\n",
        "    def forward(self, inputs):\n",
        "        tensor = self.fc1(inputs)\n",
        "        tensor_hidden = tensor\n",
        "        tensor = F.gelu(tensor)\n",
        "        tensor = F.sigmoid(self.fc2(tensor))\n",
        "        return tensor, tensor_hidden"
      ],
      "metadata": {
        "id": "ivnKN3xAbRZr"
      },
      "execution_count": null,
      "outputs": []
    },
    {
      "cell_type": "code",
      "source": [
        "class AutoEncoder_DNN2(nn.Module):\n",
        "    def __init__(self):\n",
        "        super().__init__()\n",
        "        self.fc1 = nn.Linear(700, 2048)\n",
        "        self.fc2 = nn.Linear(2048, 1024)\n",
        "        self.fc3 = nn.Linear(1024, 512)\n",
        "        self.fc4 = nn.Linear(512, 18)\n",
        "\n",
        "    def forward(self, inputs):\n",
        "        tensor = F.gelu(self.fc1(inputs))\n",
        "        tensor = F.gelu(self.fc2(tensor))\n",
        "        tensor = F.gelu(self.fc3(tensor))\n",
        "        tensor = torch.sigmoid(self.fc4(tensor))\n",
        "        return tensor"
      ],
      "metadata": {
        "id": "-jKzdiRCmla7"
      },
      "execution_count": null,
      "outputs": []
    },
    {
      "cell_type": "code",
      "source": [
        "class HLO_DNN(nn.Module):\n",
        "    def __init__(self):\n",
        "        super().__init__()\n",
        "        self.fc1 = nn.Linear(768, 1024)\n",
        "        self.fc2 = nn.Linear(1024, 512)\n",
        "        self.fc3 = nn.Linear(512, 18)\n",
        "        self.dropout = nn.Dropout(p = 0.5)\n",
        "\n",
        "    def forward(self, inputs):\n",
        "        tensor = F.gelu(self.fc1(inputs))\n",
        "        tensor = self.dropout(tensor)\n",
        "        tensor = self.fc2(tensor)\n",
        "        tensor_hidden = tensor\n",
        "        tensor = F.gelu(tensor)\n",
        "        tensor = self.dropout(tensor)\n",
        "        tensor = torch.sigmoid(self.fc3(tensor))\n",
        "        return tensor, tensor_hidden"
      ],
      "metadata": {
        "id": "ZJONWJD-xTBn"
      },
      "execution_count": null,
      "outputs": []
    },
    {
      "cell_type": "code",
      "source": [
        "class HLO_DNN2(nn.Module):\n",
        "    def __init__(self):\n",
        "        super().__init__()\n",
        "        self.fc1 = nn.Linear(512, 1024)\n",
        "        self.fc2 = nn.Linear(1024, 512)\n",
        "        self.fc3 = nn.Linear(512, 18)\n",
        "        self.dropout = nn.Dropout(p = 0.5)\n",
        "\n",
        "    def forward(self, inputs):\n",
        "        tensor = F.gelu(self.fc1(inputs))\n",
        "        tensor = self.dropout(tensor)\n",
        "        tensor = F.gelu(self.fc2(tensor))\n",
        "        tensor = self.dropout(tensor)\n",
        "        tensor = torch.sigmoid(self.fc3(tensor))\n",
        "        return tensor"
      ],
      "metadata": {
        "id": "9xSPZ2xB2zre"
      },
      "execution_count": null,
      "outputs": []
    },
    {
      "cell_type": "code",
      "source": [
        "pip install torchmetrics"
      ],
      "metadata": {
        "id": "cdL1hdGTD1ph"
      },
      "execution_count": null,
      "outputs": []
    },
    {
      "cell_type": "code",
      "source": [
        "from torch.utils.data import TensorDataset\n",
        "from torch.utils.data import DataLoader\n",
        "def Trainer(net, epoch, epoch_step_1, epoch_step_2, Data):\n",
        "\n",
        "    train_data = DataLoader(TensorDataset(Data[:29400], label_onehot_tensor[:29400]), batch_size=30000, shuffle = False)\n",
        "    val_data = DataLoader(TensorDataset(Data[29400:], label_onehot_tensor[29400:].to(torch.int32)), batch_size=600, shuffle = False)\n",
        "\n",
        "    import numpy as np\n",
        "    from tqdm import tqdm\n",
        "    import torch.nn.functional as F\n",
        "    from torchmetrics import F1Score\n",
        "    from torch import optim\n",
        "    dev = \"cuda\" if torch.cuda.is_available() else \"cpu\"\n",
        "    Net = net.to(dev)\n",
        "    opti = optim.Adam(Net.parameters(), lr = 1e-3)\n",
        "    scheduler = torch.optim.lr_scheduler.MultiStepLR(opti, milestones=[epoch_step_1,epoch_step_2], gamma = 0.1)\n",
        "    f1 = F1Score(num_classes=18).to(dev)\n",
        "\n",
        "    epoch = epoch\n",
        "    loss_list = []\n",
        "    f1_list = []\n",
        "\n",
        "    for epoch in tqdm(range(epoch), colour = 'GREEN'):\n",
        "        for data, label in train_data:      \n",
        "            data, label = data.to(dev), label.to(dev)\n",
        "            preds = Net(data)        \n",
        "            loss = F.binary_cross_entropy(preds, label)\n",
        "            loss.backward()\n",
        "            opti.step()\n",
        "            scheduler.step()\n",
        "            opti.zero_grad()\n",
        "        loss_list.append(loss)\n",
        "\n",
        "        Net.eval()\n",
        "        with torch.autograd.no_grad():\n",
        "            for data_val, label_val in val_data:\n",
        "                data_val, label_val = data_val.to(dev), label_val.to(dev)\n",
        "                predict = Net(data_val)\n",
        "                f1_score = f1(predict, label_val)\n",
        "            print('F1 in epoch{} : {:.4f}'.format(epoch, f1_score))\n",
        "        f1_list.append(f1_score)\n",
        "    \n",
        "    return Net, loss_list, f1_list"
      ],
      "metadata": {
        "id": "NWTcHAyYLsJ-"
      },
      "execution_count": null,
      "outputs": []
    },
    {
      "cell_type": "code",
      "source": [
        "from torch.utils.data import TensorDataset\n",
        "from torch.utils.data import DataLoader\n",
        "def Trainer2(net, epoch, epoch_step_1, epoch_step_2, Data):\n",
        "\n",
        "    train_data = DataLoader(TensorDataset(Data[:29400], Data[:29400]), batch_size=30000, shuffle = False)\n",
        "    val_data = DataLoader(TensorDataset(Data[29400:], Data[29400:].to(torch.int32)), batch_size=600, shuffle = False)\n",
        "\n",
        "    import numpy as np\n",
        "    from tqdm import tqdm\n",
        "    import torch.nn.functional as F\n",
        "    from torchmetrics import F1Score\n",
        "    from torch import optim\n",
        "    dev = \"cuda\" if torch.cuda.is_available() else \"cpu\"\n",
        "    Net = net.to(dev)\n",
        "    opti = optim.Adam(Net.parameters(), lr = 1e-3)\n",
        "    scheduler = torch.optim.lr_scheduler.MultiStepLR(opti, milestones=[epoch_step_1,epoch_step_2], gamma = 0.1)\n",
        "    f1 = F1Score(num_classes=18).to(dev)\n",
        "\n",
        "    epoch = epoch\n",
        "    loss_list = []\n",
        "    f1_list = []\n",
        "\n",
        "    for epoch in tqdm(range(epoch), colour = 'GREEN'):\n",
        "        for data, label in train_data:      \n",
        "            data, label = data.to(dev), label.to(dev)\n",
        "            preds,Hiddens = Net(data)        \n",
        "            loss = F.mse_loss(preds, label)\n",
        "            loss.backward()\n",
        "            opti.step()\n",
        "            scheduler.step()\n",
        "            opti.zero_grad()\n",
        "        loss_list.append(loss)\n",
        "\n",
        "        Net.eval()\n",
        "        with torch.autograd.no_grad():\n",
        "            for data_val, label_val in val_data:\n",
        "                data_val, label_val = data_val.to(dev), label_val.to(dev)\n",
        "                predict,Hidden = Net(data_val)\n",
        "                loss = F.mse_loss(predict,label_val)\n",
        "            print('loss in epoch{} : {:.4f}'.format(epoch,loss))\n",
        "    \n",
        "    return Net, loss_list, f1_list"
      ],
      "metadata": {
        "id": "VVQY1FPtyKVP"
      },
      "execution_count": null,
      "outputs": []
    },
    {
      "cell_type": "code",
      "source": [
        "from torch.utils.data import TensorDataset\n",
        "from torch.utils.data import DataLoader\n",
        "def Trainer3(net, epoch, epoch_step_1, epoch_step_2, Data):\n",
        "\n",
        "    train_data = DataLoader(TensorDataset(Data[:29400], label_onehot_tensor[:29400]), batch_size=30000, shuffle = False)\n",
        "    val_data = DataLoader(TensorDataset(Data[29400:], label_onehot_tensor[29400:].to(torch.int32)), batch_size=600, shuffle = False)\n",
        "\n",
        "    import numpy as np\n",
        "    from tqdm import tqdm\n",
        "    import torch.nn.functional as F\n",
        "    from torchmetrics import F1Score\n",
        "    from torch import optim\n",
        "    dev = \"cuda\" if torch.cuda.is_available() else \"cpu\"\n",
        "    Net = net.to(dev)\n",
        "    opti = optim.Adam(Net.parameters(), lr = 1e-3)\n",
        "    scheduler = torch.optim.lr_scheduler.MultiStepLR(opti, milestones=[epoch_step_1,epoch_step_2], gamma = 0.1)\n",
        "    f1 = F1Score(num_classes=18).to(dev)\n",
        "\n",
        "    epoch = epoch\n",
        "    loss_list = []\n",
        "    f1_list = []\n",
        "\n",
        "    for epoch in tqdm(range(epoch), colour = 'GREEN'):\n",
        "        for data, label in train_data:      \n",
        "            data, label = data.to(dev), label.to(dev)\n",
        "            preds,Hiddens = Net(data)        \n",
        "            loss = F.binary_cross_entropy(preds, label)\n",
        "            loss.backward()\n",
        "            opti.step()\n",
        "            scheduler.step()\n",
        "            opti.zero_grad()\n",
        "        loss_list.append(loss)\n",
        "\n",
        "        Net.eval()\n",
        "        with torch.autograd.no_grad():\n",
        "            for data_val, label_val in val_data:\n",
        "                data_val, label_val = data_val.to(dev), label_val.to(dev)\n",
        "                predict,Hidden = Net(data_val)\n",
        "                f1_score = f1(predict, label_val)\n",
        "            print('F1 in epoch{} : {:.4f}'.format(epoch, f1_score))\n",
        "        f1_list.append(f1_score)\n",
        "\n",
        "    \n",
        "    return Net, loss_list, f1_list"
      ],
      "metadata": {
        "id": "BziVsK0By9pV"
      },
      "execution_count": null,
      "outputs": []
    },
    {
      "cell_type": "markdown",
      "source": [
        "## FEATURES FUSION"
      ],
      "metadata": {
        "id": "kupOH4ImgOCh"
      }
    },
    {
      "cell_type": "markdown",
      "source": [
        "### Flatten Concatenation"
      ],
      "metadata": {
        "id": "yELGoJWFgTRJ"
      }
    },
    {
      "cell_type": "code",
      "source": [
        "Flatten = torch.concat((all_text_feature,all_image_features),dim=-1)\n",
        "Net, loss_list, f1_list = Trainer(FEATURE_DECISION_DNN2(), 300, 200, 250, Flatten)\n",
        "Net.eval()\n",
        "with torch.autograd.no_grad():\n",
        "    flatten_fusion = Net(Flatten)"
      ],
      "metadata": {
        "id": "CUfJGZWFgZHo"
      },
      "execution_count": null,
      "outputs": []
    },
    {
      "cell_type": "markdown",
      "source": [
        "###PCA"
      ],
      "metadata": {
        "id": "91VcvJh0icY3"
      }
    },
    {
      "cell_type": "code",
      "source": [
        "pca_ori = torch.concat((all_text_feature,all_image_features),dim=-1).cpu().numpy()\n",
        "\n",
        "from sklearn.decomposition import PCA\n",
        "X_train_copy = pca_ori\n",
        "pca_1 = PCA(n_components=0.98, copy = False)  \n",
        "X_reduce = pca_1.fit_transform(pca_ori)\n",
        "n_x = pca_1.n_components\n",
        "\n",
        "pca=PCA(n_components=n_x, copy = False)\n",
        "X_reduce_final =pca.fit_transform(X_train_copy)\n",
        "pca =torch.tensor(X_reduce_final).to(torch.float32)\n",
        "\n",
        "Net, loss_list, f1_list = Trainer(PCA_DNN(), 300, 200, 250, pca)\n",
        "Net.eval()\n",
        "with torch.autograd.no_grad():\n",
        "    pca_fusion = Net(pca.to(dev))"
      ],
      "metadata": {
        "id": "u-tGnvyziiTW"
      },
      "execution_count": null,
      "outputs": []
    },
    {
      "cell_type": "markdown",
      "source": [
        "### AutoEncoder"
      ],
      "metadata": {
        "id": "FLlaGyVQkmbX"
      }
    },
    {
      "cell_type": "code",
      "source": [
        "Flatten = torch.concat((all_text_feature,all_image_features),dim=-1)\n",
        "Net, loss_list, f1_list = Trainer2(AutoEncoder_DNN(),300, 220, 280, Flatten)\n",
        "Net.eval()\n",
        "with torch.autograd.no_grad():\n",
        "    auto,auto_hidden = Net(Flatten.to(dev))"
      ],
      "metadata": {
        "id": "p5Be4Evgk5BM"
      },
      "execution_count": null,
      "outputs": []
    },
    {
      "cell_type": "code",
      "source": [
        "Net, loss_list, f1_list = Trainer(AutoEncoder_DNN2(), 300, 200, 250, auto_hidden)\n",
        "Net.eval()\n",
        "with torch.autograd.no_grad():\n",
        "    auto_fusion = Net(auto_hidden)"
      ],
      "metadata": {
        "id": "nBBkytPOmxcJ"
      },
      "execution_count": null,
      "outputs": []
    },
    {
      "cell_type": "markdown",
      "source": [
        "###HLO(Hidden Layer Output)"
      ],
      "metadata": {
        "id": "IZA-832EnsLA"
      }
    },
    {
      "cell_type": "code",
      "source": [
        "Net, loss_list, f1_list = Trainer3(HLO_DNN(),300, 195, 250, all_image_features)\n",
        "Net.eval()\n",
        "with torch.autograd.no_grad():\n",
        "    hlo_img,hlo_img_hidden = Net(all_image_features.to(dev))"
      ],
      "metadata": {
        "id": "OKuvSb2kzNhh"
      },
      "execution_count": null,
      "outputs": []
    },
    {
      "cell_type": "code",
      "source": [
        "Net, loss_list, f1_list = Trainer3(HLO_DNN(),300, 180, 240, all_text_feature)\n",
        "Net.eval()\n",
        "with torch.autograd.no_grad():\n",
        "    hlo_txt,hlo_txt_hidden = Net(all_text_feature.to(dev))"
      ],
      "metadata": {
        "id": "unXh5Ru1z3YM"
      },
      "execution_count": null,
      "outputs": []
    },
    {
      "cell_type": "code",
      "source": [
        "hlo = hlo_img_hidden+hlo_txt_hidden\n",
        "Net, loss_list, f1_list = Trainer(HLO_DNN2(),300, 180, 240, hlo)\n",
        "Net.eval()\n",
        "with torch.autograd.no_grad():\n",
        "    hlo_fusion = Net(hlo.to(dev))"
      ],
      "metadata": {
        "id": "snT5MzCG2hzu"
      },
      "execution_count": null,
      "outputs": []
    },
    {
      "cell_type": "markdown",
      "source": [
        "## DECISIONS FUSION"
      ],
      "metadata": {
        "id": "_I8um5VJnwE-"
      }
    },
    {
      "cell_type": "markdown",
      "source": [
        "### Sum Fusion"
      ],
      "metadata": {
        "id": "bie1InB1n19F"
      }
    },
    {
      "cell_type": "code",
      "source": [
        "Net, loss_list, f1_list = Trainer(FEATURE_DECISION_DNN(), 300, 195, 250, all_image_features)\n",
        "Net.eval()\n",
        "with torch.autograd.no_grad():\n",
        "    ori_img = Net(all_image_features)"
      ],
      "metadata": {
        "id": "lODIjgQmnqtg"
      },
      "execution_count": null,
      "outputs": []
    },
    {
      "cell_type": "code",
      "source": [
        "Net, loss_list, f1_list = Trainer(FEATURE_DECISION_DNN(),300, 180, 240, all_text_feature)\n",
        "Net.eval()\n",
        "with torch.autograd.no_grad():\n",
        "    ori_txt = Net(all_text_feature)"
      ],
      "metadata": {
        "id": "IWmVz9akPXO6"
      },
      "execution_count": null,
      "outputs": []
    },
    {
      "cell_type": "code",
      "source": [
        "sum = ori_img+ori_txt\n",
        "Net, loss_list, f1_list = Trainer(DECISION_DECISION_DNN(),300, 220, 270, sum)\n",
        "Net.eval()"
      ],
      "metadata": {
        "id": "QiRk420zVHnp"
      },
      "execution_count": null,
      "outputs": []
    },
    {
      "cell_type": "markdown",
      "source": [
        "### Weighted Average fusion"
      ],
      "metadata": {
        "id": "Nt2F6CcpuKS5"
      }
    },
    {
      "cell_type": "code",
      "source": [
        "wa = (0.87*ori_img+0.83*ori_txt)/(0.87+0.83)\n",
        "Net, loss_list, f1_list = Trainer(DECISION_DECISION_DNN(),300, 220, 270, wa)\n",
        "Net.eval()\n",
        "with torch.autograd.no_grad():\n",
        "    WeightedAvg_fusion = Net(wa)"
      ],
      "metadata": {
        "id": "hlFfVuvfuOfj"
      },
      "execution_count": null,
      "outputs": []
    },
    {
      "cell_type": "markdown",
      "source": [
        "### Max Fusion"
      ],
      "metadata": {
        "id": "dpHWNQi0vJWe"
      }
    },
    {
      "cell_type": "code",
      "source": [
        "l = []\n",
        "for num in range(len(ori_img)):\n",
        "    s = []\n",
        "    for i,j in enumerate(zip(ori_img[num], ori_txt[num])):\n",
        "        s.insert(i, max(j))\n",
        "    l.append(s)\n",
        "maxway = torch.tensor(l).to(torch.float32)\n",
        "\n",
        "Net, loss_list, f1_list = Trainer(DECISION_DECISION_DNN(),300, 220, 270, maxway)\n",
        "Net.eval()\n",
        "with torch.autograd.no_grad():\n",
        "    Max_fusion = Net(maxway.to(dev))\n"
      ],
      "metadata": {
        "id": "fw7YT5nDukz_"
      },
      "execution_count": null,
      "outputs": []
    },
    {
      "cell_type": "markdown",
      "source": [
        "## Mixed Fusion"
      ],
      "metadata": {
        "id": "-HvPMs7pvdvf"
      }
    },
    {
      "cell_type": "markdown",
      "source": [
        "### Basic Mixed Fusion"
      ],
      "metadata": {
        "id": "2i1GhwIbw9lF"
      }
    },
    {
      "cell_type": "code",
      "source": [
        "first = flatten_fusion\n",
        "second = ori_img\n",
        "third = ori_txt\n",
        "\n",
        "basicMix = first+second+third\n",
        "Net, loss_list, f1_list = Trainer(DECISION_DECISION_DNN(),300, 220, 270, basicMix)\n",
        "Net.eval()\n",
        "with torch.autograd.no_grad():\n",
        "    basicMix_fusion = Net(basicMix.to(dev))"
      ],
      "metadata": {
        "id": "PJLv7gHFvkZQ"
      },
      "execution_count": null,
      "outputs": []
    },
    {
      "cell_type": "markdown",
      "source": [
        "### HLO Mixed Fusion"
      ],
      "metadata": {
        "id": "-U5AjIgivgOE"
      }
    },
    {
      "cell_type": "code",
      "source": [
        "firsthlo = hlo_fusion\n",
        "secondhlo = ori_img\n",
        "thirdhlo = ori_txt\n",
        "\n",
        "hloMix = firsthlo+secondhlo+thirdhlo\n",
        "Net, loss_list, f1_list = Trainer(DECISION_DECISION_DNN(),300, 220, 270, hloMix)\n",
        "Net.eval()\n",
        "with torch.autograd.no_grad():\n",
        "    hloMix_fusion = Net(hloMix.to(dev))"
      ],
      "metadata": {
        "id": "PCAW---93z_m"
      },
      "execution_count": null,
      "outputs": []
    },
    {
      "cell_type": "markdown",
      "source": [
        "## THIS IS THE MODEL!!!!!!!!!!!! LOOK HERE"
      ],
      "metadata": {
        "id": "adgq-PIR4slP"
      }
    },
    {
      "cell_type": "code",
      "source": [
        "import torch.nn as nn\n",
        "\n",
        "class FEATURE_DECISION_DNN(nn.Module):\n",
        "    def __init__(self):\n",
        "        super().__init__()\n",
        "        self.fc1 = nn.Linear(768, 1024)\n",
        "        self.fc2 = nn.Linear(1024, 512)\n",
        "        self.fc3 = nn.Linear(512, 18)\n",
        "        self.dropout = nn.Dropout(p = 0.5)\n",
        "\n",
        "    def forward(self, inputs):\n",
        "        tensor = F.gelu(self.fc1(inputs))\n",
        "        tensor = self.dropout(tensor)\n",
        "        tensor = F.gelu(self.fc2(tensor))\n",
        "        tensor = self.dropout(tensor)\n",
        "        tensor = torch.sigmoid(self.fc3(tensor))\n",
        "        return tensor\n",
        "\n",
        "class DECISION_DECISION_DNN(nn.Module):\n",
        "    def __init__(self):\n",
        "        super().__init__()\n",
        "        self.fc1 = nn.Linear(18, 512)\n",
        "        self.fc2 = nn.Linear(512, 512)\n",
        "        self.fc3 = nn.Linear(512, 18)\n",
        "\n",
        "    def forward(self, inputs):\n",
        "        tensor = F.gelu(self.fc1(inputs))\n",
        "        tensor = F.gelu(self.fc2(tensor))\n",
        "        tensor = torch.sigmoid(self.fc3(tensor))\n",
        "        return tensor"
      ],
      "metadata": {
        "id": "0MEjdQgc4ro7"
      },
      "execution_count": 11,
      "outputs": []
    },
    {
      "cell_type": "code",
      "source": [
        "pip install torchmetrics"
      ],
      "metadata": {
        "colab": {
          "base_uri": "https://localhost:8080/"
        },
        "id": "t5IfWO805J59",
        "outputId": "eb4d028b-6833-4345-ba62-0f9cd5139eec"
      },
      "execution_count": 12,
      "outputs": [
        {
          "output_type": "stream",
          "name": "stdout",
          "text": [
            "Collecting torchmetrics\n",
            "  Downloading torchmetrics-0.8.2-py3-none-any.whl (409 kB)\n",
            "\u001b[?25l\r\u001b[K     |▉                               | 10 kB 25.9 MB/s eta 0:00:01\r\u001b[K     |█▋                              | 20 kB 29.1 MB/s eta 0:00:01\r\u001b[K     |██▍                             | 30 kB 13.7 MB/s eta 0:00:01\r\u001b[K     |███▏                            | 40 kB 6.2 MB/s eta 0:00:01\r\u001b[K     |████                            | 51 kB 6.2 MB/s eta 0:00:01\r\u001b[K     |████▉                           | 61 kB 7.3 MB/s eta 0:00:01\r\u001b[K     |█████▋                          | 71 kB 7.8 MB/s eta 0:00:01\r\u001b[K     |██████▍                         | 81 kB 7.3 MB/s eta 0:00:01\r\u001b[K     |███████▏                        | 92 kB 8.1 MB/s eta 0:00:01\r\u001b[K     |████████                        | 102 kB 7.1 MB/s eta 0:00:01\r\u001b[K     |████████▉                       | 112 kB 7.1 MB/s eta 0:00:01\r\u001b[K     |█████████▋                      | 122 kB 7.1 MB/s eta 0:00:01\r\u001b[K     |██████████▍                     | 133 kB 7.1 MB/s eta 0:00:01\r\u001b[K     |███████████▏                    | 143 kB 7.1 MB/s eta 0:00:01\r\u001b[K     |████████████                    | 153 kB 7.1 MB/s eta 0:00:01\r\u001b[K     |████████████▉                   | 163 kB 7.1 MB/s eta 0:00:01\r\u001b[K     |█████████████▋                  | 174 kB 7.1 MB/s eta 0:00:01\r\u001b[K     |██████████████▍                 | 184 kB 7.1 MB/s eta 0:00:01\r\u001b[K     |███████████████▏                | 194 kB 7.1 MB/s eta 0:00:01\r\u001b[K     |████████████████                | 204 kB 7.1 MB/s eta 0:00:01\r\u001b[K     |████████████████▉               | 215 kB 7.1 MB/s eta 0:00:01\r\u001b[K     |█████████████████▋              | 225 kB 7.1 MB/s eta 0:00:01\r\u001b[K     |██████████████████▍             | 235 kB 7.1 MB/s eta 0:00:01\r\u001b[K     |███████████████████▏            | 245 kB 7.1 MB/s eta 0:00:01\r\u001b[K     |████████████████████            | 256 kB 7.1 MB/s eta 0:00:01\r\u001b[K     |████████████████████▉           | 266 kB 7.1 MB/s eta 0:00:01\r\u001b[K     |█████████████████████▋          | 276 kB 7.1 MB/s eta 0:00:01\r\u001b[K     |██████████████████████▍         | 286 kB 7.1 MB/s eta 0:00:01\r\u001b[K     |███████████████████████▏        | 296 kB 7.1 MB/s eta 0:00:01\r\u001b[K     |████████████████████████        | 307 kB 7.1 MB/s eta 0:00:01\r\u001b[K     |████████████████████████▉       | 317 kB 7.1 MB/s eta 0:00:01\r\u001b[K     |█████████████████████████▋      | 327 kB 7.1 MB/s eta 0:00:01\r\u001b[K     |██████████████████████████▍     | 337 kB 7.1 MB/s eta 0:00:01\r\u001b[K     |███████████████████████████▏    | 348 kB 7.1 MB/s eta 0:00:01\r\u001b[K     |████████████████████████████    | 358 kB 7.1 MB/s eta 0:00:01\r\u001b[K     |████████████████████████████▉   | 368 kB 7.1 MB/s eta 0:00:01\r\u001b[K     |█████████████████████████████▋  | 378 kB 7.1 MB/s eta 0:00:01\r\u001b[K     |██████████████████████████████▍ | 389 kB 7.1 MB/s eta 0:00:01\r\u001b[K     |███████████████████████████████▏| 399 kB 7.1 MB/s eta 0:00:01\r\u001b[K     |████████████████████████████████| 409 kB 7.1 MB/s eta 0:00:01\r\u001b[K     |████████████████████████████████| 409 kB 7.1 MB/s \n",
            "\u001b[?25hRequirement already satisfied: torch>=1.3.1 in /usr/local/lib/python3.7/dist-packages (from torchmetrics) (1.11.0+cu113)\n",
            "Collecting pyDeprecate==0.3.*\n",
            "  Downloading pyDeprecate-0.3.2-py3-none-any.whl (10 kB)\n",
            "Requirement already satisfied: packaging in /usr/local/lib/python3.7/dist-packages (from torchmetrics) (21.3)\n",
            "Requirement already satisfied: numpy>=1.17.2 in /usr/local/lib/python3.7/dist-packages (from torchmetrics) (1.21.6)\n",
            "Requirement already satisfied: typing-extensions in /usr/local/lib/python3.7/dist-packages (from torch>=1.3.1->torchmetrics) (4.2.0)\n",
            "Requirement already satisfied: pyparsing!=3.0.5,>=2.0.2 in /usr/local/lib/python3.7/dist-packages (from packaging->torchmetrics) (3.0.9)\n",
            "Installing collected packages: pyDeprecate, torchmetrics\n",
            "Successfully installed pyDeprecate-0.3.2 torchmetrics-0.8.2\n"
          ]
        }
      ]
    },
    {
      "cell_type": "code",
      "source": [
        "\n",
        "import numpy as np\n",
        "from tqdm import tqdm\n",
        "import torch.nn.functional as F\n",
        "from torchmetrics import F1Score\n",
        "from torch import optim\n",
        "\n",
        "from torch.utils.data import TensorDataset\n",
        "from torch.utils.data import DataLoader\n",
        "def Trainer(net, epoch, epoch_step_1, epoch_step_2, Data):\n",
        "\n",
        "    train_data = DataLoader(TensorDataset(Data[:29400], label_onehot_tensor[:29400]), batch_size=30000, shuffle = False)\n",
        "    val_data = DataLoader(TensorDataset(Data[29400:], label_onehot_tensor[29400:].to(torch.int32)), batch_size=600, shuffle = False)\n",
        "\n",
        "    dev = \"cuda\" if torch.cuda.is_available() else \"cpu\"\n",
        "    Net = net.to(dev)\n",
        "    opti = optim.Adam(Net.parameters(), lr = 1e-3)\n",
        "    scheduler = torch.optim.lr_scheduler.MultiStepLR(opti, milestones=[epoch_step_1,epoch_step_2], gamma = 0.1)\n",
        "    f1 = F1Score(num_classes=18).to(dev)\n",
        "\n",
        "    epoch = epoch\n",
        "    loss_list = []\n",
        "    f1_list = []\n",
        "\n",
        "    for epoch in tqdm(range(epoch), colour = 'GREEN'):\n",
        "        for data, label in train_data:      \n",
        "            data, label = data.to(dev), label.to(dev)\n",
        "            preds = Net(data)        \n",
        "            loss = F.binary_cross_entropy(preds, label)\n",
        "            loss.backward()\n",
        "            opti.step()\n",
        "            scheduler.step()\n",
        "            opti.zero_grad()\n",
        "        loss_list.append(loss)\n",
        "\n",
        "        Net.eval()\n",
        "        with torch.autograd.no_grad():\n",
        "            for data_val, label_val in val_data:\n",
        "                data_val, label_val = data_val.to(dev), label_val.to(dev)\n",
        "                predict = Net(data_val)\n",
        "                f1_score = f1(predict, label_val)\n",
        "            print('F1 in epoch{} : {:.4f}'.format(epoch, f1_score))\n",
        "        f1_list.append(f1_score)\n",
        "    \n",
        "    return Net, loss_list, f1_list"
      ],
      "metadata": {
        "id": "c0HXIl-K5Q5f"
      },
      "execution_count": 16,
      "outputs": []
    },
    {
      "cell_type": "code",
      "source": [
        "dev = \"cuda\" if torch.cuda.is_available() else \"cpu\"\n",
        "\n",
        "Net, loss_list, f1_list = Trainer(FEATURE_DECISION_DNN(), 240, 190, 240, all_image_features)\n",
        "Net.eval()\n",
        "with torch.autograd.no_grad():\n",
        "    img_train = Net(all_image_features.to(dev))\n",
        "    img_test = Net(test_image_features.to(dev))"
      ],
      "metadata": {
        "id": "beNtFjet5S3A"
      },
      "execution_count": 19,
      "outputs": []
    },
    {
      "cell_type": "code",
      "source": [
        "Net, loss_list, f1_list = Trainer(FEATURE_DECISION_DNN(), 180, 180, 180, all_text_feature)\n",
        "Net.eval()\n",
        "with torch.autograd.no_grad():\n",
        "    txt_train = Net(all_text_feature.to(dev))\n",
        "    txt_test = Net(test_text_feature.to(dev))"
      ],
      "metadata": {
        "id": "eWG4Pold5aVc",
        "colab": {
          "base_uri": "https://localhost:8080/"
        },
        "outputId": "427a0893-e274-4fee-90c4-9e24224f4224"
      },
      "execution_count": 20,
      "outputs": [
        {
          "output_type": "stream",
          "name": "stderr",
          "text": [
            "  0%|\u001b[32m          \u001b[0m| 1/300 [00:00<01:32,  3.25it/s]"
          ]
        },
        {
          "output_type": "stream",
          "name": "stdout",
          "text": [
            "F1 in epoch0 : 0.5782\n"
          ]
        },
        {
          "output_type": "stream",
          "name": "stderr",
          "text": [
            "\r  1%|\u001b[32m          \u001b[0m| 2/300 [00:00<01:47,  2.76it/s]"
          ]
        },
        {
          "output_type": "stream",
          "name": "stdout",
          "text": [
            "F1 in epoch1 : 0.5778\n"
          ]
        },
        {
          "output_type": "stream",
          "name": "stderr",
          "text": [
            "\r  1%|\u001b[32m          \u001b[0m| 3/300 [00:01<01:40,  2.95it/s]"
          ]
        },
        {
          "output_type": "stream",
          "name": "stdout",
          "text": [
            "F1 in epoch2 : 0.5778\n"
          ]
        },
        {
          "output_type": "stream",
          "name": "stderr",
          "text": [
            "\r  1%|\u001b[32m▏         \u001b[0m| 4/300 [00:01<01:37,  3.04it/s]"
          ]
        },
        {
          "output_type": "stream",
          "name": "stdout",
          "text": [
            "F1 in epoch3 : 0.5778\n"
          ]
        },
        {
          "output_type": "stream",
          "name": "stderr",
          "text": [
            "\r  2%|\u001b[32m▏         \u001b[0m| 5/300 [00:01<01:33,  3.14it/s]"
          ]
        },
        {
          "output_type": "stream",
          "name": "stdout",
          "text": [
            "F1 in epoch4 : 0.5778\n"
          ]
        },
        {
          "output_type": "stream",
          "name": "stderr",
          "text": [
            "\r  2%|\u001b[32m▏         \u001b[0m| 6/300 [00:02<01:41,  2.90it/s]"
          ]
        },
        {
          "output_type": "stream",
          "name": "stdout",
          "text": [
            "F1 in epoch5 : 0.5778\n"
          ]
        },
        {
          "output_type": "stream",
          "name": "stderr",
          "text": [
            "\r  2%|\u001b[32m▏         \u001b[0m| 7/300 [00:02<01:38,  2.99it/s]"
          ]
        },
        {
          "output_type": "stream",
          "name": "stdout",
          "text": [
            "F1 in epoch6 : 0.5778\n"
          ]
        },
        {
          "output_type": "stream",
          "name": "stderr",
          "text": [
            "\r  3%|\u001b[32m▎         \u001b[0m| 8/300 [00:02<01:35,  3.07it/s]"
          ]
        },
        {
          "output_type": "stream",
          "name": "stdout",
          "text": [
            "F1 in epoch7 : 0.5778\n"
          ]
        },
        {
          "output_type": "stream",
          "name": "stderr",
          "text": [
            "\r  3%|\u001b[32m▎         \u001b[0m| 9/300 [00:02<01:32,  3.16it/s]"
          ]
        },
        {
          "output_type": "stream",
          "name": "stdout",
          "text": [
            "F1 in epoch8 : 0.5778\n"
          ]
        },
        {
          "output_type": "stream",
          "name": "stderr",
          "text": [
            "\r  3%|\u001b[32m▎         \u001b[0m| 10/300 [00:03<01:39,  2.91it/s]"
          ]
        },
        {
          "output_type": "stream",
          "name": "stdout",
          "text": [
            "F1 in epoch9 : 0.5771\n"
          ]
        },
        {
          "output_type": "stream",
          "name": "stderr",
          "text": [
            "\r  4%|\u001b[32m▎         \u001b[0m| 11/300 [00:03<01:36,  2.99it/s]"
          ]
        },
        {
          "output_type": "stream",
          "name": "stdout",
          "text": [
            "F1 in epoch10 : 0.5772\n"
          ]
        },
        {
          "output_type": "stream",
          "name": "stderr",
          "text": [
            "\r  4%|\u001b[32m▍         \u001b[0m| 12/300 [00:03<01:33,  3.07it/s]"
          ]
        },
        {
          "output_type": "stream",
          "name": "stdout",
          "text": [
            "F1 in epoch11 : 0.5826\n"
          ]
        },
        {
          "output_type": "stream",
          "name": "stderr",
          "text": [
            "\r  4%|\u001b[32m▍         \u001b[0m| 13/300 [00:04<01:36,  2.99it/s]"
          ]
        },
        {
          "output_type": "stream",
          "name": "stdout",
          "text": [
            "F1 in epoch12 : 0.5791\n"
          ]
        },
        {
          "output_type": "stream",
          "name": "stderr",
          "text": [
            "\r  5%|\u001b[32m▍         \u001b[0m| 14/300 [00:04<01:33,  3.06it/s]"
          ]
        },
        {
          "output_type": "stream",
          "name": "stdout",
          "text": [
            "F1 in epoch13 : 0.5773\n"
          ]
        },
        {
          "output_type": "stream",
          "name": "stderr",
          "text": [
            "\r  5%|\u001b[32m▌         \u001b[0m| 15/300 [00:04<01:30,  3.14it/s]"
          ]
        },
        {
          "output_type": "stream",
          "name": "stdout",
          "text": [
            "F1 in epoch14 : 0.5783\n"
          ]
        },
        {
          "output_type": "stream",
          "name": "stderr",
          "text": [
            "\r  5%|\u001b[32m▌         \u001b[0m| 16/300 [00:05<01:29,  3.19it/s]"
          ]
        },
        {
          "output_type": "stream",
          "name": "stdout",
          "text": [
            "F1 in epoch15 : 0.5793\n"
          ]
        },
        {
          "output_type": "stream",
          "name": "stderr",
          "text": [
            "\r  6%|\u001b[32m▌         \u001b[0m| 17/300 [00:05<01:35,  2.95it/s]"
          ]
        },
        {
          "output_type": "stream",
          "name": "stdout",
          "text": [
            "F1 in epoch16 : 0.5882\n"
          ]
        },
        {
          "output_type": "stream",
          "name": "stderr",
          "text": [
            "\r  6%|\u001b[32m▌         \u001b[0m| 18/300 [00:05<01:33,  3.01it/s]"
          ]
        },
        {
          "output_type": "stream",
          "name": "stdout",
          "text": [
            "F1 in epoch17 : 0.5892\n"
          ]
        },
        {
          "output_type": "stream",
          "name": "stderr",
          "text": [
            "\r  6%|\u001b[32m▋         \u001b[0m| 19/300 [00:06<01:31,  3.06it/s]"
          ]
        },
        {
          "output_type": "stream",
          "name": "stdout",
          "text": [
            "F1 in epoch18 : 0.5928\n"
          ]
        },
        {
          "output_type": "stream",
          "name": "stderr",
          "text": [
            "\r  7%|\u001b[32m▋         \u001b[0m| 20/300 [00:06<01:29,  3.14it/s]"
          ]
        },
        {
          "output_type": "stream",
          "name": "stdout",
          "text": [
            "F1 in epoch19 : 0.6083\n"
          ]
        },
        {
          "output_type": "stream",
          "name": "stderr",
          "text": [
            "\r  7%|\u001b[32m▋         \u001b[0m| 21/300 [00:06<01:36,  2.90it/s]"
          ]
        },
        {
          "output_type": "stream",
          "name": "stdout",
          "text": [
            "F1 in epoch20 : 0.6149\n"
          ]
        },
        {
          "output_type": "stream",
          "name": "stderr",
          "text": [
            "\r  7%|\u001b[32m▋         \u001b[0m| 22/300 [00:07<01:33,  2.99it/s]"
          ]
        },
        {
          "output_type": "stream",
          "name": "stdout",
          "text": [
            "F1 in epoch21 : 0.6231\n"
          ]
        },
        {
          "output_type": "stream",
          "name": "stderr",
          "text": [
            "\r  8%|\u001b[32m▊         \u001b[0m| 23/300 [00:07<01:30,  3.07it/s]"
          ]
        },
        {
          "output_type": "stream",
          "name": "stdout",
          "text": [
            "F1 in epoch22 : 0.6316\n"
          ]
        },
        {
          "output_type": "stream",
          "name": "stderr",
          "text": [
            "\r  8%|\u001b[32m▊         \u001b[0m| 24/300 [00:07<01:36,  2.86it/s]"
          ]
        },
        {
          "output_type": "stream",
          "name": "stdout",
          "text": [
            "F1 in epoch23 : 0.6346\n"
          ]
        },
        {
          "output_type": "stream",
          "name": "stderr",
          "text": [
            "\r  8%|\u001b[32m▊         \u001b[0m| 25/300 [00:08<01:33,  2.95it/s]"
          ]
        },
        {
          "output_type": "stream",
          "name": "stdout",
          "text": [
            "F1 in epoch24 : 0.6357\n"
          ]
        },
        {
          "output_type": "stream",
          "name": "stderr",
          "text": [
            "\r  9%|\u001b[32m▊         \u001b[0m| 26/300 [00:08<01:30,  3.02it/s]"
          ]
        },
        {
          "output_type": "stream",
          "name": "stdout",
          "text": [
            "F1 in epoch25 : 0.6396\n"
          ]
        },
        {
          "output_type": "stream",
          "name": "stderr",
          "text": [
            "\r  9%|\u001b[32m▉         \u001b[0m| 27/300 [00:08<01:28,  3.10it/s]"
          ]
        },
        {
          "output_type": "stream",
          "name": "stdout",
          "text": [
            "F1 in epoch26 : 0.6425\n"
          ]
        },
        {
          "output_type": "stream",
          "name": "stderr",
          "text": [
            "\r  9%|\u001b[32m▉         \u001b[0m| 28/300 [00:09<01:34,  2.86it/s]"
          ]
        },
        {
          "output_type": "stream",
          "name": "stdout",
          "text": [
            "F1 in epoch27 : 0.6500\n"
          ]
        },
        {
          "output_type": "stream",
          "name": "stderr",
          "text": [
            "\r 10%|\u001b[32m▉         \u001b[0m| 29/300 [00:09<01:31,  2.97it/s]"
          ]
        },
        {
          "output_type": "stream",
          "name": "stdout",
          "text": [
            "F1 in epoch28 : 0.6742\n"
          ]
        },
        {
          "output_type": "stream",
          "name": "stderr",
          "text": [
            "\r 10%|\u001b[32m█         \u001b[0m| 30/300 [00:09<01:28,  3.04it/s]"
          ]
        },
        {
          "output_type": "stream",
          "name": "stdout",
          "text": [
            "F1 in epoch29 : 0.6999\n"
          ]
        },
        {
          "output_type": "stream",
          "name": "stderr",
          "text": [
            "\r 10%|\u001b[32m█         \u001b[0m| 31/300 [00:10<01:26,  3.10it/s]"
          ]
        },
        {
          "output_type": "stream",
          "name": "stdout",
          "text": [
            "F1 in epoch30 : 0.7118\n"
          ]
        },
        {
          "output_type": "stream",
          "name": "stderr",
          "text": [
            "\r 11%|\u001b[32m█         \u001b[0m| 32/300 [00:10<01:32,  2.88it/s]"
          ]
        },
        {
          "output_type": "stream",
          "name": "stdout",
          "text": [
            "F1 in epoch31 : 0.7189\n"
          ]
        },
        {
          "output_type": "stream",
          "name": "stderr",
          "text": [
            "\r 11%|\u001b[32m█         \u001b[0m| 33/300 [00:10<01:30,  2.96it/s]"
          ]
        },
        {
          "output_type": "stream",
          "name": "stdout",
          "text": [
            "F1 in epoch32 : 0.7299\n"
          ]
        },
        {
          "output_type": "stream",
          "name": "stderr",
          "text": [
            "\r 11%|\u001b[32m█▏        \u001b[0m| 34/300 [00:11<01:27,  3.03it/s]"
          ]
        },
        {
          "output_type": "stream",
          "name": "stdout",
          "text": [
            "F1 in epoch33 : 0.7324\n"
          ]
        },
        {
          "output_type": "stream",
          "name": "stderr",
          "text": [
            "\r 12%|\u001b[32m█▏        \u001b[0m| 35/300 [00:11<01:25,  3.10it/s]"
          ]
        },
        {
          "output_type": "stream",
          "name": "stdout",
          "text": [
            "F1 in epoch34 : 0.7351\n"
          ]
        },
        {
          "output_type": "stream",
          "name": "stderr",
          "text": [
            "\r 12%|\u001b[32m█▏        \u001b[0m| 36/300 [00:11<01:31,  2.88it/s]"
          ]
        },
        {
          "output_type": "stream",
          "name": "stdout",
          "text": [
            "F1 in epoch35 : 0.7373\n"
          ]
        },
        {
          "output_type": "stream",
          "name": "stderr",
          "text": [
            "\r 12%|\u001b[32m█▏        \u001b[0m| 37/300 [00:12<01:28,  2.98it/s]"
          ]
        },
        {
          "output_type": "stream",
          "name": "stdout",
          "text": [
            "F1 in epoch36 : 0.7418\n"
          ]
        },
        {
          "output_type": "stream",
          "name": "stderr",
          "text": [
            "\r 13%|\u001b[32m█▎        \u001b[0m| 38/300 [00:12<01:25,  3.06it/s]"
          ]
        },
        {
          "output_type": "stream",
          "name": "stdout",
          "text": [
            "F1 in epoch37 : 0.7554\n"
          ]
        },
        {
          "output_type": "stream",
          "name": "stderr",
          "text": [
            "\r 13%|\u001b[32m█▎        \u001b[0m| 39/300 [00:12<01:23,  3.12it/s]"
          ]
        },
        {
          "output_type": "stream",
          "name": "stdout",
          "text": [
            "F1 in epoch38 : 0.7575\n"
          ]
        },
        {
          "output_type": "stream",
          "name": "stderr",
          "text": [
            "\r 13%|\u001b[32m█▎        \u001b[0m| 40/300 [00:13<01:30,  2.88it/s]"
          ]
        },
        {
          "output_type": "stream",
          "name": "stdout",
          "text": [
            "F1 in epoch39 : 0.7665\n"
          ]
        },
        {
          "output_type": "stream",
          "name": "stderr",
          "text": [
            "\r 14%|\u001b[32m█▎        \u001b[0m| 41/300 [00:13<01:27,  2.97it/s]"
          ]
        },
        {
          "output_type": "stream",
          "name": "stdout",
          "text": [
            "F1 in epoch40 : 0.7703\n"
          ]
        },
        {
          "output_type": "stream",
          "name": "stderr",
          "text": [
            "\r 14%|\u001b[32m█▍        \u001b[0m| 42/300 [00:13<01:24,  3.06it/s]"
          ]
        },
        {
          "output_type": "stream",
          "name": "stdout",
          "text": [
            "F1 in epoch41 : 0.7696\n"
          ]
        },
        {
          "output_type": "stream",
          "name": "stderr",
          "text": [
            "\r 14%|\u001b[32m█▍        \u001b[0m| 43/300 [00:14<01:21,  3.14it/s]"
          ]
        },
        {
          "output_type": "stream",
          "name": "stdout",
          "text": [
            "F1 in epoch42 : 0.7722\n"
          ]
        },
        {
          "output_type": "stream",
          "name": "stderr",
          "text": [
            "\r 15%|\u001b[32m█▍        \u001b[0m| 44/300 [00:14<01:27,  2.91it/s]"
          ]
        },
        {
          "output_type": "stream",
          "name": "stdout",
          "text": [
            "F1 in epoch43 : 0.7736\n"
          ]
        },
        {
          "output_type": "stream",
          "name": "stderr",
          "text": [
            "\r 15%|\u001b[32m█▌        \u001b[0m| 45/300 [00:14<01:24,  3.00it/s]"
          ]
        },
        {
          "output_type": "stream",
          "name": "stdout",
          "text": [
            "F1 in epoch44 : 0.7767\n"
          ]
        },
        {
          "output_type": "stream",
          "name": "stderr",
          "text": [
            "\r 15%|\u001b[32m█▌        \u001b[0m| 46/300 [00:15<01:23,  3.05it/s]"
          ]
        },
        {
          "output_type": "stream",
          "name": "stdout",
          "text": [
            "F1 in epoch45 : 0.7784\n"
          ]
        },
        {
          "output_type": "stream",
          "name": "stderr",
          "text": [
            "\r 16%|\u001b[32m█▌        \u001b[0m| 47/300 [00:15<01:20,  3.13it/s]"
          ]
        },
        {
          "output_type": "stream",
          "name": "stdout",
          "text": [
            "F1 in epoch46 : 0.7784\n"
          ]
        },
        {
          "output_type": "stream",
          "name": "stderr",
          "text": [
            "\r 16%|\u001b[32m█▌        \u001b[0m| 48/300 [00:15<01:26,  2.90it/s]"
          ]
        },
        {
          "output_type": "stream",
          "name": "stdout",
          "text": [
            "F1 in epoch47 : 0.7831\n"
          ]
        },
        {
          "output_type": "stream",
          "name": "stderr",
          "text": [
            "\r 16%|\u001b[32m█▋        \u001b[0m| 49/300 [00:16<01:23,  2.99it/s]"
          ]
        },
        {
          "output_type": "stream",
          "name": "stdout",
          "text": [
            "F1 in epoch48 : 0.7835\n"
          ]
        },
        {
          "output_type": "stream",
          "name": "stderr",
          "text": [
            "\r 17%|\u001b[32m█▋        \u001b[0m| 50/300 [00:16<01:21,  3.08it/s]"
          ]
        },
        {
          "output_type": "stream",
          "name": "stdout",
          "text": [
            "F1 in epoch49 : 0.7899\n"
          ]
        },
        {
          "output_type": "stream",
          "name": "stderr",
          "text": [
            "\r 17%|\u001b[32m█▋        \u001b[0m| 51/300 [00:16<01:26,  2.88it/s]"
          ]
        },
        {
          "output_type": "stream",
          "name": "stdout",
          "text": [
            "F1 in epoch50 : 0.7921\n"
          ]
        },
        {
          "output_type": "stream",
          "name": "stderr",
          "text": [
            "\r 17%|\u001b[32m█▋        \u001b[0m| 52/300 [00:17<01:23,  2.95it/s]"
          ]
        },
        {
          "output_type": "stream",
          "name": "stdout",
          "text": [
            "F1 in epoch51 : 0.7905\n"
          ]
        },
        {
          "output_type": "stream",
          "name": "stderr",
          "text": [
            "\r 18%|\u001b[32m█▊        \u001b[0m| 53/300 [00:17<01:21,  3.03it/s]"
          ]
        },
        {
          "output_type": "stream",
          "name": "stdout",
          "text": [
            "F1 in epoch52 : 0.7968\n"
          ]
        },
        {
          "output_type": "stream",
          "name": "stderr",
          "text": [
            "\r 18%|\u001b[32m█▊        \u001b[0m| 54/300 [00:17<01:19,  3.09it/s]"
          ]
        },
        {
          "output_type": "stream",
          "name": "stdout",
          "text": [
            "F1 in epoch53 : 0.7977\n"
          ]
        },
        {
          "output_type": "stream",
          "name": "stderr",
          "text": [
            "\r 18%|\u001b[32m█▊        \u001b[0m| 55/300 [00:18<01:27,  2.81it/s]"
          ]
        },
        {
          "output_type": "stream",
          "name": "stdout",
          "text": [
            "F1 in epoch54 : 0.8009\n"
          ]
        },
        {
          "output_type": "stream",
          "name": "stderr",
          "text": [
            "\r 19%|\u001b[32m█▊        \u001b[0m| 56/300 [00:18<01:23,  2.92it/s]"
          ]
        },
        {
          "output_type": "stream",
          "name": "stdout",
          "text": [
            "F1 in epoch55 : 0.8021\n"
          ]
        },
        {
          "output_type": "stream",
          "name": "stderr",
          "text": [
            "\r 19%|\u001b[32m█▉        \u001b[0m| 57/300 [00:18<01:21,  2.98it/s]"
          ]
        },
        {
          "output_type": "stream",
          "name": "stdout",
          "text": [
            "F1 in epoch56 : 0.7995\n"
          ]
        },
        {
          "output_type": "stream",
          "name": "stderr",
          "text": [
            "\r 19%|\u001b[32m█▉        \u001b[0m| 58/300 [00:19<01:19,  3.03it/s]"
          ]
        },
        {
          "output_type": "stream",
          "name": "stdout",
          "text": [
            "F1 in epoch57 : 0.7984\n"
          ]
        },
        {
          "output_type": "stream",
          "name": "stderr",
          "text": [
            "\r 20%|\u001b[32m█▉        \u001b[0m| 59/300 [00:19<01:24,  2.84it/s]"
          ]
        },
        {
          "output_type": "stream",
          "name": "stdout",
          "text": [
            "F1 in epoch58 : 0.7991\n"
          ]
        },
        {
          "output_type": "stream",
          "name": "stderr",
          "text": [
            "\r 20%|\u001b[32m██        \u001b[0m| 60/300 [00:20<01:22,  2.92it/s]"
          ]
        },
        {
          "output_type": "stream",
          "name": "stdout",
          "text": [
            "F1 in epoch59 : 0.8049\n"
          ]
        },
        {
          "output_type": "stream",
          "name": "stderr",
          "text": [
            "\r 20%|\u001b[32m██        \u001b[0m| 61/300 [00:20<01:19,  3.01it/s]"
          ]
        },
        {
          "output_type": "stream",
          "name": "stdout",
          "text": [
            "F1 in epoch60 : 0.8093\n"
          ]
        },
        {
          "output_type": "stream",
          "name": "stderr",
          "text": [
            "\r 21%|\u001b[32m██        \u001b[0m| 62/300 [00:20<01:16,  3.10it/s]"
          ]
        },
        {
          "output_type": "stream",
          "name": "stdout",
          "text": [
            "F1 in epoch61 : 0.8118\n"
          ]
        },
        {
          "output_type": "stream",
          "name": "stderr",
          "text": [
            "\r 21%|\u001b[32m██        \u001b[0m| 63/300 [00:21<01:22,  2.88it/s]"
          ]
        },
        {
          "output_type": "stream",
          "name": "stdout",
          "text": [
            "F1 in epoch62 : 0.8155\n"
          ]
        },
        {
          "output_type": "stream",
          "name": "stderr",
          "text": [
            "\r 21%|\u001b[32m██▏       \u001b[0m| 64/300 [00:21<01:20,  2.93it/s]"
          ]
        },
        {
          "output_type": "stream",
          "name": "stdout",
          "text": [
            "F1 in epoch63 : 0.8155\n"
          ]
        },
        {
          "output_type": "stream",
          "name": "stderr",
          "text": [
            "\r 22%|\u001b[32m██▏       \u001b[0m| 65/300 [00:21<01:19,  2.97it/s]"
          ]
        },
        {
          "output_type": "stream",
          "name": "stdout",
          "text": [
            "F1 in epoch64 : 0.8153\n"
          ]
        },
        {
          "output_type": "stream",
          "name": "stderr",
          "text": [
            "\r 22%|\u001b[32m██▏       \u001b[0m| 66/300 [00:22<01:16,  3.05it/s]"
          ]
        },
        {
          "output_type": "stream",
          "name": "stdout",
          "text": [
            "F1 in epoch65 : 0.8151\n"
          ]
        },
        {
          "output_type": "stream",
          "name": "stderr",
          "text": [
            "\r 22%|\u001b[32m██▏       \u001b[0m| 67/300 [00:22<01:21,  2.86it/s]"
          ]
        },
        {
          "output_type": "stream",
          "name": "stdout",
          "text": [
            "F1 in epoch66 : 0.8146\n"
          ]
        },
        {
          "output_type": "stream",
          "name": "stderr",
          "text": [
            "\r 23%|\u001b[32m██▎       \u001b[0m| 68/300 [00:22<01:18,  2.96it/s]"
          ]
        },
        {
          "output_type": "stream",
          "name": "stdout",
          "text": [
            "F1 in epoch67 : 0.8169\n"
          ]
        },
        {
          "output_type": "stream",
          "name": "stderr",
          "text": [
            "\r 23%|\u001b[32m██▎       \u001b[0m| 69/300 [00:23<01:15,  3.06it/s]"
          ]
        },
        {
          "output_type": "stream",
          "name": "stdout",
          "text": [
            "F1 in epoch68 : 0.8183\n"
          ]
        },
        {
          "output_type": "stream",
          "name": "stderr",
          "text": [
            "\r 23%|\u001b[32m██▎       \u001b[0m| 70/300 [00:23<01:14,  3.08it/s]"
          ]
        },
        {
          "output_type": "stream",
          "name": "stdout",
          "text": [
            "F1 in epoch69 : 0.8183\n"
          ]
        },
        {
          "output_type": "stream",
          "name": "stderr",
          "text": [
            "\r 24%|\u001b[32m██▎       \u001b[0m| 71/300 [00:23<01:19,  2.89it/s]"
          ]
        },
        {
          "output_type": "stream",
          "name": "stdout",
          "text": [
            "F1 in epoch70 : 0.8203\n"
          ]
        },
        {
          "output_type": "stream",
          "name": "stderr",
          "text": [
            "\r 24%|\u001b[32m██▍       \u001b[0m| 72/300 [00:24<01:16,  2.97it/s]"
          ]
        },
        {
          "output_type": "stream",
          "name": "stdout",
          "text": [
            "F1 in epoch71 : 0.8237\n"
          ]
        },
        {
          "output_type": "stream",
          "name": "stderr",
          "text": [
            "\r 24%|\u001b[32m██▍       \u001b[0m| 73/300 [00:24<01:14,  3.06it/s]"
          ]
        },
        {
          "output_type": "stream",
          "name": "stdout",
          "text": [
            "F1 in epoch72 : 0.8256\n"
          ]
        },
        {
          "output_type": "stream",
          "name": "stderr",
          "text": [
            "\r 25%|\u001b[32m██▍       \u001b[0m| 74/300 [00:24<01:11,  3.15it/s]"
          ]
        },
        {
          "output_type": "stream",
          "name": "stdout",
          "text": [
            "F1 in epoch73 : 0.8260\n"
          ]
        },
        {
          "output_type": "stream",
          "name": "stderr",
          "text": [
            "\r 25%|\u001b[32m██▌       \u001b[0m| 75/300 [00:25<01:17,  2.92it/s]"
          ]
        },
        {
          "output_type": "stream",
          "name": "stdout",
          "text": [
            "F1 in epoch74 : 0.8252\n"
          ]
        },
        {
          "output_type": "stream",
          "name": "stderr",
          "text": [
            "\r 25%|\u001b[32m██▌       \u001b[0m| 76/300 [00:25<01:16,  2.92it/s]"
          ]
        },
        {
          "output_type": "stream",
          "name": "stdout",
          "text": [
            "F1 in epoch75 : 0.8261\n"
          ]
        },
        {
          "output_type": "stream",
          "name": "stderr",
          "text": [
            "\r 26%|\u001b[32m██▌       \u001b[0m| 77/300 [00:25<01:14,  2.98it/s]"
          ]
        },
        {
          "output_type": "stream",
          "name": "stdout",
          "text": [
            "F1 in epoch76 : 0.8261\n"
          ]
        },
        {
          "output_type": "stream",
          "name": "stderr",
          "text": [
            "\r 26%|\u001b[32m██▌       \u001b[0m| 78/300 [00:26<01:12,  3.06it/s]"
          ]
        },
        {
          "output_type": "stream",
          "name": "stdout",
          "text": [
            "F1 in epoch77 : 0.8245\n"
          ]
        },
        {
          "output_type": "stream",
          "name": "stderr",
          "text": [
            "\r 26%|\u001b[32m██▋       \u001b[0m| 79/300 [00:26<01:16,  2.87it/s]"
          ]
        },
        {
          "output_type": "stream",
          "name": "stdout",
          "text": [
            "F1 in epoch78 : 0.8262\n"
          ]
        },
        {
          "output_type": "stream",
          "name": "stderr",
          "text": [
            "\r 27%|\u001b[32m██▋       \u001b[0m| 80/300 [00:26<01:13,  2.98it/s]"
          ]
        },
        {
          "output_type": "stream",
          "name": "stdout",
          "text": [
            "F1 in epoch79 : 0.8267\n"
          ]
        },
        {
          "output_type": "stream",
          "name": "stderr",
          "text": [
            "\r 27%|\u001b[32m██▋       \u001b[0m| 81/300 [00:27<01:11,  3.08it/s]"
          ]
        },
        {
          "output_type": "stream",
          "name": "stdout",
          "text": [
            "F1 in epoch80 : 0.8260\n"
          ]
        },
        {
          "output_type": "stream",
          "name": "stderr",
          "text": [
            "\r 27%|\u001b[32m██▋       \u001b[0m| 82/300 [00:27<01:12,  2.99it/s]"
          ]
        },
        {
          "output_type": "stream",
          "name": "stdout",
          "text": [
            "F1 in epoch81 : 0.8263\n"
          ]
        },
        {
          "output_type": "stream",
          "name": "stderr",
          "text": [
            "\r 28%|\u001b[32m██▊       \u001b[0m| 83/300 [00:27<01:11,  3.04it/s]"
          ]
        },
        {
          "output_type": "stream",
          "name": "stdout",
          "text": [
            "F1 in epoch82 : 0.8259\n"
          ]
        },
        {
          "output_type": "stream",
          "name": "stderr",
          "text": [
            "\r 28%|\u001b[32m██▊       \u001b[0m| 84/300 [00:28<01:09,  3.09it/s]"
          ]
        },
        {
          "output_type": "stream",
          "name": "stdout",
          "text": [
            "F1 in epoch83 : 0.8252\n"
          ]
        },
        {
          "output_type": "stream",
          "name": "stderr",
          "text": [
            "\r 28%|\u001b[32m██▊       \u001b[0m| 85/300 [00:28<01:07,  3.17it/s]"
          ]
        },
        {
          "output_type": "stream",
          "name": "stdout",
          "text": [
            "F1 in epoch84 : 0.8277\n"
          ]
        },
        {
          "output_type": "stream",
          "name": "stderr",
          "text": [
            "\r 29%|\u001b[32m██▊       \u001b[0m| 86/300 [00:28<01:12,  2.94it/s]"
          ]
        },
        {
          "output_type": "stream",
          "name": "stdout",
          "text": [
            "F1 in epoch85 : 0.8271\n"
          ]
        },
        {
          "output_type": "stream",
          "name": "stderr",
          "text": [
            "\r 29%|\u001b[32m██▉       \u001b[0m| 87/300 [00:29<01:10,  3.03it/s]"
          ]
        },
        {
          "output_type": "stream",
          "name": "stdout",
          "text": [
            "F1 in epoch86 : 0.8275\n"
          ]
        },
        {
          "output_type": "stream",
          "name": "stderr",
          "text": [
            "\r 29%|\u001b[32m██▉       \u001b[0m| 88/300 [00:29<01:09,  3.04it/s]"
          ]
        },
        {
          "output_type": "stream",
          "name": "stdout",
          "text": [
            "F1 in epoch87 : 0.8275\n"
          ]
        },
        {
          "output_type": "stream",
          "name": "stderr",
          "text": [
            "\r 30%|\u001b[32m██▉       \u001b[0m| 89/300 [00:29<01:08,  3.06it/s]"
          ]
        },
        {
          "output_type": "stream",
          "name": "stdout",
          "text": [
            "F1 in epoch88 : 0.8280\n"
          ]
        },
        {
          "output_type": "stream",
          "name": "stderr",
          "text": [
            "\r 30%|\u001b[32m███       \u001b[0m| 90/300 [00:30<01:13,  2.84it/s]"
          ]
        },
        {
          "output_type": "stream",
          "name": "stdout",
          "text": [
            "F1 in epoch89 : 0.8273\n"
          ]
        },
        {
          "output_type": "stream",
          "name": "stderr",
          "text": [
            "\r 30%|\u001b[32m███       \u001b[0m| 91/300 [00:30<01:10,  2.96it/s]"
          ]
        },
        {
          "output_type": "stream",
          "name": "stdout",
          "text": [
            "F1 in epoch90 : 0.8269\n"
          ]
        },
        {
          "output_type": "stream",
          "name": "stderr",
          "text": [
            "\r 31%|\u001b[32m███       \u001b[0m| 92/300 [00:30<01:07,  3.07it/s]"
          ]
        },
        {
          "output_type": "stream",
          "name": "stdout",
          "text": [
            "F1 in epoch91 : 0.8275\n"
          ]
        },
        {
          "output_type": "stream",
          "name": "stderr",
          "text": [
            "\r 31%|\u001b[32m███       \u001b[0m| 93/300 [00:31<01:12,  2.87it/s]"
          ]
        },
        {
          "output_type": "stream",
          "name": "stdout",
          "text": [
            "F1 in epoch92 : 0.8277\n"
          ]
        },
        {
          "output_type": "stream",
          "name": "stderr",
          "text": [
            "\r 31%|\u001b[32m███▏      \u001b[0m| 94/300 [00:31<01:10,  2.91it/s]"
          ]
        },
        {
          "output_type": "stream",
          "name": "stdout",
          "text": [
            "F1 in epoch93 : 0.8284\n"
          ]
        },
        {
          "output_type": "stream",
          "name": "stderr",
          "text": [
            "\r 32%|\u001b[32m███▏      \u001b[0m| 95/300 [00:31<01:08,  3.01it/s]"
          ]
        },
        {
          "output_type": "stream",
          "name": "stdout",
          "text": [
            "F1 in epoch94 : 0.8279\n"
          ]
        },
        {
          "output_type": "stream",
          "name": "stderr",
          "text": [
            "\r 32%|\u001b[32m███▏      \u001b[0m| 96/300 [00:32<01:05,  3.09it/s]"
          ]
        },
        {
          "output_type": "stream",
          "name": "stdout",
          "text": [
            "F1 in epoch95 : 0.8279\n"
          ]
        },
        {
          "output_type": "stream",
          "name": "stderr",
          "text": [
            "\r 32%|\u001b[32m███▏      \u001b[0m| 97/300 [00:32<01:10,  2.88it/s]"
          ]
        },
        {
          "output_type": "stream",
          "name": "stdout",
          "text": [
            "F1 in epoch96 : 0.8286\n"
          ]
        },
        {
          "output_type": "stream",
          "name": "stderr",
          "text": [
            "\r 33%|\u001b[32m███▎      \u001b[0m| 98/300 [00:32<01:07,  2.97it/s]"
          ]
        },
        {
          "output_type": "stream",
          "name": "stdout",
          "text": [
            "F1 in epoch97 : 0.8284\n"
          ]
        },
        {
          "output_type": "stream",
          "name": "stderr",
          "text": [
            "\r 33%|\u001b[32m███▎      \u001b[0m| 99/300 [00:33<01:06,  3.04it/s]"
          ]
        },
        {
          "output_type": "stream",
          "name": "stdout",
          "text": [
            "F1 in epoch98 : 0.8279\n"
          ]
        },
        {
          "output_type": "stream",
          "name": "stderr",
          "text": [
            "\r 33%|\u001b[32m███▎      \u001b[0m| 100/300 [00:33<01:05,  3.06it/s]"
          ]
        },
        {
          "output_type": "stream",
          "name": "stdout",
          "text": [
            "F1 in epoch99 : 0.8284\n"
          ]
        },
        {
          "output_type": "stream",
          "name": "stderr",
          "text": [
            "\r 34%|\u001b[32m███▎      \u001b[0m| 101/300 [00:33<01:09,  2.86it/s]"
          ]
        },
        {
          "output_type": "stream",
          "name": "stdout",
          "text": [
            "F1 in epoch100 : 0.8277\n"
          ]
        },
        {
          "output_type": "stream",
          "name": "stderr",
          "text": [
            "\r 34%|\u001b[32m███▍      \u001b[0m| 102/300 [00:34<01:06,  2.96it/s]"
          ]
        },
        {
          "output_type": "stream",
          "name": "stdout",
          "text": [
            "F1 in epoch101 : 0.8284\n"
          ]
        },
        {
          "output_type": "stream",
          "name": "stderr",
          "text": [
            "\r 34%|\u001b[32m███▍      \u001b[0m| 103/300 [00:34<01:04,  3.05it/s]"
          ]
        },
        {
          "output_type": "stream",
          "name": "stdout",
          "text": [
            "F1 in epoch102 : 0.8284\n"
          ]
        },
        {
          "output_type": "stream",
          "name": "stderr",
          "text": [
            "\r 35%|\u001b[32m███▍      \u001b[0m| 104/300 [00:34<01:02,  3.13it/s]"
          ]
        },
        {
          "output_type": "stream",
          "name": "stdout",
          "text": [
            "F1 in epoch103 : 0.8279\n"
          ]
        },
        {
          "output_type": "stream",
          "name": "stderr",
          "text": [
            "\r 35%|\u001b[32m███▌      \u001b[0m| 105/300 [00:35<01:07,  2.87it/s]"
          ]
        },
        {
          "output_type": "stream",
          "name": "stdout",
          "text": [
            "F1 in epoch104 : 0.8273\n"
          ]
        },
        {
          "output_type": "stream",
          "name": "stderr",
          "text": [
            "\r 35%|\u001b[32m███▌      \u001b[0m| 106/300 [00:35<01:05,  2.97it/s]"
          ]
        },
        {
          "output_type": "stream",
          "name": "stdout",
          "text": [
            "F1 in epoch105 : 0.8273\n"
          ]
        },
        {
          "output_type": "stream",
          "name": "stderr",
          "text": [
            "\r 36%|\u001b[32m███▌      \u001b[0m| 107/300 [00:35<01:03,  3.04it/s]"
          ]
        },
        {
          "output_type": "stream",
          "name": "stdout",
          "text": [
            "F1 in epoch106 : 0.8273\n"
          ]
        },
        {
          "output_type": "stream",
          "name": "stderr",
          "text": [
            "\r 36%|\u001b[32m███▌      \u001b[0m| 108/300 [00:36<01:01,  3.12it/s]"
          ]
        },
        {
          "output_type": "stream",
          "name": "stdout",
          "text": [
            "F1 in epoch107 : 0.8261\n"
          ]
        },
        {
          "output_type": "stream",
          "name": "stderr",
          "text": [
            "\r 36%|\u001b[32m███▋      \u001b[0m| 109/300 [00:36<01:06,  2.89it/s]"
          ]
        },
        {
          "output_type": "stream",
          "name": "stdout",
          "text": [
            "F1 in epoch108 : 0.8254\n"
          ]
        },
        {
          "output_type": "stream",
          "name": "stderr",
          "text": [
            "\r 37%|\u001b[32m███▋      \u001b[0m| 110/300 [00:36<01:04,  2.96it/s]"
          ]
        },
        {
          "output_type": "stream",
          "name": "stdout",
          "text": [
            "F1 in epoch109 : 0.8266\n"
          ]
        },
        {
          "output_type": "stream",
          "name": "stderr",
          "text": [
            "\r 37%|\u001b[32m███▋      \u001b[0m| 111/300 [00:37<01:02,  3.04it/s]"
          ]
        },
        {
          "output_type": "stream",
          "name": "stdout",
          "text": [
            "F1 in epoch110 : 0.8275\n"
          ]
        },
        {
          "output_type": "stream",
          "name": "stderr",
          "text": [
            "\r 37%|\u001b[32m███▋      \u001b[0m| 112/300 [00:37<01:01,  3.06it/s]"
          ]
        },
        {
          "output_type": "stream",
          "name": "stdout",
          "text": [
            "F1 in epoch111 : 0.8275\n"
          ]
        },
        {
          "output_type": "stream",
          "name": "stderr",
          "text": [
            "\r 38%|\u001b[32m███▊      \u001b[0m| 113/300 [00:37<01:06,  2.83it/s]"
          ]
        },
        {
          "output_type": "stream",
          "name": "stdout",
          "text": [
            "F1 in epoch112 : 0.8275\n"
          ]
        },
        {
          "output_type": "stream",
          "name": "stderr",
          "text": [
            "\r 38%|\u001b[32m███▊      \u001b[0m| 114/300 [00:38<01:04,  2.88it/s]"
          ]
        },
        {
          "output_type": "stream",
          "name": "stdout",
          "text": [
            "F1 in epoch113 : 0.8275\n"
          ]
        },
        {
          "output_type": "stream",
          "name": "stderr",
          "text": [
            "\r 38%|\u001b[32m███▊      \u001b[0m| 115/300 [00:38<01:02,  2.98it/s]"
          ]
        },
        {
          "output_type": "stream",
          "name": "stdout",
          "text": [
            "F1 in epoch114 : 0.8275\n"
          ]
        },
        {
          "output_type": "stream",
          "name": "stderr",
          "text": [
            "\r 39%|\u001b[32m███▊      \u001b[0m| 116/300 [00:38<00:59,  3.07it/s]"
          ]
        },
        {
          "output_type": "stream",
          "name": "stdout",
          "text": [
            "F1 in epoch115 : 0.8284\n"
          ]
        },
        {
          "output_type": "stream",
          "name": "stderr",
          "text": [
            "\r 39%|\u001b[32m███▉      \u001b[0m| 117/300 [00:39<01:03,  2.88it/s]"
          ]
        },
        {
          "output_type": "stream",
          "name": "stdout",
          "text": [
            "F1 in epoch116 : 0.8284\n"
          ]
        },
        {
          "output_type": "stream",
          "name": "stderr",
          "text": [
            "\r 39%|\u001b[32m███▉      \u001b[0m| 118/300 [00:39<01:01,  2.98it/s]"
          ]
        },
        {
          "output_type": "stream",
          "name": "stdout",
          "text": [
            "F1 in epoch117 : 0.8284\n"
          ]
        },
        {
          "output_type": "stream",
          "name": "stderr",
          "text": [
            "\r 40%|\u001b[32m███▉      \u001b[0m| 119/300 [00:39<00:59,  3.06it/s]"
          ]
        },
        {
          "output_type": "stream",
          "name": "stdout",
          "text": [
            "F1 in epoch118 : 0.8289\n"
          ]
        },
        {
          "output_type": "stream",
          "name": "stderr",
          "text": [
            "\r 40%|\u001b[32m████      \u001b[0m| 120/300 [00:40<01:03,  2.85it/s]"
          ]
        },
        {
          "output_type": "stream",
          "name": "stdout",
          "text": [
            "F1 in epoch119 : 0.8289\n"
          ]
        },
        {
          "output_type": "stream",
          "name": "stderr",
          "text": [
            "\r 40%|\u001b[32m████      \u001b[0m| 121/300 [00:40<01:01,  2.90it/s]"
          ]
        },
        {
          "output_type": "stream",
          "name": "stdout",
          "text": [
            "F1 in epoch120 : 0.8277\n"
          ]
        },
        {
          "output_type": "stream",
          "name": "stderr",
          "text": [
            "\r 41%|\u001b[32m████      \u001b[0m| 122/300 [00:40<00:59,  2.98it/s]"
          ]
        },
        {
          "output_type": "stream",
          "name": "stdout",
          "text": [
            "F1 in epoch121 : 0.8277\n"
          ]
        },
        {
          "output_type": "stream",
          "name": "stderr",
          "text": [
            "\r 41%|\u001b[32m████      \u001b[0m| 123/300 [00:41<00:57,  3.07it/s]"
          ]
        },
        {
          "output_type": "stream",
          "name": "stdout",
          "text": [
            "F1 in epoch122 : 0.8277\n"
          ]
        },
        {
          "output_type": "stream",
          "name": "stderr",
          "text": [
            "\r 41%|\u001b[32m████▏     \u001b[0m| 124/300 [00:41<01:01,  2.88it/s]"
          ]
        },
        {
          "output_type": "stream",
          "name": "stdout",
          "text": [
            "F1 in epoch123 : 0.8268\n"
          ]
        },
        {
          "output_type": "stream",
          "name": "stderr",
          "text": [
            "\r 42%|\u001b[32m████▏     \u001b[0m| 125/300 [00:41<00:59,  2.92it/s]"
          ]
        },
        {
          "output_type": "stream",
          "name": "stdout",
          "text": [
            "F1 in epoch124 : 0.8261\n"
          ]
        },
        {
          "output_type": "stream",
          "name": "stderr",
          "text": [
            "\r 42%|\u001b[32m████▏     \u001b[0m| 126/300 [00:42<00:59,  2.95it/s]"
          ]
        },
        {
          "output_type": "stream",
          "name": "stdout",
          "text": [
            "F1 in epoch125 : 0.8266\n"
          ]
        },
        {
          "output_type": "stream",
          "name": "stderr",
          "text": [
            "\r 42%|\u001b[32m████▏     \u001b[0m| 127/300 [00:42<00:57,  3.01it/s]"
          ]
        },
        {
          "output_type": "stream",
          "name": "stdout",
          "text": [
            "F1 in epoch126 : 0.8266\n"
          ]
        },
        {
          "output_type": "stream",
          "name": "stderr",
          "text": [
            "\r 43%|\u001b[32m████▎     \u001b[0m| 128/300 [00:42<01:01,  2.81it/s]"
          ]
        },
        {
          "output_type": "stream",
          "name": "stdout",
          "text": [
            "F1 in epoch127 : 0.8271\n"
          ]
        },
        {
          "output_type": "stream",
          "name": "stderr",
          "text": [
            "\r 43%|\u001b[32m████▎     \u001b[0m| 129/300 [00:43<00:58,  2.91it/s]"
          ]
        },
        {
          "output_type": "stream",
          "name": "stdout",
          "text": [
            "F1 in epoch128 : 0.8264\n"
          ]
        },
        {
          "output_type": "stream",
          "name": "stderr",
          "text": [
            "\r 43%|\u001b[32m████▎     \u001b[0m| 130/300 [00:43<00:56,  2.98it/s]"
          ]
        },
        {
          "output_type": "stream",
          "name": "stdout",
          "text": [
            "F1 in epoch129 : 0.8264\n"
          ]
        },
        {
          "output_type": "stream",
          "name": "stderr",
          "text": [
            "\r 44%|\u001b[32m████▎     \u001b[0m| 131/300 [00:43<00:55,  3.02it/s]"
          ]
        },
        {
          "output_type": "stream",
          "name": "stdout",
          "text": [
            "F1 in epoch130 : 0.8266\n"
          ]
        },
        {
          "output_type": "stream",
          "name": "stderr",
          "text": [
            "\r 44%|\u001b[32m████▍     \u001b[0m| 132/300 [00:44<00:59,  2.83it/s]"
          ]
        },
        {
          "output_type": "stream",
          "name": "stdout",
          "text": [
            "F1 in epoch131 : 0.8266\n"
          ]
        },
        {
          "output_type": "stream",
          "name": "stderr",
          "text": [
            "\r 44%|\u001b[32m████▍     \u001b[0m| 133/300 [00:44<00:56,  2.93it/s]"
          ]
        },
        {
          "output_type": "stream",
          "name": "stdout",
          "text": [
            "F1 in epoch132 : 0.8266\n"
          ]
        },
        {
          "output_type": "stream",
          "name": "stderr",
          "text": [
            "\r 45%|\u001b[32m████▍     \u001b[0m| 134/300 [00:44<00:55,  3.01it/s]"
          ]
        },
        {
          "output_type": "stream",
          "name": "stdout",
          "text": [
            "F1 in epoch133 : 0.8256\n"
          ]
        },
        {
          "output_type": "stream",
          "name": "stderr",
          "text": [
            "\r 45%|\u001b[32m████▌     \u001b[0m| 135/300 [00:45<00:53,  3.10it/s]"
          ]
        },
        {
          "output_type": "stream",
          "name": "stdout",
          "text": [
            "F1 in epoch134 : 0.8256\n"
          ]
        },
        {
          "output_type": "stream",
          "name": "stderr",
          "text": [
            "\r 45%|\u001b[32m████▌     \u001b[0m| 136/300 [00:45<00:57,  2.87it/s]"
          ]
        },
        {
          "output_type": "stream",
          "name": "stdout",
          "text": [
            "F1 in epoch135 : 0.8256\n"
          ]
        },
        {
          "output_type": "stream",
          "name": "stderr",
          "text": [
            "\r 46%|\u001b[32m████▌     \u001b[0m| 137/300 [00:45<00:56,  2.91it/s]"
          ]
        },
        {
          "output_type": "stream",
          "name": "stdout",
          "text": [
            "F1 in epoch136 : 0.8252\n"
          ]
        },
        {
          "output_type": "stream",
          "name": "stderr",
          "text": [
            "\r 46%|\u001b[32m████▌     \u001b[0m| 138/300 [00:46<00:54,  2.99it/s]"
          ]
        },
        {
          "output_type": "stream",
          "name": "stdout",
          "text": [
            "F1 in epoch137 : 0.8252\n"
          ]
        },
        {
          "output_type": "stream",
          "name": "stderr",
          "text": [
            "\r 46%|\u001b[32m████▋     \u001b[0m| 139/300 [00:46<00:52,  3.08it/s]"
          ]
        },
        {
          "output_type": "stream",
          "name": "stdout",
          "text": [
            "F1 in epoch138 : 0.8265\n"
          ]
        },
        {
          "output_type": "stream",
          "name": "stderr",
          "text": [
            "\r 47%|\u001b[32m████▋     \u001b[0m| 140/300 [00:46<00:55,  2.87it/s]"
          ]
        },
        {
          "output_type": "stream",
          "name": "stdout",
          "text": [
            "F1 in epoch139 : 0.8272\n"
          ]
        },
        {
          "output_type": "stream",
          "name": "stderr",
          "text": [
            "\r 47%|\u001b[32m████▋     \u001b[0m| 141/300 [00:47<00:53,  2.95it/s]"
          ]
        },
        {
          "output_type": "stream",
          "name": "stdout",
          "text": [
            "F1 in epoch140 : 0.8285\n"
          ]
        },
        {
          "output_type": "stream",
          "name": "stderr",
          "text": [
            "\r 47%|\u001b[32m████▋     \u001b[0m| 142/300 [00:47<00:52,  2.99it/s]"
          ]
        },
        {
          "output_type": "stream",
          "name": "stdout",
          "text": [
            "F1 in epoch141 : 0.8285\n"
          ]
        },
        {
          "output_type": "stream",
          "name": "stderr",
          "text": [
            "\r 48%|\u001b[32m████▊     \u001b[0m| 143/300 [00:47<00:50,  3.08it/s]"
          ]
        },
        {
          "output_type": "stream",
          "name": "stdout",
          "text": [
            "F1 in epoch142 : 0.8281\n"
          ]
        },
        {
          "output_type": "stream",
          "name": "stderr",
          "text": [
            "\r 48%|\u001b[32m████▊     \u001b[0m| 144/300 [00:48<00:54,  2.87it/s]"
          ]
        },
        {
          "output_type": "stream",
          "name": "stdout",
          "text": [
            "F1 in epoch143 : 0.8283\n"
          ]
        },
        {
          "output_type": "stream",
          "name": "stderr",
          "text": [
            "\r 48%|\u001b[32m████▊     \u001b[0m| 145/300 [00:48<00:52,  2.94it/s]"
          ]
        },
        {
          "output_type": "stream",
          "name": "stdout",
          "text": [
            "F1 in epoch144 : 0.8283\n"
          ]
        },
        {
          "output_type": "stream",
          "name": "stderr",
          "text": [
            "\r 49%|\u001b[32m████▊     \u001b[0m| 146/300 [00:48<00:50,  3.03it/s]"
          ]
        },
        {
          "output_type": "stream",
          "name": "stdout",
          "text": [
            "F1 in epoch145 : 0.8283\n"
          ]
        },
        {
          "output_type": "stream",
          "name": "stderr",
          "text": [
            "\r 49%|\u001b[32m████▉     \u001b[0m| 147/300 [00:49<00:49,  3.09it/s]"
          ]
        },
        {
          "output_type": "stream",
          "name": "stdout",
          "text": [
            "F1 in epoch146 : 0.8283\n"
          ]
        },
        {
          "output_type": "stream",
          "name": "stderr",
          "text": [
            "\r 49%|\u001b[32m████▉     \u001b[0m| 148/300 [00:49<00:53,  2.82it/s]"
          ]
        },
        {
          "output_type": "stream",
          "name": "stdout",
          "text": [
            "F1 in epoch147 : 0.8283\n"
          ]
        },
        {
          "output_type": "stream",
          "name": "stderr",
          "text": [
            "\r 50%|\u001b[32m████▉     \u001b[0m| 149/300 [00:49<00:51,  2.94it/s]"
          ]
        },
        {
          "output_type": "stream",
          "name": "stdout",
          "text": [
            "F1 in epoch148 : 0.8283\n"
          ]
        },
        {
          "output_type": "stream",
          "name": "stderr",
          "text": [
            "\r 50%|\u001b[32m█████     \u001b[0m| 150/300 [00:50<00:49,  3.01it/s]"
          ]
        },
        {
          "output_type": "stream",
          "name": "stdout",
          "text": [
            "F1 in epoch149 : 0.8287\n"
          ]
        },
        {
          "output_type": "stream",
          "name": "stderr",
          "text": [
            "\r 50%|\u001b[32m█████     \u001b[0m| 151/300 [00:50<00:50,  2.93it/s]"
          ]
        },
        {
          "output_type": "stream",
          "name": "stdout",
          "text": [
            "F1 in epoch150 : 0.8292\n"
          ]
        },
        {
          "output_type": "stream",
          "name": "stderr",
          "text": [
            "\r 51%|\u001b[32m█████     \u001b[0m| 152/300 [00:50<00:49,  2.99it/s]"
          ]
        },
        {
          "output_type": "stream",
          "name": "stdout",
          "text": [
            "F1 in epoch151 : 0.8292\n"
          ]
        },
        {
          "output_type": "stream",
          "name": "stderr",
          "text": [
            "\r 51%|\u001b[32m█████     \u001b[0m| 153/300 [00:51<00:48,  3.05it/s]"
          ]
        },
        {
          "output_type": "stream",
          "name": "stdout",
          "text": [
            "F1 in epoch152 : 0.8292\n"
          ]
        },
        {
          "output_type": "stream",
          "name": "stderr",
          "text": [
            "\r 51%|\u001b[32m█████▏    \u001b[0m| 154/300 [00:51<00:46,  3.13it/s]"
          ]
        },
        {
          "output_type": "stream",
          "name": "stdout",
          "text": [
            "F1 in epoch153 : 0.8285\n"
          ]
        },
        {
          "output_type": "stream",
          "name": "stderr",
          "text": [
            "\r 52%|\u001b[32m█████▏    \u001b[0m| 155/300 [00:51<00:50,  2.90it/s]"
          ]
        },
        {
          "output_type": "stream",
          "name": "stdout",
          "text": [
            "F1 in epoch154 : 0.8285\n"
          ]
        },
        {
          "output_type": "stream",
          "name": "stderr",
          "text": [
            "\r 52%|\u001b[32m█████▏    \u001b[0m| 156/300 [00:52<00:48,  2.99it/s]"
          ]
        },
        {
          "output_type": "stream",
          "name": "stdout",
          "text": [
            "F1 in epoch155 : 0.8279\n"
          ]
        },
        {
          "output_type": "stream",
          "name": "stderr",
          "text": [
            "\r 52%|\u001b[32m█████▏    \u001b[0m| 157/300 [00:52<00:46,  3.05it/s]"
          ]
        },
        {
          "output_type": "stream",
          "name": "stdout",
          "text": [
            "F1 in epoch156 : 0.8279\n"
          ]
        },
        {
          "output_type": "stream",
          "name": "stderr",
          "text": [
            "\r 53%|\u001b[32m█████▎    \u001b[0m| 158/300 [00:52<00:45,  3.11it/s]"
          ]
        },
        {
          "output_type": "stream",
          "name": "stdout",
          "text": [
            "F1 in epoch157 : 0.8279\n"
          ]
        },
        {
          "output_type": "stream",
          "name": "stderr",
          "text": [
            "\r 53%|\u001b[32m█████▎    \u001b[0m| 159/300 [00:53<00:49,  2.87it/s]"
          ]
        },
        {
          "output_type": "stream",
          "name": "stdout",
          "text": [
            "F1 in epoch158 : 0.8283\n"
          ]
        },
        {
          "output_type": "stream",
          "name": "stderr",
          "text": [
            "\r 53%|\u001b[32m█████▎    \u001b[0m| 160/300 [00:53<00:47,  2.97it/s]"
          ]
        },
        {
          "output_type": "stream",
          "name": "stdout",
          "text": [
            "F1 in epoch159 : 0.8290\n"
          ]
        },
        {
          "output_type": "stream",
          "name": "stderr",
          "text": [
            "\r 54%|\u001b[32m█████▎    \u001b[0m| 161/300 [00:53<00:45,  3.05it/s]"
          ]
        },
        {
          "output_type": "stream",
          "name": "stdout",
          "text": [
            "F1 in epoch160 : 0.8283\n"
          ]
        },
        {
          "output_type": "stream",
          "name": "stderr",
          "text": [
            "\r 54%|\u001b[32m█████▍    \u001b[0m| 162/300 [00:54<00:49,  2.82it/s]"
          ]
        },
        {
          "output_type": "stream",
          "name": "stdout",
          "text": [
            "F1 in epoch161 : 0.8290\n"
          ]
        },
        {
          "output_type": "stream",
          "name": "stderr",
          "text": [
            "\r 54%|\u001b[32m█████▍    \u001b[0m| 163/300 [00:54<00:46,  2.93it/s]"
          ]
        },
        {
          "output_type": "stream",
          "name": "stdout",
          "text": [
            "F1 in epoch162 : 0.8290\n"
          ]
        },
        {
          "output_type": "stream",
          "name": "stderr",
          "text": [
            "\r 55%|\u001b[32m█████▍    \u001b[0m| 164/300 [00:54<00:45,  3.01it/s]"
          ]
        },
        {
          "output_type": "stream",
          "name": "stdout",
          "text": [
            "F1 in epoch163 : 0.8295\n"
          ]
        },
        {
          "output_type": "stream",
          "name": "stderr",
          "text": [
            "\r 55%|\u001b[32m█████▌    \u001b[0m| 165/300 [00:55<00:44,  3.06it/s]"
          ]
        },
        {
          "output_type": "stream",
          "name": "stdout",
          "text": [
            "F1 in epoch164 : 0.8295\n"
          ]
        },
        {
          "output_type": "stream",
          "name": "stderr",
          "text": [
            "\r 55%|\u001b[32m█████▌    \u001b[0m| 166/300 [00:55<00:47,  2.82it/s]"
          ]
        },
        {
          "output_type": "stream",
          "name": "stdout",
          "text": [
            "F1 in epoch165 : 0.8295\n"
          ]
        },
        {
          "output_type": "stream",
          "name": "stderr",
          "text": [
            "\r 56%|\u001b[32m█████▌    \u001b[0m| 167/300 [00:56<00:46,  2.85it/s]"
          ]
        },
        {
          "output_type": "stream",
          "name": "stdout",
          "text": [
            "F1 in epoch166 : 0.8300\n"
          ]
        },
        {
          "output_type": "stream",
          "name": "stderr",
          "text": [
            "\r 56%|\u001b[32m█████▌    \u001b[0m| 168/300 [00:56<00:45,  2.92it/s]"
          ]
        },
        {
          "output_type": "stream",
          "name": "stdout",
          "text": [
            "F1 in epoch167 : 0.8308\n"
          ]
        },
        {
          "output_type": "stream",
          "name": "stderr",
          "text": [
            "\r 56%|\u001b[32m█████▋    \u001b[0m| 169/300 [00:56<00:43,  3.03it/s]"
          ]
        },
        {
          "output_type": "stream",
          "name": "stdout",
          "text": [
            "F1 in epoch168 : 0.8304\n"
          ]
        },
        {
          "output_type": "stream",
          "name": "stderr",
          "text": [
            "\r 57%|\u001b[32m█████▋    \u001b[0m| 170/300 [00:57<00:45,  2.83it/s]"
          ]
        },
        {
          "output_type": "stream",
          "name": "stdout",
          "text": [
            "F1 in epoch169 : 0.8310\n"
          ]
        },
        {
          "output_type": "stream",
          "name": "stderr",
          "text": [
            "\r 57%|\u001b[32m█████▋    \u001b[0m| 171/300 [00:57<00:44,  2.93it/s]"
          ]
        },
        {
          "output_type": "stream",
          "name": "stdout",
          "text": [
            "F1 in epoch170 : 0.8310\n"
          ]
        },
        {
          "output_type": "stream",
          "name": "stderr",
          "text": [
            "\r 57%|\u001b[32m█████▋    \u001b[0m| 172/300 [00:57<00:42,  3.00it/s]"
          ]
        },
        {
          "output_type": "stream",
          "name": "stdout",
          "text": [
            "F1 in epoch171 : 0.8308\n"
          ]
        },
        {
          "output_type": "stream",
          "name": "stderr",
          "text": [
            "\r 58%|\u001b[32m█████▊    \u001b[0m| 173/300 [00:58<00:42,  3.00it/s]"
          ]
        },
        {
          "output_type": "stream",
          "name": "stdout",
          "text": [
            "F1 in epoch172 : 0.8303\n"
          ]
        },
        {
          "output_type": "stream",
          "name": "stderr",
          "text": [
            "\r 58%|\u001b[32m█████▊    \u001b[0m| 174/300 [00:58<00:45,  2.80it/s]"
          ]
        },
        {
          "output_type": "stream",
          "name": "stdout",
          "text": [
            "F1 in epoch173 : 0.8308\n"
          ]
        },
        {
          "output_type": "stream",
          "name": "stderr",
          "text": [
            "\r 58%|\u001b[32m█████▊    \u001b[0m| 175/300 [00:58<00:43,  2.90it/s]"
          ]
        },
        {
          "output_type": "stream",
          "name": "stdout",
          "text": [
            "F1 in epoch174 : 0.8314\n"
          ]
        },
        {
          "output_type": "stream",
          "name": "stderr",
          "text": [
            "\r 59%|\u001b[32m█████▊    \u001b[0m| 176/300 [00:59<00:41,  2.98it/s]"
          ]
        },
        {
          "output_type": "stream",
          "name": "stdout",
          "text": [
            "F1 in epoch175 : 0.8314\n"
          ]
        },
        {
          "output_type": "stream",
          "name": "stderr",
          "text": [
            "\r 59%|\u001b[32m█████▉    \u001b[0m| 177/300 [00:59<00:40,  3.05it/s]"
          ]
        },
        {
          "output_type": "stream",
          "name": "stdout",
          "text": [
            "F1 in epoch176 : 0.8321\n"
          ]
        },
        {
          "output_type": "stream",
          "name": "stderr",
          "text": [
            "\r 59%|\u001b[32m█████▉    \u001b[0m| 178/300 [00:59<00:42,  2.86it/s]"
          ]
        },
        {
          "output_type": "stream",
          "name": "stdout",
          "text": [
            "F1 in epoch177 : 0.8316\n"
          ]
        },
        {
          "output_type": "stream",
          "name": "stderr",
          "text": [
            "\r 60%|\u001b[32m█████▉    \u001b[0m| 179/300 [01:00<00:40,  2.95it/s]"
          ]
        },
        {
          "output_type": "stream",
          "name": "stdout",
          "text": [
            "F1 in epoch178 : 0.8316\n"
          ]
        },
        {
          "output_type": "stream",
          "name": "stderr",
          "text": [
            "\r 60%|\u001b[32m██████    \u001b[0m| 180/300 [01:00<00:39,  3.02it/s]"
          ]
        },
        {
          "output_type": "stream",
          "name": "stdout",
          "text": [
            "F1 in epoch179 : 0.8321\n"
          ]
        },
        {
          "output_type": "stream",
          "name": "stderr",
          "text": [
            "\r 60%|\u001b[32m██████    \u001b[0m| 181/300 [01:00<00:38,  3.10it/s]"
          ]
        },
        {
          "output_type": "stream",
          "name": "stdout",
          "text": [
            "F1 in epoch180 : 0.8321\n"
          ]
        },
        {
          "output_type": "stream",
          "name": "stderr",
          "text": [
            "\r 61%|\u001b[32m██████    \u001b[0m| 182/300 [01:01<00:41,  2.86it/s]"
          ]
        },
        {
          "output_type": "stream",
          "name": "stdout",
          "text": [
            "F1 in epoch181 : 0.8321\n"
          ]
        },
        {
          "output_type": "stream",
          "name": "stderr",
          "text": [
            "\r 61%|\u001b[32m██████    \u001b[0m| 183/300 [01:01<00:39,  2.93it/s]"
          ]
        },
        {
          "output_type": "stream",
          "name": "stdout",
          "text": [
            "F1 in epoch182 : 0.8316\n"
          ]
        },
        {
          "output_type": "stream",
          "name": "stderr",
          "text": [
            "\r 61%|\u001b[32m██████▏   \u001b[0m| 184/300 [01:01<00:38,  3.01it/s]"
          ]
        },
        {
          "output_type": "stream",
          "name": "stdout",
          "text": [
            "F1 in epoch183 : 0.8316\n"
          ]
        },
        {
          "output_type": "stream",
          "name": "stderr",
          "text": [
            "\r 62%|\u001b[32m██████▏   \u001b[0m| 185/300 [01:02<00:37,  3.09it/s]"
          ]
        },
        {
          "output_type": "stream",
          "name": "stdout",
          "text": [
            "F1 in epoch184 : 0.8316\n"
          ]
        },
        {
          "output_type": "stream",
          "name": "stderr",
          "text": [
            "\r 62%|\u001b[32m██████▏   \u001b[0m| 186/300 [01:02<00:39,  2.86it/s]"
          ]
        },
        {
          "output_type": "stream",
          "name": "stdout",
          "text": [
            "F1 in epoch185 : 0.8316\n"
          ]
        },
        {
          "output_type": "stream",
          "name": "stderr",
          "text": [
            "\r 62%|\u001b[32m██████▏   \u001b[0m| 187/300 [01:02<00:38,  2.97it/s]"
          ]
        },
        {
          "output_type": "stream",
          "name": "stdout",
          "text": [
            "F1 in epoch186 : 0.8316\n"
          ]
        },
        {
          "output_type": "stream",
          "name": "stderr",
          "text": [
            "\r 63%|\u001b[32m██████▎   \u001b[0m| 188/300 [01:03<00:36,  3.04it/s]"
          ]
        },
        {
          "output_type": "stream",
          "name": "stdout",
          "text": [
            "F1 in epoch187 : 0.8316\n"
          ]
        },
        {
          "output_type": "stream",
          "name": "stderr",
          "text": [
            "\r 63%|\u001b[32m██████▎   \u001b[0m| 189/300 [01:03<00:39,  2.82it/s]"
          ]
        },
        {
          "output_type": "stream",
          "name": "stdout",
          "text": [
            "F1 in epoch188 : 0.8316\n"
          ]
        },
        {
          "output_type": "stream",
          "name": "stderr",
          "text": [
            "\r 63%|\u001b[32m██████▎   \u001b[0m| 190/300 [01:03<00:38,  2.88it/s]"
          ]
        },
        {
          "output_type": "stream",
          "name": "stdout",
          "text": [
            "F1 in epoch189 : 0.8316\n"
          ]
        },
        {
          "output_type": "stream",
          "name": "stderr",
          "text": [
            "\r 64%|\u001b[32m██████▎   \u001b[0m| 191/300 [01:04<00:36,  2.98it/s]"
          ]
        },
        {
          "output_type": "stream",
          "name": "stdout",
          "text": [
            "F1 in epoch190 : 0.8316\n"
          ]
        },
        {
          "output_type": "stream",
          "name": "stderr",
          "text": [
            "\r 64%|\u001b[32m██████▍   \u001b[0m| 192/300 [01:04<00:35,  3.05it/s]"
          ]
        },
        {
          "output_type": "stream",
          "name": "stdout",
          "text": [
            "F1 in epoch191 : 0.8316\n"
          ]
        },
        {
          "output_type": "stream",
          "name": "stderr",
          "text": [
            "\r 64%|\u001b[32m██████▍   \u001b[0m| 193/300 [01:04<00:37,  2.85it/s]"
          ]
        },
        {
          "output_type": "stream",
          "name": "stdout",
          "text": [
            "F1 in epoch192 : 0.8316\n"
          ]
        },
        {
          "output_type": "stream",
          "name": "stderr",
          "text": [
            "\r 65%|\u001b[32m██████▍   \u001b[0m| 194/300 [01:05<00:36,  2.94it/s]"
          ]
        },
        {
          "output_type": "stream",
          "name": "stdout",
          "text": [
            "F1 in epoch193 : 0.8316\n"
          ]
        },
        {
          "output_type": "stream",
          "name": "stderr",
          "text": [
            "\r 65%|\u001b[32m██████▌   \u001b[0m| 195/300 [01:05<00:34,  3.01it/s]"
          ]
        },
        {
          "output_type": "stream",
          "name": "stdout",
          "text": [
            "F1 in epoch194 : 0.8316\n"
          ]
        },
        {
          "output_type": "stream",
          "name": "stderr",
          "text": [
            "\r 65%|\u001b[32m██████▌   \u001b[0m| 196/300 [01:05<00:33,  3.08it/s]"
          ]
        },
        {
          "output_type": "stream",
          "name": "stdout",
          "text": [
            "F1 in epoch195 : 0.8316\n"
          ]
        },
        {
          "output_type": "stream",
          "name": "stderr",
          "text": [
            "\r 66%|\u001b[32m██████▌   \u001b[0m| 197/300 [01:06<00:36,  2.86it/s]"
          ]
        },
        {
          "output_type": "stream",
          "name": "stdout",
          "text": [
            "F1 in epoch196 : 0.8316\n"
          ]
        },
        {
          "output_type": "stream",
          "name": "stderr",
          "text": [
            "\r 66%|\u001b[32m██████▌   \u001b[0m| 198/300 [01:06<00:34,  2.93it/s]"
          ]
        },
        {
          "output_type": "stream",
          "name": "stdout",
          "text": [
            "F1 in epoch197 : 0.8316\n"
          ]
        },
        {
          "output_type": "stream",
          "name": "stderr",
          "text": [
            "\r 66%|\u001b[32m██████▋   \u001b[0m| 199/300 [01:06<00:33,  3.01it/s]"
          ]
        },
        {
          "output_type": "stream",
          "name": "stdout",
          "text": [
            "F1 in epoch198 : 0.8309\n"
          ]
        },
        {
          "output_type": "stream",
          "name": "stderr",
          "text": [
            "\r 67%|\u001b[32m██████▋   \u001b[0m| 200/300 [01:07<00:32,  3.08it/s]"
          ]
        },
        {
          "output_type": "stream",
          "name": "stdout",
          "text": [
            "F1 in epoch199 : 0.8309\n"
          ]
        },
        {
          "output_type": "stream",
          "name": "stderr",
          "text": [
            "\r 67%|\u001b[32m██████▋   \u001b[0m| 201/300 [01:07<00:34,  2.87it/s]"
          ]
        },
        {
          "output_type": "stream",
          "name": "stdout",
          "text": [
            "F1 in epoch200 : 0.8309\n"
          ]
        },
        {
          "output_type": "stream",
          "name": "stderr",
          "text": [
            "\r 67%|\u001b[32m██████▋   \u001b[0m| 202/300 [01:07<00:33,  2.95it/s]"
          ]
        },
        {
          "output_type": "stream",
          "name": "stdout",
          "text": [
            "F1 in epoch201 : 0.8309\n"
          ]
        },
        {
          "output_type": "stream",
          "name": "stderr",
          "text": [
            "\r 68%|\u001b[32m██████▊   \u001b[0m| 203/300 [01:08<00:32,  2.97it/s]"
          ]
        },
        {
          "output_type": "stream",
          "name": "stdout",
          "text": [
            "F1 in epoch202 : 0.8309\n"
          ]
        },
        {
          "output_type": "stream",
          "name": "stderr",
          "text": [
            "\r 68%|\u001b[32m██████▊   \u001b[0m| 204/300 [01:08<00:31,  3.02it/s]"
          ]
        },
        {
          "output_type": "stream",
          "name": "stdout",
          "text": [
            "F1 in epoch203 : 0.8309\n"
          ]
        },
        {
          "output_type": "stream",
          "name": "stderr",
          "text": [
            "\r 68%|\u001b[32m██████▊   \u001b[0m| 205/300 [01:08<00:33,  2.84it/s]"
          ]
        },
        {
          "output_type": "stream",
          "name": "stdout",
          "text": [
            "F1 in epoch204 : 0.8309\n"
          ]
        },
        {
          "output_type": "stream",
          "name": "stderr",
          "text": [
            "\r 69%|\u001b[32m██████▊   \u001b[0m| 206/300 [01:09<00:32,  2.93it/s]"
          ]
        },
        {
          "output_type": "stream",
          "name": "stdout",
          "text": [
            "F1 in epoch205 : 0.8309\n"
          ]
        },
        {
          "output_type": "stream",
          "name": "stderr",
          "text": [
            "\r 69%|\u001b[32m██████▉   \u001b[0m| 207/300 [01:09<00:31,  2.95it/s]"
          ]
        },
        {
          "output_type": "stream",
          "name": "stdout",
          "text": [
            "F1 in epoch206 : 0.8309\n"
          ]
        },
        {
          "output_type": "stream",
          "name": "stderr",
          "text": [
            "\r 69%|\u001b[32m██████▉   \u001b[0m| 208/300 [01:09<00:30,  2.97it/s]"
          ]
        },
        {
          "output_type": "stream",
          "name": "stdout",
          "text": [
            "F1 in epoch207 : 0.8309\n"
          ]
        },
        {
          "output_type": "stream",
          "name": "stderr",
          "text": [
            "\r 70%|\u001b[32m██████▉   \u001b[0m| 209/300 [01:10<00:32,  2.78it/s]"
          ]
        },
        {
          "output_type": "stream",
          "name": "stdout",
          "text": [
            "F1 in epoch208 : 0.8309\n"
          ]
        },
        {
          "output_type": "stream",
          "name": "stderr",
          "text": [
            "\r 70%|\u001b[32m███████   \u001b[0m| 210/300 [01:10<00:31,  2.90it/s]"
          ]
        },
        {
          "output_type": "stream",
          "name": "stdout",
          "text": [
            "F1 in epoch209 : 0.8309\n"
          ]
        },
        {
          "output_type": "stream",
          "name": "stderr",
          "text": [
            "\r 70%|\u001b[32m███████   \u001b[0m| 211/300 [01:10<00:29,  3.01it/s]"
          ]
        },
        {
          "output_type": "stream",
          "name": "stdout",
          "text": [
            "F1 in epoch210 : 0.8309\n"
          ]
        },
        {
          "output_type": "stream",
          "name": "stderr",
          "text": [
            "\r 71%|\u001b[32m███████   \u001b[0m| 212/300 [01:11<00:28,  3.10it/s]"
          ]
        },
        {
          "output_type": "stream",
          "name": "stdout",
          "text": [
            "F1 in epoch211 : 0.8309\n"
          ]
        },
        {
          "output_type": "stream",
          "name": "stderr",
          "text": [
            "\r 71%|\u001b[32m███████   \u001b[0m| 213/300 [01:11<00:30,  2.90it/s]"
          ]
        },
        {
          "output_type": "stream",
          "name": "stdout",
          "text": [
            "F1 in epoch212 : 0.8309\n"
          ]
        },
        {
          "output_type": "stream",
          "name": "stderr",
          "text": [
            "\r 71%|\u001b[32m███████▏  \u001b[0m| 214/300 [01:11<00:28,  2.97it/s]"
          ]
        },
        {
          "output_type": "stream",
          "name": "stdout",
          "text": [
            "F1 in epoch213 : 0.8309\n"
          ]
        },
        {
          "output_type": "stream",
          "name": "stderr",
          "text": [
            "\r 72%|\u001b[32m███████▏  \u001b[0m| 215/300 [01:12<00:28,  3.02it/s]"
          ]
        },
        {
          "output_type": "stream",
          "name": "stdout",
          "text": [
            "F1 in epoch214 : 0.8309\n"
          ]
        },
        {
          "output_type": "stream",
          "name": "stderr",
          "text": [
            "\r 72%|\u001b[32m███████▏  \u001b[0m| 216/300 [01:12<00:27,  3.10it/s]"
          ]
        },
        {
          "output_type": "stream",
          "name": "stdout",
          "text": [
            "F1 in epoch215 : 0.8309\n"
          ]
        },
        {
          "output_type": "stream",
          "name": "stderr",
          "text": [
            "\r 72%|\u001b[32m███████▏  \u001b[0m| 217/300 [01:12<00:28,  2.88it/s]"
          ]
        },
        {
          "output_type": "stream",
          "name": "stdout",
          "text": [
            "F1 in epoch216 : 0.8309\n"
          ]
        },
        {
          "output_type": "stream",
          "name": "stderr",
          "text": [
            "\r 73%|\u001b[32m███████▎  \u001b[0m| 218/300 [01:13<00:28,  2.92it/s]"
          ]
        },
        {
          "output_type": "stream",
          "name": "stdout",
          "text": [
            "F1 in epoch217 : 0.8309\n"
          ]
        },
        {
          "output_type": "stream",
          "name": "stderr",
          "text": [
            "\r 73%|\u001b[32m███████▎  \u001b[0m| 219/300 [01:13<00:26,  3.01it/s]"
          ]
        },
        {
          "output_type": "stream",
          "name": "stdout",
          "text": [
            "F1 in epoch218 : 0.8309\n"
          ]
        },
        {
          "output_type": "stream",
          "name": "stderr",
          "text": [
            "\r 73%|\u001b[32m███████▎  \u001b[0m| 220/300 [01:13<00:27,  2.92it/s]"
          ]
        },
        {
          "output_type": "stream",
          "name": "stdout",
          "text": [
            "F1 in epoch219 : 0.8309\n"
          ]
        },
        {
          "output_type": "stream",
          "name": "stderr",
          "text": [
            "\r 74%|\u001b[32m███████▎  \u001b[0m| 221/300 [01:14<00:26,  2.94it/s]"
          ]
        },
        {
          "output_type": "stream",
          "name": "stdout",
          "text": [
            "F1 in epoch220 : 0.8309\n"
          ]
        },
        {
          "output_type": "stream",
          "name": "stderr",
          "text": [
            "\r 74%|\u001b[32m███████▍  \u001b[0m| 222/300 [01:14<00:25,  3.02it/s]"
          ]
        },
        {
          "output_type": "stream",
          "name": "stdout",
          "text": [
            "F1 in epoch221 : 0.8309\n"
          ]
        },
        {
          "output_type": "stream",
          "name": "stderr",
          "text": [
            "\r 74%|\u001b[32m███████▍  \u001b[0m| 223/300 [01:14<00:24,  3.09it/s]"
          ]
        },
        {
          "output_type": "stream",
          "name": "stdout",
          "text": [
            "F1 in epoch222 : 0.8309\n"
          ]
        },
        {
          "output_type": "stream",
          "name": "stderr",
          "text": [
            "\r 75%|\u001b[32m███████▍  \u001b[0m| 224/300 [01:15<00:26,  2.82it/s]"
          ]
        },
        {
          "output_type": "stream",
          "name": "stdout",
          "text": [
            "F1 in epoch223 : 0.8309\n"
          ]
        },
        {
          "output_type": "stream",
          "name": "stderr",
          "text": [
            "\r 75%|\u001b[32m███████▌  \u001b[0m| 225/300 [01:15<00:25,  2.90it/s]"
          ]
        },
        {
          "output_type": "stream",
          "name": "stdout",
          "text": [
            "F1 in epoch224 : 0.8309\n"
          ]
        },
        {
          "output_type": "stream",
          "name": "stderr",
          "text": [
            "\r 75%|\u001b[32m███████▌  \u001b[0m| 226/300 [01:15<00:25,  2.93it/s]"
          ]
        },
        {
          "output_type": "stream",
          "name": "stdout",
          "text": [
            "F1 in epoch225 : 0.8309\n"
          ]
        },
        {
          "output_type": "stream",
          "name": "stderr",
          "text": [
            "\r 76%|\u001b[32m███████▌  \u001b[0m| 227/300 [01:16<00:24,  2.98it/s]"
          ]
        },
        {
          "output_type": "stream",
          "name": "stdout",
          "text": [
            "F1 in epoch226 : 0.8309\n"
          ]
        },
        {
          "output_type": "stream",
          "name": "stderr",
          "text": [
            "\r 76%|\u001b[32m███████▌  \u001b[0m| 228/300 [01:16<00:25,  2.81it/s]"
          ]
        },
        {
          "output_type": "stream",
          "name": "stdout",
          "text": [
            "F1 in epoch227 : 0.8309\n"
          ]
        },
        {
          "output_type": "stream",
          "name": "stderr",
          "text": [
            "\r 76%|\u001b[32m███████▋  \u001b[0m| 229/300 [01:17<00:24,  2.90it/s]"
          ]
        },
        {
          "output_type": "stream",
          "name": "stdout",
          "text": [
            "F1 in epoch228 : 0.8309\n"
          ]
        },
        {
          "output_type": "stream",
          "name": "stderr",
          "text": [
            "\r 77%|\u001b[32m███████▋  \u001b[0m| 230/300 [01:17<00:23,  2.98it/s]"
          ]
        },
        {
          "output_type": "stream",
          "name": "stdout",
          "text": [
            "F1 in epoch229 : 0.8309\n"
          ]
        },
        {
          "output_type": "stream",
          "name": "stderr",
          "text": [
            "\r 77%|\u001b[32m███████▋  \u001b[0m| 231/300 [01:17<00:24,  2.80it/s]"
          ]
        },
        {
          "output_type": "stream",
          "name": "stdout",
          "text": [
            "F1 in epoch230 : 0.8309\n"
          ]
        },
        {
          "output_type": "stream",
          "name": "stderr",
          "text": [
            "\r 77%|\u001b[32m███████▋  \u001b[0m| 232/300 [01:18<00:23,  2.89it/s]"
          ]
        },
        {
          "output_type": "stream",
          "name": "stdout",
          "text": [
            "F1 in epoch231 : 0.8309\n"
          ]
        },
        {
          "output_type": "stream",
          "name": "stderr",
          "text": [
            "\r 78%|\u001b[32m███████▊  \u001b[0m| 233/300 [01:18<00:22,  2.98it/s]"
          ]
        },
        {
          "output_type": "stream",
          "name": "stdout",
          "text": [
            "F1 in epoch232 : 0.8309\n"
          ]
        },
        {
          "output_type": "stream",
          "name": "stderr",
          "text": [
            "\r 78%|\u001b[32m███████▊  \u001b[0m| 234/300 [01:18<00:21,  3.04it/s]"
          ]
        },
        {
          "output_type": "stream",
          "name": "stdout",
          "text": [
            "F1 in epoch233 : 0.8309\n"
          ]
        },
        {
          "output_type": "stream",
          "name": "stderr",
          "text": [
            "\r 78%|\u001b[32m███████▊  \u001b[0m| 235/300 [01:19<00:22,  2.83it/s]"
          ]
        },
        {
          "output_type": "stream",
          "name": "stdout",
          "text": [
            "F1 in epoch234 : 0.8309\n"
          ]
        },
        {
          "output_type": "stream",
          "name": "stderr",
          "text": [
            "\r 79%|\u001b[32m███████▊  \u001b[0m| 236/300 [01:19<00:21,  2.92it/s]"
          ]
        },
        {
          "output_type": "stream",
          "name": "stdout",
          "text": [
            "F1 in epoch235 : 0.8309\n"
          ]
        },
        {
          "output_type": "stream",
          "name": "stderr",
          "text": [
            "\r 79%|\u001b[32m███████▉  \u001b[0m| 237/300 [01:19<00:21,  3.00it/s]"
          ]
        },
        {
          "output_type": "stream",
          "name": "stdout",
          "text": [
            "F1 in epoch236 : 0.8309\n"
          ]
        },
        {
          "output_type": "stream",
          "name": "stderr",
          "text": [
            "\r 79%|\u001b[32m███████▉  \u001b[0m| 238/300 [01:20<00:20,  3.02it/s]"
          ]
        },
        {
          "output_type": "stream",
          "name": "stdout",
          "text": [
            "F1 in epoch237 : 0.8309\n"
          ]
        },
        {
          "output_type": "stream",
          "name": "stderr",
          "text": [
            "\r 80%|\u001b[32m███████▉  \u001b[0m| 239/300 [01:20<00:21,  2.80it/s]"
          ]
        },
        {
          "output_type": "stream",
          "name": "stdout",
          "text": [
            "F1 in epoch238 : 0.8305\n"
          ]
        },
        {
          "output_type": "stream",
          "name": "stderr",
          "text": [
            "\r 80%|\u001b[32m████████  \u001b[0m| 240/300 [01:20<00:20,  2.89it/s]"
          ]
        },
        {
          "output_type": "stream",
          "name": "stdout",
          "text": [
            "F1 in epoch239 : 0.8305\n"
          ]
        },
        {
          "output_type": "stream",
          "name": "stderr",
          "text": [
            "\r 80%|\u001b[32m████████  \u001b[0m| 241/300 [01:21<00:19,  2.96it/s]"
          ]
        },
        {
          "output_type": "stream",
          "name": "stdout",
          "text": [
            "F1 in epoch240 : 0.8305\n"
          ]
        },
        {
          "output_type": "stream",
          "name": "stderr",
          "text": [
            "\r 81%|\u001b[32m████████  \u001b[0m| 242/300 [01:21<00:19,  3.03it/s]"
          ]
        },
        {
          "output_type": "stream",
          "name": "stdout",
          "text": [
            "F1 in epoch241 : 0.8305\n"
          ]
        },
        {
          "output_type": "stream",
          "name": "stderr",
          "text": [
            "\r 81%|\u001b[32m████████  \u001b[0m| 243/300 [01:21<00:20,  2.83it/s]"
          ]
        },
        {
          "output_type": "stream",
          "name": "stdout",
          "text": [
            "F1 in epoch242 : 0.8305\n"
          ]
        },
        {
          "output_type": "stream",
          "name": "stderr",
          "text": [
            "\r 81%|\u001b[32m████████▏ \u001b[0m| 244/300 [01:22<00:19,  2.88it/s]"
          ]
        },
        {
          "output_type": "stream",
          "name": "stdout",
          "text": [
            "F1 in epoch243 : 0.8305\n"
          ]
        },
        {
          "output_type": "stream",
          "name": "stderr",
          "text": [
            "\r 82%|\u001b[32m████████▏ \u001b[0m| 245/300 [01:22<00:18,  2.93it/s]"
          ]
        },
        {
          "output_type": "stream",
          "name": "stdout",
          "text": [
            "F1 in epoch244 : 0.8305\n"
          ]
        },
        {
          "output_type": "stream",
          "name": "stderr",
          "text": [
            "\r 82%|\u001b[32m████████▏ \u001b[0m| 246/300 [01:22<00:17,  3.02it/s]"
          ]
        },
        {
          "output_type": "stream",
          "name": "stdout",
          "text": [
            "F1 in epoch245 : 0.8305\n"
          ]
        },
        {
          "output_type": "stream",
          "name": "stderr",
          "text": [
            "\r 82%|\u001b[32m████████▏ \u001b[0m| 247/300 [01:23<00:18,  2.94it/s]"
          ]
        },
        {
          "output_type": "stream",
          "name": "stdout",
          "text": [
            "F1 in epoch246 : 0.8305\n"
          ]
        },
        {
          "output_type": "stream",
          "name": "stderr",
          "text": [
            "\r 83%|\u001b[32m████████▎ \u001b[0m| 248/300 [01:23<00:17,  3.01it/s]"
          ]
        },
        {
          "output_type": "stream",
          "name": "stdout",
          "text": [
            "F1 in epoch247 : 0.8305\n"
          ]
        },
        {
          "output_type": "stream",
          "name": "stderr",
          "text": [
            "\r 83%|\u001b[32m████████▎ \u001b[0m| 249/300 [01:23<00:17,  3.00it/s]"
          ]
        },
        {
          "output_type": "stream",
          "name": "stdout",
          "text": [
            "F1 in epoch248 : 0.8305\n"
          ]
        },
        {
          "output_type": "stream",
          "name": "stderr",
          "text": [
            "\r 83%|\u001b[32m████████▎ \u001b[0m| 250/300 [01:24<00:16,  3.08it/s]"
          ]
        },
        {
          "output_type": "stream",
          "name": "stdout",
          "text": [
            "F1 in epoch249 : 0.8305\n"
          ]
        },
        {
          "output_type": "stream",
          "name": "stderr",
          "text": [
            "\r 84%|\u001b[32m████████▎ \u001b[0m| 251/300 [01:24<00:17,  2.86it/s]"
          ]
        },
        {
          "output_type": "stream",
          "name": "stdout",
          "text": [
            "F1 in epoch250 : 0.8305\n"
          ]
        },
        {
          "output_type": "stream",
          "name": "stderr",
          "text": [
            "\r 84%|\u001b[32m████████▍ \u001b[0m| 252/300 [01:24<00:16,  2.95it/s]"
          ]
        },
        {
          "output_type": "stream",
          "name": "stdout",
          "text": [
            "F1 in epoch251 : 0.8305\n"
          ]
        },
        {
          "output_type": "stream",
          "name": "stderr",
          "text": [
            "\r 84%|\u001b[32m████████▍ \u001b[0m| 253/300 [01:25<00:15,  3.04it/s]"
          ]
        },
        {
          "output_type": "stream",
          "name": "stdout",
          "text": [
            "F1 in epoch252 : 0.8305\n"
          ]
        },
        {
          "output_type": "stream",
          "name": "stderr",
          "text": [
            "\r 85%|\u001b[32m████████▍ \u001b[0m| 254/300 [01:25<00:14,  3.11it/s]"
          ]
        },
        {
          "output_type": "stream",
          "name": "stdout",
          "text": [
            "F1 in epoch253 : 0.8305\n"
          ]
        },
        {
          "output_type": "stream",
          "name": "stderr",
          "text": [
            "\r 85%|\u001b[32m████████▌ \u001b[0m| 255/300 [01:25<00:15,  2.89it/s]"
          ]
        },
        {
          "output_type": "stream",
          "name": "stdout",
          "text": [
            "F1 in epoch254 : 0.8305\n"
          ]
        },
        {
          "output_type": "stream",
          "name": "stderr",
          "text": [
            "\r 85%|\u001b[32m████████▌ \u001b[0m| 256/300 [01:26<00:14,  2.97it/s]"
          ]
        },
        {
          "output_type": "stream",
          "name": "stdout",
          "text": [
            "F1 in epoch255 : 0.8305\n"
          ]
        },
        {
          "output_type": "stream",
          "name": "stderr",
          "text": [
            "\r 86%|\u001b[32m████████▌ \u001b[0m| 257/300 [01:26<00:14,  3.06it/s]"
          ]
        },
        {
          "output_type": "stream",
          "name": "stdout",
          "text": [
            "F1 in epoch256 : 0.8305\n"
          ]
        },
        {
          "output_type": "stream",
          "name": "stderr",
          "text": [
            "\r 86%|\u001b[32m████████▌ \u001b[0m| 258/300 [01:26<00:14,  2.84it/s]"
          ]
        },
        {
          "output_type": "stream",
          "name": "stdout",
          "text": [
            "F1 in epoch257 : 0.8305\n"
          ]
        },
        {
          "output_type": "stream",
          "name": "stderr",
          "text": [
            "\r 86%|\u001b[32m████████▋ \u001b[0m| 259/300 [01:27<00:14,  2.91it/s]"
          ]
        },
        {
          "output_type": "stream",
          "name": "stdout",
          "text": [
            "F1 in epoch258 : 0.8305\n"
          ]
        },
        {
          "output_type": "stream",
          "name": "stderr",
          "text": [
            "\r 87%|\u001b[32m████████▋ \u001b[0m| 260/300 [01:27<00:13,  2.99it/s]"
          ]
        },
        {
          "output_type": "stream",
          "name": "stdout",
          "text": [
            "F1 in epoch259 : 0.8305\n"
          ]
        },
        {
          "output_type": "stream",
          "name": "stderr",
          "text": [
            "\r 87%|\u001b[32m████████▋ \u001b[0m| 261/300 [01:27<00:12,  3.06it/s]"
          ]
        },
        {
          "output_type": "stream",
          "name": "stdout",
          "text": [
            "F1 in epoch260 : 0.8305\n"
          ]
        },
        {
          "output_type": "stream",
          "name": "stderr",
          "text": [
            "\r 87%|\u001b[32m████████▋ \u001b[0m| 262/300 [01:28<00:13,  2.82it/s]"
          ]
        },
        {
          "output_type": "stream",
          "name": "stdout",
          "text": [
            "F1 in epoch261 : 0.8305\n"
          ]
        },
        {
          "output_type": "stream",
          "name": "stderr",
          "text": [
            "\r 88%|\u001b[32m████████▊ \u001b[0m| 263/300 [01:28<00:12,  2.93it/s]"
          ]
        },
        {
          "output_type": "stream",
          "name": "stdout",
          "text": [
            "F1 in epoch262 : 0.8305\n"
          ]
        },
        {
          "output_type": "stream",
          "name": "stderr",
          "text": [
            "\r 88%|\u001b[32m████████▊ \u001b[0m| 264/300 [01:28<00:11,  3.01it/s]"
          ]
        },
        {
          "output_type": "stream",
          "name": "stdout",
          "text": [
            "F1 in epoch263 : 0.8305\n"
          ]
        },
        {
          "output_type": "stream",
          "name": "stderr",
          "text": [
            "\r 88%|\u001b[32m████████▊ \u001b[0m| 265/300 [01:29<00:11,  3.08it/s]"
          ]
        },
        {
          "output_type": "stream",
          "name": "stdout",
          "text": [
            "F1 in epoch264 : 0.8305\n"
          ]
        },
        {
          "output_type": "stream",
          "name": "stderr",
          "text": [
            "\r 89%|\u001b[32m████████▊ \u001b[0m| 266/300 [01:29<00:11,  2.85it/s]"
          ]
        },
        {
          "output_type": "stream",
          "name": "stdout",
          "text": [
            "F1 in epoch265 : 0.8305\n"
          ]
        },
        {
          "output_type": "stream",
          "name": "stderr",
          "text": [
            "\r 89%|\u001b[32m████████▉ \u001b[0m| 267/300 [01:29<00:11,  2.94it/s]"
          ]
        },
        {
          "output_type": "stream",
          "name": "stdout",
          "text": [
            "F1 in epoch266 : 0.8305\n"
          ]
        },
        {
          "output_type": "stream",
          "name": "stderr",
          "text": [
            "\r 89%|\u001b[32m████████▉ \u001b[0m| 268/300 [01:30<00:10,  2.98it/s]"
          ]
        },
        {
          "output_type": "stream",
          "name": "stdout",
          "text": [
            "F1 in epoch267 : 0.8305\n"
          ]
        },
        {
          "output_type": "stream",
          "name": "stderr",
          "text": [
            "\r 90%|\u001b[32m████████▉ \u001b[0m| 269/300 [01:30<00:10,  3.06it/s]"
          ]
        },
        {
          "output_type": "stream",
          "name": "stdout",
          "text": [
            "F1 in epoch268 : 0.8305\n"
          ]
        },
        {
          "output_type": "stream",
          "name": "stderr",
          "text": [
            "\r 90%|\u001b[32m█████████ \u001b[0m| 270/300 [01:30<00:10,  2.84it/s]"
          ]
        },
        {
          "output_type": "stream",
          "name": "stdout",
          "text": [
            "F1 in epoch269 : 0.8305\n"
          ]
        },
        {
          "output_type": "stream",
          "name": "stderr",
          "text": [
            "\r 90%|\u001b[32m█████████ \u001b[0m| 271/300 [01:31<00:09,  2.92it/s]"
          ]
        },
        {
          "output_type": "stream",
          "name": "stdout",
          "text": [
            "F1 in epoch270 : 0.8305\n"
          ]
        },
        {
          "output_type": "stream",
          "name": "stderr",
          "text": [
            "\r 91%|\u001b[32m█████████ \u001b[0m| 272/300 [01:31<00:09,  2.99it/s]"
          ]
        },
        {
          "output_type": "stream",
          "name": "stdout",
          "text": [
            "F1 in epoch271 : 0.8305\n"
          ]
        },
        {
          "output_type": "stream",
          "name": "stderr",
          "text": [
            "\r 91%|\u001b[32m█████████ \u001b[0m| 273/300 [01:31<00:08,  3.07it/s]"
          ]
        },
        {
          "output_type": "stream",
          "name": "stdout",
          "text": [
            "F1 in epoch272 : 0.8305\n"
          ]
        },
        {
          "output_type": "stream",
          "name": "stderr",
          "text": [
            "\r 91%|\u001b[32m█████████▏\u001b[0m| 274/300 [01:32<00:09,  2.85it/s]"
          ]
        },
        {
          "output_type": "stream",
          "name": "stdout",
          "text": [
            "F1 in epoch273 : 0.8305\n"
          ]
        },
        {
          "output_type": "stream",
          "name": "stderr",
          "text": [
            "\r 92%|\u001b[32m█████████▏\u001b[0m| 275/300 [01:32<00:08,  2.93it/s]"
          ]
        },
        {
          "output_type": "stream",
          "name": "stdout",
          "text": [
            "F1 in epoch274 : 0.8305\n"
          ]
        },
        {
          "output_type": "stream",
          "name": "stderr",
          "text": [
            "\r 92%|\u001b[32m█████████▏\u001b[0m| 276/300 [01:32<00:08,  3.00it/s]"
          ]
        },
        {
          "output_type": "stream",
          "name": "stdout",
          "text": [
            "F1 in epoch275 : 0.8305\n"
          ]
        },
        {
          "output_type": "stream",
          "name": "stderr",
          "text": [
            "\r 92%|\u001b[32m█████████▏\u001b[0m| 277/300 [01:33<00:07,  3.06it/s]"
          ]
        },
        {
          "output_type": "stream",
          "name": "stdout",
          "text": [
            "F1 in epoch276 : 0.8305\n"
          ]
        },
        {
          "output_type": "stream",
          "name": "stderr",
          "text": [
            "\r 93%|\u001b[32m█████████▎\u001b[0m| 278/300 [01:33<00:07,  2.84it/s]"
          ]
        },
        {
          "output_type": "stream",
          "name": "stdout",
          "text": [
            "F1 in epoch277 : 0.8305\n"
          ]
        },
        {
          "output_type": "stream",
          "name": "stderr",
          "text": [
            "\r 93%|\u001b[32m█████████▎\u001b[0m| 279/300 [01:33<00:07,  2.92it/s]"
          ]
        },
        {
          "output_type": "stream",
          "name": "stdout",
          "text": [
            "F1 in epoch278 : 0.8305\n"
          ]
        },
        {
          "output_type": "stream",
          "name": "stderr",
          "text": [
            "\r 93%|\u001b[32m█████████▎\u001b[0m| 280/300 [01:34<00:06,  2.98it/s]"
          ]
        },
        {
          "output_type": "stream",
          "name": "stdout",
          "text": [
            "F1 in epoch279 : 0.8305\n"
          ]
        },
        {
          "output_type": "stream",
          "name": "stderr",
          "text": [
            "\r 94%|\u001b[32m█████████▎\u001b[0m| 281/300 [01:34<00:06,  3.03it/s]"
          ]
        },
        {
          "output_type": "stream",
          "name": "stdout",
          "text": [
            "F1 in epoch280 : 0.8305\n"
          ]
        },
        {
          "output_type": "stream",
          "name": "stderr",
          "text": [
            "\r 94%|\u001b[32m█████████▍\u001b[0m| 282/300 [01:34<00:06,  2.94it/s]"
          ]
        },
        {
          "output_type": "stream",
          "name": "stdout",
          "text": [
            "F1 in epoch281 : 0.8305\n"
          ]
        },
        {
          "output_type": "stream",
          "name": "stderr",
          "text": [
            "\r 94%|\u001b[32m█████████▍\u001b[0m| 283/300 [01:35<00:05,  2.94it/s]"
          ]
        },
        {
          "output_type": "stream",
          "name": "stdout",
          "text": [
            "F1 in epoch282 : 0.8305\n"
          ]
        },
        {
          "output_type": "stream",
          "name": "stderr",
          "text": [
            "\r 95%|\u001b[32m█████████▍\u001b[0m| 284/300 [01:35<00:05,  3.00it/s]"
          ]
        },
        {
          "output_type": "stream",
          "name": "stdout",
          "text": [
            "F1 in epoch283 : 0.8305\n"
          ]
        },
        {
          "output_type": "stream",
          "name": "stderr",
          "text": [
            "\r 95%|\u001b[32m█████████▌\u001b[0m| 285/300 [01:35<00:04,  3.07it/s]"
          ]
        },
        {
          "output_type": "stream",
          "name": "stdout",
          "text": [
            "F1 in epoch284 : 0.8305\n"
          ]
        },
        {
          "output_type": "stream",
          "name": "stderr",
          "text": [
            "\r 95%|\u001b[32m█████████▌\u001b[0m| 286/300 [01:36<00:04,  2.83it/s]"
          ]
        },
        {
          "output_type": "stream",
          "name": "stdout",
          "text": [
            "F1 in epoch285 : 0.8305\n"
          ]
        },
        {
          "output_type": "stream",
          "name": "stderr",
          "text": [
            "\r 96%|\u001b[32m█████████▌\u001b[0m| 287/300 [01:36<00:04,  2.93it/s]"
          ]
        },
        {
          "output_type": "stream",
          "name": "stdout",
          "text": [
            "F1 in epoch286 : 0.8305\n"
          ]
        },
        {
          "output_type": "stream",
          "name": "stderr",
          "text": [
            "\r 96%|\u001b[32m█████████▌\u001b[0m| 288/300 [01:36<00:03,  3.01it/s]"
          ]
        },
        {
          "output_type": "stream",
          "name": "stdout",
          "text": [
            "F1 in epoch287 : 0.8305\n"
          ]
        },
        {
          "output_type": "stream",
          "name": "stderr",
          "text": [
            "\r 96%|\u001b[32m█████████▋\u001b[0m| 289/300 [01:37<00:03,  3.10it/s]"
          ]
        },
        {
          "output_type": "stream",
          "name": "stdout",
          "text": [
            "F1 in epoch288 : 0.8305\n"
          ]
        },
        {
          "output_type": "stream",
          "name": "stderr",
          "text": [
            "\r 97%|\u001b[32m█████████▋\u001b[0m| 290/300 [01:37<00:03,  2.88it/s]"
          ]
        },
        {
          "output_type": "stream",
          "name": "stdout",
          "text": [
            "F1 in epoch289 : 0.8305\n"
          ]
        },
        {
          "output_type": "stream",
          "name": "stderr",
          "text": [
            "\r 97%|\u001b[32m█████████▋\u001b[0m| 291/300 [01:37<00:03,  2.98it/s]"
          ]
        },
        {
          "output_type": "stream",
          "name": "stdout",
          "text": [
            "F1 in epoch290 : 0.8305\n"
          ]
        },
        {
          "output_type": "stream",
          "name": "stderr",
          "text": [
            "\r 97%|\u001b[32m█████████▋\u001b[0m| 292/300 [01:38<00:02,  3.02it/s]"
          ]
        },
        {
          "output_type": "stream",
          "name": "stdout",
          "text": [
            "F1 in epoch291 : 0.8305\n"
          ]
        },
        {
          "output_type": "stream",
          "name": "stderr",
          "text": [
            "\r 98%|\u001b[32m█████████▊\u001b[0m| 293/300 [01:38<00:02,  2.83it/s]"
          ]
        },
        {
          "output_type": "stream",
          "name": "stdout",
          "text": [
            "F1 in epoch292 : 0.8305\n"
          ]
        },
        {
          "output_type": "stream",
          "name": "stderr",
          "text": [
            "\r 98%|\u001b[32m█████████▊\u001b[0m| 294/300 [01:39<00:02,  2.91it/s]"
          ]
        },
        {
          "output_type": "stream",
          "name": "stdout",
          "text": [
            "F1 in epoch293 : 0.8305\n"
          ]
        },
        {
          "output_type": "stream",
          "name": "stderr",
          "text": [
            "\r 98%|\u001b[32m█████████▊\u001b[0m| 295/300 [01:39<00:01,  2.93it/s]"
          ]
        },
        {
          "output_type": "stream",
          "name": "stdout",
          "text": [
            "F1 in epoch294 : 0.8305\n"
          ]
        },
        {
          "output_type": "stream",
          "name": "stderr",
          "text": [
            "\r 99%|\u001b[32m█████████▊\u001b[0m| 296/300 [01:39<00:01,  2.98it/s]"
          ]
        },
        {
          "output_type": "stream",
          "name": "stdout",
          "text": [
            "F1 in epoch295 : 0.8305\n"
          ]
        },
        {
          "output_type": "stream",
          "name": "stderr",
          "text": [
            "\r 99%|\u001b[32m█████████▉\u001b[0m| 297/300 [01:40<00:01,  2.81it/s]"
          ]
        },
        {
          "output_type": "stream",
          "name": "stdout",
          "text": [
            "F1 in epoch296 : 0.8305\n"
          ]
        },
        {
          "output_type": "stream",
          "name": "stderr",
          "text": [
            "\r 99%|\u001b[32m█████████▉\u001b[0m| 298/300 [01:40<00:00,  2.86it/s]"
          ]
        },
        {
          "output_type": "stream",
          "name": "stdout",
          "text": [
            "F1 in epoch297 : 0.8305\n"
          ]
        },
        {
          "output_type": "stream",
          "name": "stderr",
          "text": [
            "\r100%|\u001b[32m█████████▉\u001b[0m| 299/300 [01:40<00:00,  2.95it/s]"
          ]
        },
        {
          "output_type": "stream",
          "name": "stdout",
          "text": [
            "F1 in epoch298 : 0.8305\n"
          ]
        },
        {
          "output_type": "stream",
          "name": "stderr",
          "text": [
            "100%|\u001b[32m██████████\u001b[0m| 300/300 [01:41<00:00,  2.97it/s]"
          ]
        },
        {
          "output_type": "stream",
          "name": "stdout",
          "text": [
            "F1 in epoch299 : 0.8305\n"
          ]
        },
        {
          "output_type": "stream",
          "name": "stderr",
          "text": [
            "\n"
          ]
        }
      ]
    },
    {
      "cell_type": "code",
      "source": [
        "sum_train = img_train+txt_train\n",
        "sum_test = img_test+txt_test\n",
        "Net, loss_list, f1_list = Trainer(DECISION_DECISION_DNN(),300, 220, 270, sum_train)\n",
        "Net.eval()\n",
        "with torch.autograd.no_grad():\n",
        "    final = Net(sum_test)"
      ],
      "metadata": {
        "id": "_no8g3kY5eYw",
        "colab": {
          "base_uri": "https://localhost:8080/"
        },
        "outputId": "ede32d7b-2dfa-4156-eff9-31df1dc0725c"
      },
      "execution_count": 21,
      "outputs": [
        {
          "output_type": "stream",
          "name": "stderr",
          "text": [
            "  0%|\u001b[32m          \u001b[0m| 1/300 [00:00<02:01,  2.46it/s]"
          ]
        },
        {
          "output_type": "stream",
          "name": "stdout",
          "text": [
            "F1 in epoch0 : 0.5587\n"
          ]
        },
        {
          "output_type": "stream",
          "name": "stderr",
          "text": [
            "\r  1%|\u001b[32m          \u001b[0m| 2/300 [00:00<01:44,  2.85it/s]"
          ]
        },
        {
          "output_type": "stream",
          "name": "stdout",
          "text": [
            "F1 in epoch1 : 0.6187\n"
          ]
        },
        {
          "output_type": "stream",
          "name": "stderr",
          "text": [
            "\r  1%|\u001b[32m          \u001b[0m| 3/300 [00:01<01:36,  3.09it/s]"
          ]
        },
        {
          "output_type": "stream",
          "name": "stdout",
          "text": [
            "F1 in epoch2 : 0.6051\n"
          ]
        },
        {
          "output_type": "stream",
          "name": "stderr",
          "text": [
            "\r  1%|\u001b[32m▏         \u001b[0m| 4/300 [00:01<01:32,  3.20it/s]"
          ]
        },
        {
          "output_type": "stream",
          "name": "stdout",
          "text": [
            "F1 in epoch3 : 0.5806\n"
          ]
        },
        {
          "output_type": "stream",
          "name": "stderr",
          "text": [
            "\r  2%|\u001b[32m▏         \u001b[0m| 5/300 [00:01<01:40,  2.95it/s]"
          ]
        },
        {
          "output_type": "stream",
          "name": "stdout",
          "text": [
            "F1 in epoch4 : 0.5782\n"
          ]
        },
        {
          "output_type": "stream",
          "name": "stderr",
          "text": [
            "\r  2%|\u001b[32m▏         \u001b[0m| 6/300 [00:01<01:34,  3.10it/s]"
          ]
        },
        {
          "output_type": "stream",
          "name": "stdout",
          "text": [
            "F1 in epoch5 : 0.5778\n"
          ]
        },
        {
          "output_type": "stream",
          "name": "stderr",
          "text": [
            "\r  2%|\u001b[32m▏         \u001b[0m| 7/300 [00:02<01:32,  3.16it/s]"
          ]
        },
        {
          "output_type": "stream",
          "name": "stdout",
          "text": [
            "F1 in epoch6 : 0.5778\n"
          ]
        },
        {
          "output_type": "stream",
          "name": "stderr",
          "text": [
            "\r  3%|\u001b[32m▎         \u001b[0m| 8/300 [00:02<01:30,  3.24it/s]"
          ]
        },
        {
          "output_type": "stream",
          "name": "stdout",
          "text": [
            "F1 in epoch7 : 0.5778\n"
          ]
        },
        {
          "output_type": "stream",
          "name": "stderr",
          "text": [
            "\r  3%|\u001b[32m▎         \u001b[0m| 9/300 [00:02<01:36,  3.00it/s]"
          ]
        },
        {
          "output_type": "stream",
          "name": "stdout",
          "text": [
            "F1 in epoch8 : 0.5778\n"
          ]
        },
        {
          "output_type": "stream",
          "name": "stderr",
          "text": [
            "\r  3%|\u001b[32m▎         \u001b[0m| 10/300 [00:03<01:33,  3.10it/s]"
          ]
        },
        {
          "output_type": "stream",
          "name": "stdout",
          "text": [
            "F1 in epoch9 : 0.5778\n"
          ]
        },
        {
          "output_type": "stream",
          "name": "stderr",
          "text": [
            "\r  4%|\u001b[32m▎         \u001b[0m| 11/300 [00:03<01:30,  3.21it/s]"
          ]
        },
        {
          "output_type": "stream",
          "name": "stdout",
          "text": [
            "F1 in epoch10 : 0.5778\n"
          ]
        },
        {
          "output_type": "stream",
          "name": "stderr",
          "text": [
            "\r  4%|\u001b[32m▍         \u001b[0m| 12/300 [00:03<01:27,  3.31it/s]"
          ]
        },
        {
          "output_type": "stream",
          "name": "stdout",
          "text": [
            "F1 in epoch11 : 0.5778\n"
          ]
        },
        {
          "output_type": "stream",
          "name": "stderr",
          "text": [
            "\r  4%|\u001b[32m▍         \u001b[0m| 13/300 [00:04<01:34,  3.03it/s]"
          ]
        },
        {
          "output_type": "stream",
          "name": "stdout",
          "text": [
            "F1 in epoch12 : 0.5778\n"
          ]
        },
        {
          "output_type": "stream",
          "name": "stderr",
          "text": [
            "\r  5%|\u001b[32m▍         \u001b[0m| 14/300 [00:04<01:33,  3.06it/s]"
          ]
        },
        {
          "output_type": "stream",
          "name": "stdout",
          "text": [
            "F1 in epoch13 : 0.5778\n"
          ]
        },
        {
          "output_type": "stream",
          "name": "stderr",
          "text": [
            "\r  5%|\u001b[32m▌         \u001b[0m| 15/300 [00:04<01:30,  3.16it/s]"
          ]
        },
        {
          "output_type": "stream",
          "name": "stdout",
          "text": [
            "F1 in epoch14 : 0.5778\n"
          ]
        },
        {
          "output_type": "stream",
          "name": "stderr",
          "text": [
            "\r  5%|\u001b[32m▌         \u001b[0m| 16/300 [00:05<01:26,  3.28it/s]"
          ]
        },
        {
          "output_type": "stream",
          "name": "stdout",
          "text": [
            "F1 in epoch15 : 0.5778\n"
          ]
        },
        {
          "output_type": "stream",
          "name": "stderr",
          "text": [
            "\r  6%|\u001b[32m▌         \u001b[0m| 17/300 [00:05<01:32,  3.06it/s]"
          ]
        },
        {
          "output_type": "stream",
          "name": "stdout",
          "text": [
            "F1 in epoch16 : 0.5778\n"
          ]
        },
        {
          "output_type": "stream",
          "name": "stderr",
          "text": [
            "\r  6%|\u001b[32m▌         \u001b[0m| 18/300 [00:05<01:29,  3.16it/s]"
          ]
        },
        {
          "output_type": "stream",
          "name": "stdout",
          "text": [
            "F1 in epoch17 : 0.5778\n"
          ]
        },
        {
          "output_type": "stream",
          "name": "stderr",
          "text": [
            "\r  6%|\u001b[32m▋         \u001b[0m| 19/300 [00:06<01:28,  3.19it/s]"
          ]
        },
        {
          "output_type": "stream",
          "name": "stdout",
          "text": [
            "F1 in epoch18 : 0.5778\n"
          ]
        },
        {
          "output_type": "stream",
          "name": "stderr",
          "text": [
            "\r  7%|\u001b[32m▋         \u001b[0m| 20/300 [00:06<01:34,  2.96it/s]"
          ]
        },
        {
          "output_type": "stream",
          "name": "stdout",
          "text": [
            "F1 in epoch19 : 0.5778\n"
          ]
        },
        {
          "output_type": "stream",
          "name": "stderr",
          "text": [
            "\r  7%|\u001b[32m▋         \u001b[0m| 21/300 [00:06<01:31,  3.03it/s]"
          ]
        },
        {
          "output_type": "stream",
          "name": "stdout",
          "text": [
            "F1 in epoch20 : 0.5778\n"
          ]
        },
        {
          "output_type": "stream",
          "name": "stderr",
          "text": [
            "\r  7%|\u001b[32m▋         \u001b[0m| 22/300 [00:07<01:29,  3.11it/s]"
          ]
        },
        {
          "output_type": "stream",
          "name": "stdout",
          "text": [
            "F1 in epoch21 : 0.5785\n"
          ]
        },
        {
          "output_type": "stream",
          "name": "stderr",
          "text": [
            "\r  8%|\u001b[32m▊         \u001b[0m| 23/300 [00:07<01:25,  3.22it/s]"
          ]
        },
        {
          "output_type": "stream",
          "name": "stdout",
          "text": [
            "F1 in epoch22 : 0.5947\n"
          ]
        },
        {
          "output_type": "stream",
          "name": "stderr",
          "text": [
            "\r  8%|\u001b[32m▊         \u001b[0m| 24/300 [00:07<01:32,  3.00it/s]"
          ]
        },
        {
          "output_type": "stream",
          "name": "stdout",
          "text": [
            "F1 in epoch23 : 0.6155\n"
          ]
        },
        {
          "output_type": "stream",
          "name": "stderr",
          "text": [
            "\r  8%|\u001b[32m▊         \u001b[0m| 25/300 [00:08<01:27,  3.13it/s]"
          ]
        },
        {
          "output_type": "stream",
          "name": "stdout",
          "text": [
            "F1 in epoch24 : 0.6352\n"
          ]
        },
        {
          "output_type": "stream",
          "name": "stderr",
          "text": [
            "\r  9%|\u001b[32m▊         \u001b[0m| 26/300 [00:08<01:25,  3.22it/s]"
          ]
        },
        {
          "output_type": "stream",
          "name": "stdout",
          "text": [
            "F1 in epoch25 : 0.6452\n"
          ]
        },
        {
          "output_type": "stream",
          "name": "stderr",
          "text": [
            "\r  9%|\u001b[32m▉         \u001b[0m| 27/300 [00:08<01:22,  3.31it/s]"
          ]
        },
        {
          "output_type": "stream",
          "name": "stdout",
          "text": [
            "F1 in epoch26 : 0.6492\n"
          ]
        },
        {
          "output_type": "stream",
          "name": "stderr",
          "text": [
            "\r  9%|\u001b[32m▉         \u001b[0m| 28/300 [00:09<01:29,  3.05it/s]"
          ]
        },
        {
          "output_type": "stream",
          "name": "stdout",
          "text": [
            "F1 in epoch27 : 0.6465\n"
          ]
        },
        {
          "output_type": "stream",
          "name": "stderr",
          "text": [
            "\r 10%|\u001b[32m▉         \u001b[0m| 29/300 [00:09<01:26,  3.15it/s]"
          ]
        },
        {
          "output_type": "stream",
          "name": "stdout",
          "text": [
            "F1 in epoch28 : 0.6442\n"
          ]
        },
        {
          "output_type": "stream",
          "name": "stderr",
          "text": [
            "\r 10%|\u001b[32m█         \u001b[0m| 30/300 [00:09<01:23,  3.23it/s]"
          ]
        },
        {
          "output_type": "stream",
          "name": "stdout",
          "text": [
            "F1 in epoch29 : 0.6432\n"
          ]
        },
        {
          "output_type": "stream",
          "name": "stderr",
          "text": [
            "\r 10%|\u001b[32m█         \u001b[0m| 31/300 [00:09<01:21,  3.32it/s]"
          ]
        },
        {
          "output_type": "stream",
          "name": "stdout",
          "text": [
            "F1 in epoch30 : 0.6427\n"
          ]
        },
        {
          "output_type": "stream",
          "name": "stderr",
          "text": [
            "\r 11%|\u001b[32m█         \u001b[0m| 32/300 [00:10<01:27,  3.07it/s]"
          ]
        },
        {
          "output_type": "stream",
          "name": "stdout",
          "text": [
            "F1 in epoch31 : 0.6423\n"
          ]
        },
        {
          "output_type": "stream",
          "name": "stderr",
          "text": [
            "\r 11%|\u001b[32m█         \u001b[0m| 33/300 [00:10<01:24,  3.18it/s]"
          ]
        },
        {
          "output_type": "stream",
          "name": "stdout",
          "text": [
            "F1 in epoch32 : 0.6445\n"
          ]
        },
        {
          "output_type": "stream",
          "name": "stderr",
          "text": [
            "\r 11%|\u001b[32m█▏        \u001b[0m| 34/300 [00:10<01:22,  3.21it/s]"
          ]
        },
        {
          "output_type": "stream",
          "name": "stdout",
          "text": [
            "F1 in epoch33 : 0.6459\n"
          ]
        },
        {
          "output_type": "stream",
          "name": "stderr",
          "text": [
            "\r 12%|\u001b[32m█▏        \u001b[0m| 35/300 [00:11<01:21,  3.25it/s]"
          ]
        },
        {
          "output_type": "stream",
          "name": "stdout",
          "text": [
            "F1 in epoch34 : 0.6454\n"
          ]
        },
        {
          "output_type": "stream",
          "name": "stderr",
          "text": [
            "\r 12%|\u001b[32m█▏        \u001b[0m| 36/300 [00:11<01:27,  3.02it/s]"
          ]
        },
        {
          "output_type": "stream",
          "name": "stdout",
          "text": [
            "F1 in epoch35 : 0.6492\n"
          ]
        },
        {
          "output_type": "stream",
          "name": "stderr",
          "text": [
            "\r 12%|\u001b[32m█▏        \u001b[0m| 37/300 [00:11<01:24,  3.12it/s]"
          ]
        },
        {
          "output_type": "stream",
          "name": "stdout",
          "text": [
            "F1 in epoch36 : 0.6564\n"
          ]
        },
        {
          "output_type": "stream",
          "name": "stderr",
          "text": [
            "\r 13%|\u001b[32m█▎        \u001b[0m| 38/300 [00:12<01:21,  3.21it/s]"
          ]
        },
        {
          "output_type": "stream",
          "name": "stdout",
          "text": [
            "F1 in epoch37 : 0.6667\n"
          ]
        },
        {
          "output_type": "stream",
          "name": "stderr",
          "text": [
            "\r 13%|\u001b[32m█▎        \u001b[0m| 39/300 [00:12<01:18,  3.31it/s]"
          ]
        },
        {
          "output_type": "stream",
          "name": "stdout",
          "text": [
            "F1 in epoch38 : 0.6675\n"
          ]
        },
        {
          "output_type": "stream",
          "name": "stderr",
          "text": [
            "\r 13%|\u001b[32m█▎        \u001b[0m| 40/300 [00:12<01:25,  3.04it/s]"
          ]
        },
        {
          "output_type": "stream",
          "name": "stdout",
          "text": [
            "F1 in epoch39 : 0.6746\n"
          ]
        },
        {
          "output_type": "stream",
          "name": "stderr",
          "text": [
            "\r 14%|\u001b[32m█▎        \u001b[0m| 41/300 [00:13<01:22,  3.13it/s]"
          ]
        },
        {
          "output_type": "stream",
          "name": "stdout",
          "text": [
            "F1 in epoch40 : 0.6776\n"
          ]
        },
        {
          "output_type": "stream",
          "name": "stderr",
          "text": [
            "\r 14%|\u001b[32m█▍        \u001b[0m| 42/300 [00:13<01:19,  3.24it/s]"
          ]
        },
        {
          "output_type": "stream",
          "name": "stdout",
          "text": [
            "F1 in epoch41 : 0.6806\n"
          ]
        },
        {
          "output_type": "stream",
          "name": "stderr",
          "text": [
            "\r 14%|\u001b[32m█▍        \u001b[0m| 43/300 [00:13<01:17,  3.31it/s]"
          ]
        },
        {
          "output_type": "stream",
          "name": "stdout",
          "text": [
            "F1 in epoch42 : 0.6968\n"
          ]
        },
        {
          "output_type": "stream",
          "name": "stderr",
          "text": [
            "\r 15%|\u001b[32m█▍        \u001b[0m| 44/300 [00:14<01:23,  3.07it/s]"
          ]
        },
        {
          "output_type": "stream",
          "name": "stdout",
          "text": [
            "F1 in epoch43 : 0.7092\n"
          ]
        },
        {
          "output_type": "stream",
          "name": "stderr",
          "text": [
            "\r 15%|\u001b[32m█▌        \u001b[0m| 45/300 [00:14<01:20,  3.17it/s]"
          ]
        },
        {
          "output_type": "stream",
          "name": "stdout",
          "text": [
            "F1 in epoch44 : 0.7141\n"
          ]
        },
        {
          "output_type": "stream",
          "name": "stderr",
          "text": [
            "\r 15%|\u001b[32m█▌        \u001b[0m| 46/300 [00:14<01:17,  3.26it/s]"
          ]
        },
        {
          "output_type": "stream",
          "name": "stdout",
          "text": [
            "F1 in epoch45 : 0.7190\n"
          ]
        },
        {
          "output_type": "stream",
          "name": "stderr",
          "text": [
            "\r 16%|\u001b[32m█▌        \u001b[0m| 47/300 [00:14<01:15,  3.33it/s]"
          ]
        },
        {
          "output_type": "stream",
          "name": "stdout",
          "text": [
            "F1 in epoch46 : 0.7218\n"
          ]
        },
        {
          "output_type": "stream",
          "name": "stderr",
          "text": [
            "\r 16%|\u001b[32m█▌        \u001b[0m| 48/300 [00:15<01:21,  3.09it/s]"
          ]
        },
        {
          "output_type": "stream",
          "name": "stdout",
          "text": [
            "F1 in epoch47 : 0.7232\n"
          ]
        },
        {
          "output_type": "stream",
          "name": "stderr",
          "text": [
            "\r 16%|\u001b[32m█▋        \u001b[0m| 49/300 [00:15<01:18,  3.19it/s]"
          ]
        },
        {
          "output_type": "stream",
          "name": "stdout",
          "text": [
            "F1 in epoch48 : 0.7250\n"
          ]
        },
        {
          "output_type": "stream",
          "name": "stderr",
          "text": [
            "\r 17%|\u001b[32m█▋        \u001b[0m| 50/300 [00:15<01:16,  3.28it/s]"
          ]
        },
        {
          "output_type": "stream",
          "name": "stdout",
          "text": [
            "F1 in epoch49 : 0.7265\n"
          ]
        },
        {
          "output_type": "stream",
          "name": "stderr",
          "text": [
            "\r 17%|\u001b[32m█▋        \u001b[0m| 51/300 [00:16<01:20,  3.11it/s]"
          ]
        },
        {
          "output_type": "stream",
          "name": "stdout",
          "text": [
            "F1 in epoch50 : 0.7323\n"
          ]
        },
        {
          "output_type": "stream",
          "name": "stderr",
          "text": [
            "\r 17%|\u001b[32m█▋        \u001b[0m| 52/300 [00:16<01:18,  3.16it/s]"
          ]
        },
        {
          "output_type": "stream",
          "name": "stdout",
          "text": [
            "F1 in epoch51 : 0.7368\n"
          ]
        },
        {
          "output_type": "stream",
          "name": "stderr",
          "text": [
            "\r 18%|\u001b[32m█▊        \u001b[0m| 53/300 [00:16<01:17,  3.19it/s]"
          ]
        },
        {
          "output_type": "stream",
          "name": "stdout",
          "text": [
            "F1 in epoch52 : 0.7453\n"
          ]
        },
        {
          "output_type": "stream",
          "name": "stderr",
          "text": [
            "\r 18%|\u001b[32m█▊        \u001b[0m| 54/300 [00:17<01:15,  3.26it/s]"
          ]
        },
        {
          "output_type": "stream",
          "name": "stdout",
          "text": [
            "F1 in epoch53 : 0.7476\n"
          ]
        },
        {
          "output_type": "stream",
          "name": "stderr",
          "text": [
            "\r 18%|\u001b[32m█▊        \u001b[0m| 55/300 [00:17<01:20,  3.04it/s]"
          ]
        },
        {
          "output_type": "stream",
          "name": "stdout",
          "text": [
            "F1 in epoch54 : 0.7556\n"
          ]
        },
        {
          "output_type": "stream",
          "name": "stderr",
          "text": [
            "\r 19%|\u001b[32m█▊        \u001b[0m| 56/300 [00:17<01:17,  3.13it/s]"
          ]
        },
        {
          "output_type": "stream",
          "name": "stdout",
          "text": [
            "F1 in epoch55 : 0.7586\n"
          ]
        },
        {
          "output_type": "stream",
          "name": "stderr",
          "text": [
            "\r 19%|\u001b[32m█▉        \u001b[0m| 57/300 [00:18<01:15,  3.22it/s]"
          ]
        },
        {
          "output_type": "stream",
          "name": "stdout",
          "text": [
            "F1 in epoch56 : 0.7620\n"
          ]
        },
        {
          "output_type": "stream",
          "name": "stderr",
          "text": [
            "\r 19%|\u001b[32m█▉        \u001b[0m| 58/300 [00:18<01:13,  3.31it/s]"
          ]
        },
        {
          "output_type": "stream",
          "name": "stdout",
          "text": [
            "F1 in epoch57 : 0.7650\n"
          ]
        },
        {
          "output_type": "stream",
          "name": "stderr",
          "text": [
            "\r 20%|\u001b[32m█▉        \u001b[0m| 59/300 [00:18<01:18,  3.06it/s]"
          ]
        },
        {
          "output_type": "stream",
          "name": "stdout",
          "text": [
            "F1 in epoch58 : 0.7723\n"
          ]
        },
        {
          "output_type": "stream",
          "name": "stderr",
          "text": [
            "\r 20%|\u001b[32m██        \u001b[0m| 60/300 [00:19<01:16,  3.13it/s]"
          ]
        },
        {
          "output_type": "stream",
          "name": "stdout",
          "text": [
            "F1 in epoch59 : 0.7784\n"
          ]
        },
        {
          "output_type": "stream",
          "name": "stderr",
          "text": [
            "\r 20%|\u001b[32m██        \u001b[0m| 61/300 [00:19<01:13,  3.25it/s]"
          ]
        },
        {
          "output_type": "stream",
          "name": "stdout",
          "text": [
            "F1 in epoch60 : 0.7871\n"
          ]
        },
        {
          "output_type": "stream",
          "name": "stderr",
          "text": [
            "\r 21%|\u001b[32m██        \u001b[0m| 62/300 [00:19<01:18,  3.03it/s]"
          ]
        },
        {
          "output_type": "stream",
          "name": "stdout",
          "text": [
            "F1 in epoch61 : 0.7951\n"
          ]
        },
        {
          "output_type": "stream",
          "name": "stderr",
          "text": [
            "\r 21%|\u001b[32m██        \u001b[0m| 63/300 [00:20<01:15,  3.13it/s]"
          ]
        },
        {
          "output_type": "stream",
          "name": "stdout",
          "text": [
            "F1 in epoch62 : 0.7991\n"
          ]
        },
        {
          "output_type": "stream",
          "name": "stderr",
          "text": [
            "\r 21%|\u001b[32m██▏       \u001b[0m| 64/300 [00:20<01:13,  3.22it/s]"
          ]
        },
        {
          "output_type": "stream",
          "name": "stdout",
          "text": [
            "F1 in epoch63 : 0.8026\n"
          ]
        },
        {
          "output_type": "stream",
          "name": "stderr",
          "text": [
            "\r 22%|\u001b[32m██▏       \u001b[0m| 65/300 [00:20<01:11,  3.30it/s]"
          ]
        },
        {
          "output_type": "stream",
          "name": "stdout",
          "text": [
            "F1 in epoch64 : 0.8044\n"
          ]
        },
        {
          "output_type": "stream",
          "name": "stderr",
          "text": [
            "\r 22%|\u001b[32m██▏       \u001b[0m| 66/300 [00:21<01:18,  3.00it/s]"
          ]
        },
        {
          "output_type": "stream",
          "name": "stdout",
          "text": [
            "F1 in epoch65 : 0.8053\n"
          ]
        },
        {
          "output_type": "stream",
          "name": "stderr",
          "text": [
            "\r 22%|\u001b[32m██▏       \u001b[0m| 67/300 [00:21<01:15,  3.09it/s]"
          ]
        },
        {
          "output_type": "stream",
          "name": "stdout",
          "text": [
            "F1 in epoch66 : 0.8074\n"
          ]
        },
        {
          "output_type": "stream",
          "name": "stderr",
          "text": [
            "\r 23%|\u001b[32m██▎       \u001b[0m| 68/300 [00:21<01:12,  3.18it/s]"
          ]
        },
        {
          "output_type": "stream",
          "name": "stdout",
          "text": [
            "F1 in epoch67 : 0.8088\n"
          ]
        },
        {
          "output_type": "stream",
          "name": "stderr",
          "text": [
            "\r 23%|\u001b[32m██▎       \u001b[0m| 69/300 [00:21<01:10,  3.29it/s]"
          ]
        },
        {
          "output_type": "stream",
          "name": "stdout",
          "text": [
            "F1 in epoch68 : 0.8122\n"
          ]
        },
        {
          "output_type": "stream",
          "name": "stderr",
          "text": [
            "\r 23%|\u001b[32m██▎       \u001b[0m| 70/300 [00:22<01:15,  3.04it/s]"
          ]
        },
        {
          "output_type": "stream",
          "name": "stdout",
          "text": [
            "F1 in epoch69 : 0.8152\n"
          ]
        },
        {
          "output_type": "stream",
          "name": "stderr",
          "text": [
            "\r 24%|\u001b[32m██▎       \u001b[0m| 71/300 [00:22<01:14,  3.07it/s]"
          ]
        },
        {
          "output_type": "stream",
          "name": "stdout",
          "text": [
            "F1 in epoch70 : 0.8181\n"
          ]
        },
        {
          "output_type": "stream",
          "name": "stderr",
          "text": [
            "\r 24%|\u001b[32m██▍       \u001b[0m| 72/300 [00:22<01:12,  3.13it/s]"
          ]
        },
        {
          "output_type": "stream",
          "name": "stdout",
          "text": [
            "F1 in epoch71 : 0.8197\n"
          ]
        },
        {
          "output_type": "stream",
          "name": "stderr",
          "text": [
            "\r 24%|\u001b[32m██▍       \u001b[0m| 73/300 [00:23<01:10,  3.21it/s]"
          ]
        },
        {
          "output_type": "stream",
          "name": "stdout",
          "text": [
            "F1 in epoch72 : 0.8208\n"
          ]
        },
        {
          "output_type": "stream",
          "name": "stderr",
          "text": [
            "\r 25%|\u001b[32m██▍       \u001b[0m| 74/300 [00:23<01:15,  2.99it/s]"
          ]
        },
        {
          "output_type": "stream",
          "name": "stdout",
          "text": [
            "F1 in epoch73 : 0.8208\n"
          ]
        },
        {
          "output_type": "stream",
          "name": "stderr",
          "text": [
            "\r 25%|\u001b[32m██▌       \u001b[0m| 75/300 [00:23<01:12,  3.10it/s]"
          ]
        },
        {
          "output_type": "stream",
          "name": "stdout",
          "text": [
            "F1 in epoch74 : 0.8238\n"
          ]
        },
        {
          "output_type": "stream",
          "name": "stderr",
          "text": [
            "\r 25%|\u001b[32m██▌       \u001b[0m| 76/300 [00:24<01:10,  3.20it/s]"
          ]
        },
        {
          "output_type": "stream",
          "name": "stdout",
          "text": [
            "F1 in epoch75 : 0.8249\n"
          ]
        },
        {
          "output_type": "stream",
          "name": "stderr",
          "text": [
            "\r 26%|\u001b[32m██▌       \u001b[0m| 77/300 [00:24<01:07,  3.29it/s]"
          ]
        },
        {
          "output_type": "stream",
          "name": "stdout",
          "text": [
            "F1 in epoch76 : 0.8276\n"
          ]
        },
        {
          "output_type": "stream",
          "name": "stderr",
          "text": [
            "\r 26%|\u001b[32m██▌       \u001b[0m| 78/300 [00:24<01:12,  3.04it/s]"
          ]
        },
        {
          "output_type": "stream",
          "name": "stdout",
          "text": [
            "F1 in epoch77 : 0.8288\n"
          ]
        },
        {
          "output_type": "stream",
          "name": "stderr",
          "text": [
            "\r 26%|\u001b[32m██▋       \u001b[0m| 79/300 [00:25<01:10,  3.14it/s]"
          ]
        },
        {
          "output_type": "stream",
          "name": "stdout",
          "text": [
            "F1 in epoch78 : 0.8319\n"
          ]
        },
        {
          "output_type": "stream",
          "name": "stderr",
          "text": [
            "\r 27%|\u001b[32m██▋       \u001b[0m| 80/300 [00:25<01:08,  3.23it/s]"
          ]
        },
        {
          "output_type": "stream",
          "name": "stdout",
          "text": [
            "F1 in epoch79 : 0.8324\n"
          ]
        },
        {
          "output_type": "stream",
          "name": "stderr",
          "text": [
            "\r 27%|\u001b[32m██▋       \u001b[0m| 81/300 [00:25<01:05,  3.32it/s]"
          ]
        },
        {
          "output_type": "stream",
          "name": "stdout",
          "text": [
            "F1 in epoch80 : 0.8319\n"
          ]
        },
        {
          "output_type": "stream",
          "name": "stderr",
          "text": [
            "\r 27%|\u001b[32m██▋       \u001b[0m| 82/300 [00:26<01:10,  3.07it/s]"
          ]
        },
        {
          "output_type": "stream",
          "name": "stdout",
          "text": [
            "F1 in epoch81 : 0.8320\n"
          ]
        },
        {
          "output_type": "stream",
          "name": "stderr",
          "text": [
            "\r 28%|\u001b[32m██▊       \u001b[0m| 83/300 [00:26<01:08,  3.15it/s]"
          ]
        },
        {
          "output_type": "stream",
          "name": "stdout",
          "text": [
            "F1 in epoch82 : 0.8338\n"
          ]
        },
        {
          "output_type": "stream",
          "name": "stderr",
          "text": [
            "\r 28%|\u001b[32m██▊       \u001b[0m| 84/300 [00:26<01:07,  3.20it/s]"
          ]
        },
        {
          "output_type": "stream",
          "name": "stdout",
          "text": [
            "F1 in epoch83 : 0.8333\n"
          ]
        },
        {
          "output_type": "stream",
          "name": "stderr",
          "text": [
            "\r 28%|\u001b[32m██▊       \u001b[0m| 85/300 [00:26<01:05,  3.28it/s]"
          ]
        },
        {
          "output_type": "stream",
          "name": "stdout",
          "text": [
            "F1 in epoch84 : 0.8353\n"
          ]
        },
        {
          "output_type": "stream",
          "name": "stderr",
          "text": [
            "\r 29%|\u001b[32m██▊       \u001b[0m| 86/300 [00:27<01:09,  3.06it/s]"
          ]
        },
        {
          "output_type": "stream",
          "name": "stdout",
          "text": [
            "F1 in epoch85 : 0.8383\n"
          ]
        },
        {
          "output_type": "stream",
          "name": "stderr",
          "text": [
            "\r 29%|\u001b[32m██▉       \u001b[0m| 87/300 [00:27<01:07,  3.17it/s]"
          ]
        },
        {
          "output_type": "stream",
          "name": "stdout",
          "text": [
            "F1 in epoch86 : 0.8396\n"
          ]
        },
        {
          "output_type": "stream",
          "name": "stderr",
          "text": [
            "\r 29%|\u001b[32m██▉       \u001b[0m| 88/300 [00:27<01:05,  3.26it/s]"
          ]
        },
        {
          "output_type": "stream",
          "name": "stdout",
          "text": [
            "F1 in epoch87 : 0.8396\n"
          ]
        },
        {
          "output_type": "stream",
          "name": "stderr",
          "text": [
            "\r 30%|\u001b[32m██▉       \u001b[0m| 89/300 [00:28<01:09,  3.03it/s]"
          ]
        },
        {
          "output_type": "stream",
          "name": "stdout",
          "text": [
            "F1 in epoch88 : 0.8429\n"
          ]
        },
        {
          "output_type": "stream",
          "name": "stderr",
          "text": [
            "\r 30%|\u001b[32m███       \u001b[0m| 90/300 [00:28<01:07,  3.12it/s]"
          ]
        },
        {
          "output_type": "stream",
          "name": "stdout",
          "text": [
            "F1 in epoch89 : 0.8434\n"
          ]
        },
        {
          "output_type": "stream",
          "name": "stderr",
          "text": [
            "\r 30%|\u001b[32m███       \u001b[0m| 91/300 [00:28<01:05,  3.20it/s]"
          ]
        },
        {
          "output_type": "stream",
          "name": "stdout",
          "text": [
            "F1 in epoch90 : 0.8473\n"
          ]
        },
        {
          "output_type": "stream",
          "name": "stderr",
          "text": [
            "\r 31%|\u001b[32m███       \u001b[0m| 92/300 [00:29<01:03,  3.29it/s]"
          ]
        },
        {
          "output_type": "stream",
          "name": "stdout",
          "text": [
            "F1 in epoch91 : 0.8486\n"
          ]
        },
        {
          "output_type": "stream",
          "name": "stderr",
          "text": [
            "\r 31%|\u001b[32m███       \u001b[0m| 93/300 [00:29<01:07,  3.05it/s]"
          ]
        },
        {
          "output_type": "stream",
          "name": "stdout",
          "text": [
            "F1 in epoch92 : 0.8501\n"
          ]
        },
        {
          "output_type": "stream",
          "name": "stderr",
          "text": [
            "\r 31%|\u001b[32m███▏      \u001b[0m| 94/300 [00:29<01:07,  3.07it/s]"
          ]
        },
        {
          "output_type": "stream",
          "name": "stdout",
          "text": [
            "F1 in epoch93 : 0.8501\n"
          ]
        },
        {
          "output_type": "stream",
          "name": "stderr",
          "text": [
            "\r 32%|\u001b[32m███▏      \u001b[0m| 95/300 [00:30<01:04,  3.17it/s]"
          ]
        },
        {
          "output_type": "stream",
          "name": "stdout",
          "text": [
            "F1 in epoch94 : 0.8501\n"
          ]
        },
        {
          "output_type": "stream",
          "name": "stderr",
          "text": [
            "\r 32%|\u001b[32m███▏      \u001b[0m| 96/300 [00:30<01:03,  3.24it/s]"
          ]
        },
        {
          "output_type": "stream",
          "name": "stdout",
          "text": [
            "F1 in epoch95 : 0.8503\n"
          ]
        },
        {
          "output_type": "stream",
          "name": "stderr",
          "text": [
            "\r 32%|\u001b[32m███▏      \u001b[0m| 97/300 [00:30<01:07,  3.00it/s]"
          ]
        },
        {
          "output_type": "stream",
          "name": "stdout",
          "text": [
            "F1 in epoch96 : 0.8514\n"
          ]
        },
        {
          "output_type": "stream",
          "name": "stderr",
          "text": [
            "\r 33%|\u001b[32m███▎      \u001b[0m| 98/300 [00:31<01:04,  3.11it/s]"
          ]
        },
        {
          "output_type": "stream",
          "name": "stdout",
          "text": [
            "F1 in epoch97 : 0.8527\n"
          ]
        },
        {
          "output_type": "stream",
          "name": "stderr",
          "text": [
            "\r 33%|\u001b[32m███▎      \u001b[0m| 99/300 [00:31<01:02,  3.21it/s]"
          ]
        },
        {
          "output_type": "stream",
          "name": "stdout",
          "text": [
            "F1 in epoch98 : 0.8520\n"
          ]
        },
        {
          "output_type": "stream",
          "name": "stderr",
          "text": [
            "\r 33%|\u001b[32m███▎      \u001b[0m| 100/300 [00:31<01:01,  3.26it/s]"
          ]
        },
        {
          "output_type": "stream",
          "name": "stdout",
          "text": [
            "F1 in epoch99 : 0.8515\n"
          ]
        },
        {
          "output_type": "stream",
          "name": "stderr",
          "text": [
            "\r 34%|\u001b[32m███▎      \u001b[0m| 101/300 [00:32<01:06,  2.97it/s]"
          ]
        },
        {
          "output_type": "stream",
          "name": "stdout",
          "text": [
            "F1 in epoch100 : 0.8522\n"
          ]
        },
        {
          "output_type": "stream",
          "name": "stderr",
          "text": [
            "\r 34%|\u001b[32m███▍      \u001b[0m| 102/300 [00:32<01:04,  3.07it/s]"
          ]
        },
        {
          "output_type": "stream",
          "name": "stdout",
          "text": [
            "F1 in epoch101 : 0.8517\n"
          ]
        },
        {
          "output_type": "stream",
          "name": "stderr",
          "text": [
            "\r 34%|\u001b[32m███▍      \u001b[0m| 103/300 [00:32<01:01,  3.19it/s]"
          ]
        },
        {
          "output_type": "stream",
          "name": "stdout",
          "text": [
            "F1 in epoch102 : 0.8523\n"
          ]
        },
        {
          "output_type": "stream",
          "name": "stderr",
          "text": [
            "\r 35%|\u001b[32m███▍      \u001b[0m| 104/300 [00:33<00:59,  3.28it/s]"
          ]
        },
        {
          "output_type": "stream",
          "name": "stdout",
          "text": [
            "F1 in epoch103 : 0.8517\n"
          ]
        },
        {
          "output_type": "stream",
          "name": "stderr",
          "text": [
            "\r 35%|\u001b[32m███▌      \u001b[0m| 105/300 [00:33<01:04,  3.03it/s]"
          ]
        },
        {
          "output_type": "stream",
          "name": "stdout",
          "text": [
            "F1 in epoch104 : 0.8525\n"
          ]
        },
        {
          "output_type": "stream",
          "name": "stderr",
          "text": [
            "\r 35%|\u001b[32m███▌      \u001b[0m| 106/300 [00:33<01:01,  3.14it/s]"
          ]
        },
        {
          "output_type": "stream",
          "name": "stdout",
          "text": [
            "F1 in epoch105 : 0.8532\n"
          ]
        },
        {
          "output_type": "stream",
          "name": "stderr",
          "text": [
            "\r 36%|\u001b[32m███▌      \u001b[0m| 107/300 [00:33<01:00,  3.21it/s]"
          ]
        },
        {
          "output_type": "stream",
          "name": "stdout",
          "text": [
            "F1 in epoch106 : 0.8538\n"
          ]
        },
        {
          "output_type": "stream",
          "name": "stderr",
          "text": [
            "\r 36%|\u001b[32m███▌      \u001b[0m| 108/300 [00:34<00:57,  3.31it/s]"
          ]
        },
        {
          "output_type": "stream",
          "name": "stdout",
          "text": [
            "F1 in epoch107 : 0.8532\n"
          ]
        },
        {
          "output_type": "stream",
          "name": "stderr",
          "text": [
            "\r 36%|\u001b[32m███▋      \u001b[0m| 109/300 [00:34<01:02,  3.08it/s]"
          ]
        },
        {
          "output_type": "stream",
          "name": "stdout",
          "text": [
            "F1 in epoch108 : 0.8562\n"
          ]
        },
        {
          "output_type": "stream",
          "name": "stderr",
          "text": [
            "\r 37%|\u001b[32m███▋      \u001b[0m| 110/300 [00:34<00:59,  3.17it/s]"
          ]
        },
        {
          "output_type": "stream",
          "name": "stdout",
          "text": [
            "F1 in epoch109 : 0.8567\n"
          ]
        },
        {
          "output_type": "stream",
          "name": "stderr",
          "text": [
            "\r 37%|\u001b[32m███▋      \u001b[0m| 111/300 [00:35<00:57,  3.27it/s]"
          ]
        },
        {
          "output_type": "stream",
          "name": "stdout",
          "text": [
            "F1 in epoch110 : 0.8563\n"
          ]
        },
        {
          "output_type": "stream",
          "name": "stderr",
          "text": [
            "\r 37%|\u001b[32m███▋      \u001b[0m| 112/300 [00:35<00:55,  3.36it/s]"
          ]
        },
        {
          "output_type": "stream",
          "name": "stdout",
          "text": [
            "F1 in epoch111 : 0.8563\n"
          ]
        },
        {
          "output_type": "stream",
          "name": "stderr",
          "text": [
            "\r 38%|\u001b[32m███▊      \u001b[0m| 113/300 [00:35<01:00,  3.11it/s]"
          ]
        },
        {
          "output_type": "stream",
          "name": "stdout",
          "text": [
            "F1 in epoch112 : 0.8563\n"
          ]
        },
        {
          "output_type": "stream",
          "name": "stderr",
          "text": [
            "\r 38%|\u001b[32m███▊      \u001b[0m| 114/300 [00:36<00:58,  3.18it/s]"
          ]
        },
        {
          "output_type": "stream",
          "name": "stdout",
          "text": [
            "F1 in epoch113 : 0.8571\n"
          ]
        },
        {
          "output_type": "stream",
          "name": "stderr",
          "text": [
            "\r 38%|\u001b[32m███▊      \u001b[0m| 115/300 [00:36<00:56,  3.28it/s]"
          ]
        },
        {
          "output_type": "stream",
          "name": "stdout",
          "text": [
            "F1 in epoch114 : 0.8573\n"
          ]
        },
        {
          "output_type": "stream",
          "name": "stderr",
          "text": [
            "\r 39%|\u001b[32m███▊      \u001b[0m| 116/300 [00:36<00:54,  3.36it/s]"
          ]
        },
        {
          "output_type": "stream",
          "name": "stdout",
          "text": [
            "F1 in epoch115 : 0.8583\n"
          ]
        },
        {
          "output_type": "stream",
          "name": "stderr",
          "text": [
            "\r 39%|\u001b[32m███▉      \u001b[0m| 117/300 [00:37<00:59,  3.09it/s]"
          ]
        },
        {
          "output_type": "stream",
          "name": "stdout",
          "text": [
            "F1 in epoch116 : 0.8587\n"
          ]
        },
        {
          "output_type": "stream",
          "name": "stderr",
          "text": [
            "\r 39%|\u001b[32m███▉      \u001b[0m| 118/300 [00:37<00:57,  3.19it/s]"
          ]
        },
        {
          "output_type": "stream",
          "name": "stdout",
          "text": [
            "F1 in epoch117 : 0.8608\n"
          ]
        },
        {
          "output_type": "stream",
          "name": "stderr",
          "text": [
            "\r 40%|\u001b[32m███▉      \u001b[0m| 119/300 [00:37<00:55,  3.28it/s]"
          ]
        },
        {
          "output_type": "stream",
          "name": "stdout",
          "text": [
            "F1 in epoch118 : 0.8627\n"
          ]
        },
        {
          "output_type": "stream",
          "name": "stderr",
          "text": [
            "\r 40%|\u001b[32m████      \u001b[0m| 120/300 [00:38<00:57,  3.12it/s]"
          ]
        },
        {
          "output_type": "stream",
          "name": "stdout",
          "text": [
            "F1 in epoch119 : 0.8627\n"
          ]
        },
        {
          "output_type": "stream",
          "name": "stderr",
          "text": [
            "\r 40%|\u001b[32m████      \u001b[0m| 121/300 [00:38<00:55,  3.21it/s]"
          ]
        },
        {
          "output_type": "stream",
          "name": "stdout",
          "text": [
            "F1 in epoch120 : 0.8640\n"
          ]
        },
        {
          "output_type": "stream",
          "name": "stderr",
          "text": [
            "\r 41%|\u001b[32m████      \u001b[0m| 122/300 [00:38<00:54,  3.28it/s]"
          ]
        },
        {
          "output_type": "stream",
          "name": "stdout",
          "text": [
            "F1 in epoch121 : 0.8640\n"
          ]
        },
        {
          "output_type": "stream",
          "name": "stderr",
          "text": [
            "\r 41%|\u001b[32m████      \u001b[0m| 123/300 [00:38<00:53,  3.33it/s]"
          ]
        },
        {
          "output_type": "stream",
          "name": "stdout",
          "text": [
            "F1 in epoch122 : 0.8646\n"
          ]
        },
        {
          "output_type": "stream",
          "name": "stderr",
          "text": [
            "\r 41%|\u001b[32m████▏     \u001b[0m| 124/300 [00:39<00:57,  3.07it/s]"
          ]
        },
        {
          "output_type": "stream",
          "name": "stdout",
          "text": [
            "F1 in epoch123 : 0.8646\n"
          ]
        },
        {
          "output_type": "stream",
          "name": "stderr",
          "text": [
            "\r 42%|\u001b[32m████▏     \u001b[0m| 125/300 [00:39<00:55,  3.15it/s]"
          ]
        },
        {
          "output_type": "stream",
          "name": "stdout",
          "text": [
            "F1 in epoch124 : 0.8646\n"
          ]
        },
        {
          "output_type": "stream",
          "name": "stderr",
          "text": [
            "\r 42%|\u001b[32m████▏     \u001b[0m| 126/300 [00:39<00:53,  3.24it/s]"
          ]
        },
        {
          "output_type": "stream",
          "name": "stdout",
          "text": [
            "F1 in epoch125 : 0.8646\n"
          ]
        },
        {
          "output_type": "stream",
          "name": "stderr",
          "text": [
            "\r 42%|\u001b[32m████▏     \u001b[0m| 127/300 [00:40<00:52,  3.32it/s]"
          ]
        },
        {
          "output_type": "stream",
          "name": "stdout",
          "text": [
            "F1 in epoch126 : 0.8646\n"
          ]
        },
        {
          "output_type": "stream",
          "name": "stderr",
          "text": [
            "\r 43%|\u001b[32m████▎     \u001b[0m| 128/300 [00:40<00:56,  3.06it/s]"
          ]
        },
        {
          "output_type": "stream",
          "name": "stdout",
          "text": [
            "F1 in epoch127 : 0.8652\n"
          ]
        },
        {
          "output_type": "stream",
          "name": "stderr",
          "text": [
            "\r 43%|\u001b[32m████▎     \u001b[0m| 129/300 [00:40<00:54,  3.15it/s]"
          ]
        },
        {
          "output_type": "stream",
          "name": "stdout",
          "text": [
            "F1 in epoch128 : 0.8652\n"
          ]
        },
        {
          "output_type": "stream",
          "name": "stderr",
          "text": [
            "\r 43%|\u001b[32m████▎     \u001b[0m| 130/300 [00:41<00:52,  3.23it/s]"
          ]
        },
        {
          "output_type": "stream",
          "name": "stdout",
          "text": [
            "F1 in epoch129 : 0.8652\n"
          ]
        },
        {
          "output_type": "stream",
          "name": "stderr",
          "text": [
            "\r 44%|\u001b[32m████▎     \u001b[0m| 131/300 [00:41<00:56,  2.99it/s]"
          ]
        },
        {
          "output_type": "stream",
          "name": "stdout",
          "text": [
            "F1 in epoch130 : 0.8659\n"
          ]
        },
        {
          "output_type": "stream",
          "name": "stderr",
          "text": [
            "\r 44%|\u001b[32m████▍     \u001b[0m| 132/300 [00:41<00:54,  3.09it/s]"
          ]
        },
        {
          "output_type": "stream",
          "name": "stdout",
          "text": [
            "F1 in epoch131 : 0.8665\n"
          ]
        },
        {
          "output_type": "stream",
          "name": "stderr",
          "text": [
            "\r 44%|\u001b[32m████▍     \u001b[0m| 133/300 [00:42<00:52,  3.18it/s]"
          ]
        },
        {
          "output_type": "stream",
          "name": "stdout",
          "text": [
            "F1 in epoch132 : 0.8665\n"
          ]
        },
        {
          "output_type": "stream",
          "name": "stderr",
          "text": [
            "\r 45%|\u001b[32m████▍     \u001b[0m| 134/300 [00:42<00:50,  3.26it/s]"
          ]
        },
        {
          "output_type": "stream",
          "name": "stdout",
          "text": [
            "F1 in epoch133 : 0.8660\n"
          ]
        },
        {
          "output_type": "stream",
          "name": "stderr",
          "text": [
            "\r 45%|\u001b[32m████▌     \u001b[0m| 135/300 [00:42<00:54,  3.02it/s]"
          ]
        },
        {
          "output_type": "stream",
          "name": "stdout",
          "text": [
            "F1 in epoch134 : 0.8660\n"
          ]
        },
        {
          "output_type": "stream",
          "name": "stderr",
          "text": [
            "\r 45%|\u001b[32m████▌     \u001b[0m| 136/300 [00:43<00:52,  3.10it/s]"
          ]
        },
        {
          "output_type": "stream",
          "name": "stdout",
          "text": [
            "F1 in epoch135 : 0.8673\n"
          ]
        },
        {
          "output_type": "stream",
          "name": "stderr",
          "text": [
            "\r 46%|\u001b[32m████▌     \u001b[0m| 137/300 [00:43<00:51,  3.19it/s]"
          ]
        },
        {
          "output_type": "stream",
          "name": "stdout",
          "text": [
            "F1 in epoch136 : 0.8684\n"
          ]
        },
        {
          "output_type": "stream",
          "name": "stderr",
          "text": [
            "\r 46%|\u001b[32m████▌     \u001b[0m| 138/300 [00:43<00:49,  3.27it/s]"
          ]
        },
        {
          "output_type": "stream",
          "name": "stdout",
          "text": [
            "F1 in epoch137 : 0.8695\n"
          ]
        },
        {
          "output_type": "stream",
          "name": "stderr",
          "text": [
            "\r 46%|\u001b[32m████▋     \u001b[0m| 139/300 [00:44<00:53,  3.03it/s]"
          ]
        },
        {
          "output_type": "stream",
          "name": "stdout",
          "text": [
            "F1 in epoch138 : 0.8695\n"
          ]
        },
        {
          "output_type": "stream",
          "name": "stderr",
          "text": [
            "\r 47%|\u001b[32m████▋     \u001b[0m| 140/300 [00:44<00:51,  3.12it/s]"
          ]
        },
        {
          "output_type": "stream",
          "name": "stdout",
          "text": [
            "F1 in epoch139 : 0.8695\n"
          ]
        },
        {
          "output_type": "stream",
          "name": "stderr",
          "text": [
            "\r 47%|\u001b[32m████▋     \u001b[0m| 141/300 [00:44<00:49,  3.21it/s]"
          ]
        },
        {
          "output_type": "stream",
          "name": "stdout",
          "text": [
            "F1 in epoch140 : 0.8695\n"
          ]
        },
        {
          "output_type": "stream",
          "name": "stderr",
          "text": [
            "\r 47%|\u001b[32m████▋     \u001b[0m| 142/300 [00:44<00:49,  3.22it/s]"
          ]
        },
        {
          "output_type": "stream",
          "name": "stdout",
          "text": [
            "F1 in epoch141 : 0.8690\n"
          ]
        },
        {
          "output_type": "stream",
          "name": "stderr",
          "text": [
            "\r 48%|\u001b[32m████▊     \u001b[0m| 143/300 [00:45<00:52,  2.98it/s]"
          ]
        },
        {
          "output_type": "stream",
          "name": "stdout",
          "text": [
            "F1 in epoch142 : 0.8690\n"
          ]
        },
        {
          "output_type": "stream",
          "name": "stderr",
          "text": [
            "\r 48%|\u001b[32m████▊     \u001b[0m| 144/300 [00:45<00:50,  3.09it/s]"
          ]
        },
        {
          "output_type": "stream",
          "name": "stdout",
          "text": [
            "F1 in epoch143 : 0.8690\n"
          ]
        },
        {
          "output_type": "stream",
          "name": "stderr",
          "text": [
            "\r 48%|\u001b[32m████▊     \u001b[0m| 145/300 [00:45<00:48,  3.18it/s]"
          ]
        },
        {
          "output_type": "stream",
          "name": "stdout",
          "text": [
            "F1 in epoch144 : 0.8696\n"
          ]
        },
        {
          "output_type": "stream",
          "name": "stderr",
          "text": [
            "\r 49%|\u001b[32m████▊     \u001b[0m| 146/300 [00:46<00:46,  3.28it/s]"
          ]
        },
        {
          "output_type": "stream",
          "name": "stdout",
          "text": [
            "F1 in epoch145 : 0.8702\n"
          ]
        },
        {
          "output_type": "stream",
          "name": "stderr",
          "text": [
            "\r 49%|\u001b[32m████▉     \u001b[0m| 147/300 [00:46<00:50,  3.04it/s]"
          ]
        },
        {
          "output_type": "stream",
          "name": "stdout",
          "text": [
            "F1 in epoch146 : 0.8707\n"
          ]
        },
        {
          "output_type": "stream",
          "name": "stderr",
          "text": [
            "\r 49%|\u001b[32m████▉     \u001b[0m| 148/300 [00:46<00:48,  3.13it/s]"
          ]
        },
        {
          "output_type": "stream",
          "name": "stdout",
          "text": [
            "F1 in epoch147 : 0.8701\n"
          ]
        },
        {
          "output_type": "stream",
          "name": "stderr",
          "text": [
            "\r 50%|\u001b[32m████▉     \u001b[0m| 149/300 [00:47<00:47,  3.16it/s]"
          ]
        },
        {
          "output_type": "stream",
          "name": "stdout",
          "text": [
            "F1 in epoch148 : 0.8701\n"
          ]
        },
        {
          "output_type": "stream",
          "name": "stderr",
          "text": [
            "\r 50%|\u001b[32m█████     \u001b[0m| 150/300 [00:47<00:46,  3.25it/s]"
          ]
        },
        {
          "output_type": "stream",
          "name": "stdout",
          "text": [
            "F1 in epoch149 : 0.8706\n"
          ]
        },
        {
          "output_type": "stream",
          "name": "stderr",
          "text": [
            "\r 50%|\u001b[32m█████     \u001b[0m| 151/300 [00:47<00:49,  3.02it/s]"
          ]
        },
        {
          "output_type": "stream",
          "name": "stdout",
          "text": [
            "F1 in epoch150 : 0.8712\n"
          ]
        },
        {
          "output_type": "stream",
          "name": "stderr",
          "text": [
            "\r 51%|\u001b[32m█████     \u001b[0m| 152/300 [00:48<00:48,  3.04it/s]"
          ]
        },
        {
          "output_type": "stream",
          "name": "stdout",
          "text": [
            "F1 in epoch151 : 0.8712\n"
          ]
        },
        {
          "output_type": "stream",
          "name": "stderr",
          "text": [
            "\r 51%|\u001b[32m█████     \u001b[0m| 153/300 [00:48<00:47,  3.12it/s]"
          ]
        },
        {
          "output_type": "stream",
          "name": "stdout",
          "text": [
            "F1 in epoch152 : 0.8718\n"
          ]
        },
        {
          "output_type": "stream",
          "name": "stderr",
          "text": [
            "\r 51%|\u001b[32m█████▏    \u001b[0m| 154/300 [00:48<00:45,  3.18it/s]"
          ]
        },
        {
          "output_type": "stream",
          "name": "stdout",
          "text": [
            "F1 in epoch153 : 0.8718\n"
          ]
        },
        {
          "output_type": "stream",
          "name": "stderr",
          "text": [
            "\r 52%|\u001b[32m█████▏    \u001b[0m| 155/300 [00:49<00:49,  2.93it/s]"
          ]
        },
        {
          "output_type": "stream",
          "name": "stdout",
          "text": [
            "F1 in epoch154 : 0.8724\n"
          ]
        },
        {
          "output_type": "stream",
          "name": "stderr",
          "text": [
            "\r 52%|\u001b[32m█████▏    \u001b[0m| 156/300 [00:49<00:47,  3.06it/s]"
          ]
        },
        {
          "output_type": "stream",
          "name": "stdout",
          "text": [
            "F1 in epoch155 : 0.8720\n"
          ]
        },
        {
          "output_type": "stream",
          "name": "stderr",
          "text": [
            "\r 52%|\u001b[32m█████▏    \u001b[0m| 157/300 [00:49<00:45,  3.16it/s]"
          ]
        },
        {
          "output_type": "stream",
          "name": "stdout",
          "text": [
            "F1 in epoch156 : 0.8715\n"
          ]
        },
        {
          "output_type": "stream",
          "name": "stderr",
          "text": [
            "\r 53%|\u001b[32m█████▎    \u001b[0m| 158/300 [00:50<00:48,  2.95it/s]"
          ]
        },
        {
          "output_type": "stream",
          "name": "stdout",
          "text": [
            "F1 in epoch157 : 0.8720\n"
          ]
        },
        {
          "output_type": "stream",
          "name": "stderr",
          "text": [
            "\r 53%|\u001b[32m█████▎    \u001b[0m| 159/300 [00:50<00:45,  3.07it/s]"
          ]
        },
        {
          "output_type": "stream",
          "name": "stdout",
          "text": [
            "F1 in epoch158 : 0.8715\n"
          ]
        },
        {
          "output_type": "stream",
          "name": "stderr",
          "text": [
            "\r 53%|\u001b[32m█████▎    \u001b[0m| 160/300 [00:50<00:44,  3.16it/s]"
          ]
        },
        {
          "output_type": "stream",
          "name": "stdout",
          "text": [
            "F1 in epoch159 : 0.8715\n"
          ]
        },
        {
          "output_type": "stream",
          "name": "stderr",
          "text": [
            "\r 54%|\u001b[32m█████▎    \u001b[0m| 161/300 [00:51<00:43,  3.20it/s]"
          ]
        },
        {
          "output_type": "stream",
          "name": "stdout",
          "text": [
            "F1 in epoch160 : 0.8710\n"
          ]
        },
        {
          "output_type": "stream",
          "name": "stderr",
          "text": [
            "\r 54%|\u001b[32m█████▍    \u001b[0m| 162/300 [00:51<00:46,  2.97it/s]"
          ]
        },
        {
          "output_type": "stream",
          "name": "stdout",
          "text": [
            "F1 in epoch161 : 0.8711\n"
          ]
        },
        {
          "output_type": "stream",
          "name": "stderr",
          "text": [
            "\r 54%|\u001b[32m█████▍    \u001b[0m| 163/300 [00:51<00:44,  3.09it/s]"
          ]
        },
        {
          "output_type": "stream",
          "name": "stdout",
          "text": [
            "F1 in epoch162 : 0.8705\n"
          ]
        },
        {
          "output_type": "stream",
          "name": "stderr",
          "text": [
            "\r 55%|\u001b[32m█████▍    \u001b[0m| 164/300 [00:52<00:43,  3.15it/s]"
          ]
        },
        {
          "output_type": "stream",
          "name": "stdout",
          "text": [
            "F1 in epoch163 : 0.8711\n"
          ]
        },
        {
          "output_type": "stream",
          "name": "stderr",
          "text": [
            "\r 55%|\u001b[32m█████▌    \u001b[0m| 165/300 [00:52<00:41,  3.26it/s]"
          ]
        },
        {
          "output_type": "stream",
          "name": "stdout",
          "text": [
            "F1 in epoch164 : 0.8707\n"
          ]
        },
        {
          "output_type": "stream",
          "name": "stderr",
          "text": [
            "\r 55%|\u001b[32m█████▌    \u001b[0m| 166/300 [00:52<00:44,  3.02it/s]"
          ]
        },
        {
          "output_type": "stream",
          "name": "stdout",
          "text": [
            "F1 in epoch165 : 0.8696\n"
          ]
        },
        {
          "output_type": "stream",
          "name": "stderr",
          "text": [
            "\r 56%|\u001b[32m█████▌    \u001b[0m| 167/300 [00:53<00:42,  3.10it/s]"
          ]
        },
        {
          "output_type": "stream",
          "name": "stdout",
          "text": [
            "F1 in epoch166 : 0.8696\n"
          ]
        },
        {
          "output_type": "stream",
          "name": "stderr",
          "text": [
            "\r 56%|\u001b[32m█████▌    \u001b[0m| 168/300 [00:53<00:41,  3.15it/s]"
          ]
        },
        {
          "output_type": "stream",
          "name": "stdout",
          "text": [
            "F1 in epoch167 : 0.8696\n"
          ]
        },
        {
          "output_type": "stream",
          "name": "stderr",
          "text": [
            "\r 56%|\u001b[32m█████▋    \u001b[0m| 169/300 [00:53<00:40,  3.22it/s]"
          ]
        },
        {
          "output_type": "stream",
          "name": "stdout",
          "text": [
            "F1 in epoch168 : 0.8696\n"
          ]
        },
        {
          "output_type": "stream",
          "name": "stderr",
          "text": [
            "\r 57%|\u001b[32m█████▋    \u001b[0m| 170/300 [00:54<00:43,  2.98it/s]"
          ]
        },
        {
          "output_type": "stream",
          "name": "stdout",
          "text": [
            "F1 in epoch169 : 0.8696\n"
          ]
        },
        {
          "output_type": "stream",
          "name": "stderr",
          "text": [
            "\r 57%|\u001b[32m█████▋    \u001b[0m| 171/300 [00:54<00:42,  3.05it/s]"
          ]
        },
        {
          "output_type": "stream",
          "name": "stdout",
          "text": [
            "F1 in epoch170 : 0.8697\n"
          ]
        },
        {
          "output_type": "stream",
          "name": "stderr",
          "text": [
            "\r 57%|\u001b[32m█████▋    \u001b[0m| 172/300 [00:54<00:41,  3.11it/s]"
          ]
        },
        {
          "output_type": "stream",
          "name": "stdout",
          "text": [
            "F1 in epoch171 : 0.8692\n"
          ]
        },
        {
          "output_type": "stream",
          "name": "stderr",
          "text": [
            "\r 58%|\u001b[32m█████▊    \u001b[0m| 173/300 [00:54<00:39,  3.18it/s]"
          ]
        },
        {
          "output_type": "stream",
          "name": "stdout",
          "text": [
            "F1 in epoch172 : 0.8692\n"
          ]
        },
        {
          "output_type": "stream",
          "name": "stderr",
          "text": [
            "\r 58%|\u001b[32m█████▊    \u001b[0m| 174/300 [00:55<00:43,  2.92it/s]"
          ]
        },
        {
          "output_type": "stream",
          "name": "stdout",
          "text": [
            "F1 in epoch173 : 0.8692\n"
          ]
        },
        {
          "output_type": "stream",
          "name": "stderr",
          "text": [
            "\r 58%|\u001b[32m█████▊    \u001b[0m| 175/300 [00:55<00:41,  3.02it/s]"
          ]
        },
        {
          "output_type": "stream",
          "name": "stdout",
          "text": [
            "F1 in epoch174 : 0.8699\n"
          ]
        },
        {
          "output_type": "stream",
          "name": "stderr",
          "text": [
            "\r 59%|\u001b[32m█████▊    \u001b[0m| 176/300 [00:55<00:39,  3.13it/s]"
          ]
        },
        {
          "output_type": "stream",
          "name": "stdout",
          "text": [
            "F1 in epoch175 : 0.8699\n"
          ]
        },
        {
          "output_type": "stream",
          "name": "stderr",
          "text": [
            "\r 59%|\u001b[32m█████▉    \u001b[0m| 177/300 [00:56<00:38,  3.17it/s]"
          ]
        },
        {
          "output_type": "stream",
          "name": "stdout",
          "text": [
            "F1 in epoch176 : 0.8700\n"
          ]
        },
        {
          "output_type": "stream",
          "name": "stderr",
          "text": [
            "\r 59%|\u001b[32m█████▉    \u001b[0m| 178/300 [00:56<00:41,  2.96it/s]"
          ]
        },
        {
          "output_type": "stream",
          "name": "stdout",
          "text": [
            "F1 in epoch177 : 0.8700\n"
          ]
        },
        {
          "output_type": "stream",
          "name": "stderr",
          "text": [
            "\r 60%|\u001b[32m█████▉    \u001b[0m| 179/300 [00:56<00:39,  3.07it/s]"
          ]
        },
        {
          "output_type": "stream",
          "name": "stdout",
          "text": [
            "F1 in epoch178 : 0.8705\n"
          ]
        },
        {
          "output_type": "stream",
          "name": "stderr",
          "text": [
            "\r 60%|\u001b[32m██████    \u001b[0m| 180/300 [00:57<00:38,  3.14it/s]"
          ]
        },
        {
          "output_type": "stream",
          "name": "stdout",
          "text": [
            "F1 in epoch179 : 0.8705\n"
          ]
        },
        {
          "output_type": "stream",
          "name": "stderr",
          "text": [
            "\r 60%|\u001b[32m██████    \u001b[0m| 181/300 [00:57<00:37,  3.20it/s]"
          ]
        },
        {
          "output_type": "stream",
          "name": "stdout",
          "text": [
            "F1 in epoch180 : 0.8705\n"
          ]
        },
        {
          "output_type": "stream",
          "name": "stderr",
          "text": [
            "\r 61%|\u001b[32m██████    \u001b[0m| 182/300 [00:57<00:38,  3.03it/s]"
          ]
        },
        {
          "output_type": "stream",
          "name": "stdout",
          "text": [
            "F1 in epoch181 : 0.8705\n"
          ]
        },
        {
          "output_type": "stream",
          "name": "stderr",
          "text": [
            "\r 61%|\u001b[32m██████    \u001b[0m| 183/300 [00:58<00:37,  3.11it/s]"
          ]
        },
        {
          "output_type": "stream",
          "name": "stdout",
          "text": [
            "F1 in epoch182 : 0.8705\n"
          ]
        },
        {
          "output_type": "stream",
          "name": "stderr",
          "text": [
            "\r 61%|\u001b[32m██████▏   \u001b[0m| 184/300 [00:58<00:36,  3.19it/s]"
          ]
        },
        {
          "output_type": "stream",
          "name": "stdout",
          "text": [
            "F1 in epoch183 : 0.8705\n"
          ]
        },
        {
          "output_type": "stream",
          "name": "stderr",
          "text": [
            "\r 62%|\u001b[32m██████▏   \u001b[0m| 185/300 [00:58<00:35,  3.27it/s]"
          ]
        },
        {
          "output_type": "stream",
          "name": "stdout",
          "text": [
            "F1 in epoch184 : 0.8711\n"
          ]
        },
        {
          "output_type": "stream",
          "name": "stderr",
          "text": [
            "\r 62%|\u001b[32m██████▏   \u001b[0m| 186/300 [00:59<00:37,  3.00it/s]"
          ]
        },
        {
          "output_type": "stream",
          "name": "stdout",
          "text": [
            "F1 in epoch185 : 0.8716\n"
          ]
        },
        {
          "output_type": "stream",
          "name": "stderr",
          "text": [
            "\r 62%|\u001b[32m██████▏   \u001b[0m| 187/300 [00:59<00:36,  3.11it/s]"
          ]
        },
        {
          "output_type": "stream",
          "name": "stdout",
          "text": [
            "F1 in epoch186 : 0.8722\n"
          ]
        },
        {
          "output_type": "stream",
          "name": "stderr",
          "text": [
            "\r 63%|\u001b[32m██████▎   \u001b[0m| 188/300 [00:59<00:35,  3.18it/s]"
          ]
        },
        {
          "output_type": "stream",
          "name": "stdout",
          "text": [
            "F1 in epoch187 : 0.8722\n"
          ]
        },
        {
          "output_type": "stream",
          "name": "stderr",
          "text": [
            "\r 63%|\u001b[32m██████▎   \u001b[0m| 189/300 [01:00<00:33,  3.27it/s]"
          ]
        },
        {
          "output_type": "stream",
          "name": "stdout",
          "text": [
            "F1 in epoch188 : 0.8722\n"
          ]
        },
        {
          "output_type": "stream",
          "name": "stderr",
          "text": [
            "\r 63%|\u001b[32m██████▎   \u001b[0m| 190/300 [01:00<00:36,  3.03it/s]"
          ]
        },
        {
          "output_type": "stream",
          "name": "stdout",
          "text": [
            "F1 in epoch189 : 0.8722\n"
          ]
        },
        {
          "output_type": "stream",
          "name": "stderr",
          "text": [
            "\r 64%|\u001b[32m██████▎   \u001b[0m| 191/300 [01:00<00:35,  3.11it/s]"
          ]
        },
        {
          "output_type": "stream",
          "name": "stdout",
          "text": [
            "F1 in epoch190 : 0.8722\n"
          ]
        },
        {
          "output_type": "stream",
          "name": "stderr",
          "text": [
            "\r 64%|\u001b[32m██████▍   \u001b[0m| 192/300 [01:01<00:33,  3.19it/s]"
          ]
        },
        {
          "output_type": "stream",
          "name": "stdout",
          "text": [
            "F1 in epoch191 : 0.8722\n"
          ]
        },
        {
          "output_type": "stream",
          "name": "stderr",
          "text": [
            "\r 64%|\u001b[32m██████▍   \u001b[0m| 193/300 [01:01<00:36,  2.95it/s]"
          ]
        },
        {
          "output_type": "stream",
          "name": "stdout",
          "text": [
            "F1 in epoch192 : 0.8722\n"
          ]
        },
        {
          "output_type": "stream",
          "name": "stderr",
          "text": [
            "\r 65%|\u001b[32m██████▍   \u001b[0m| 194/300 [01:01<00:35,  3.01it/s]"
          ]
        },
        {
          "output_type": "stream",
          "name": "stdout",
          "text": [
            "F1 in epoch193 : 0.8722\n"
          ]
        },
        {
          "output_type": "stream",
          "name": "stderr",
          "text": [
            "\r 65%|\u001b[32m██████▌   \u001b[0m| 195/300 [01:02<00:33,  3.11it/s]"
          ]
        },
        {
          "output_type": "stream",
          "name": "stdout",
          "text": [
            "F1 in epoch194 : 0.8722\n"
          ]
        },
        {
          "output_type": "stream",
          "name": "stderr",
          "text": [
            "\r 65%|\u001b[32m██████▌   \u001b[0m| 196/300 [01:02<00:32,  3.20it/s]"
          ]
        },
        {
          "output_type": "stream",
          "name": "stdout",
          "text": [
            "F1 in epoch195 : 0.8722\n"
          ]
        },
        {
          "output_type": "stream",
          "name": "stderr",
          "text": [
            "\r 66%|\u001b[32m██████▌   \u001b[0m| 197/300 [01:02<00:34,  2.95it/s]"
          ]
        },
        {
          "output_type": "stream",
          "name": "stdout",
          "text": [
            "F1 in epoch196 : 0.8722\n"
          ]
        },
        {
          "output_type": "stream",
          "name": "stderr",
          "text": [
            "\r 66%|\u001b[32m██████▌   \u001b[0m| 198/300 [01:03<00:33,  3.03it/s]"
          ]
        },
        {
          "output_type": "stream",
          "name": "stdout",
          "text": [
            "F1 in epoch197 : 0.8722\n"
          ]
        },
        {
          "output_type": "stream",
          "name": "stderr",
          "text": [
            "\r 66%|\u001b[32m██████▋   \u001b[0m| 199/300 [01:03<00:32,  3.13it/s]"
          ]
        },
        {
          "output_type": "stream",
          "name": "stdout",
          "text": [
            "F1 in epoch198 : 0.8722\n"
          ]
        },
        {
          "output_type": "stream",
          "name": "stderr",
          "text": [
            "\r 67%|\u001b[32m██████▋   \u001b[0m| 200/300 [01:03<00:31,  3.19it/s]"
          ]
        },
        {
          "output_type": "stream",
          "name": "stdout",
          "text": [
            "F1 in epoch199 : 0.8722\n"
          ]
        },
        {
          "output_type": "stream",
          "name": "stderr",
          "text": [
            "\r 67%|\u001b[32m██████▋   \u001b[0m| 201/300 [01:04<00:33,  2.97it/s]"
          ]
        },
        {
          "output_type": "stream",
          "name": "stdout",
          "text": [
            "F1 in epoch200 : 0.8722\n"
          ]
        },
        {
          "output_type": "stream",
          "name": "stderr",
          "text": [
            "\r 67%|\u001b[32m██████▋   \u001b[0m| 202/300 [01:04<00:32,  3.06it/s]"
          ]
        },
        {
          "output_type": "stream",
          "name": "stdout",
          "text": [
            "F1 in epoch201 : 0.8729\n"
          ]
        },
        {
          "output_type": "stream",
          "name": "stderr",
          "text": [
            "\r 68%|\u001b[32m██████▊   \u001b[0m| 203/300 [01:04<00:30,  3.15it/s]"
          ]
        },
        {
          "output_type": "stream",
          "name": "stdout",
          "text": [
            "F1 in epoch202 : 0.8736\n"
          ]
        },
        {
          "output_type": "stream",
          "name": "stderr",
          "text": [
            "\r 68%|\u001b[32m██████▊   \u001b[0m| 204/300 [01:04<00:30,  3.18it/s]"
          ]
        },
        {
          "output_type": "stream",
          "name": "stdout",
          "text": [
            "F1 in epoch203 : 0.8742\n"
          ]
        },
        {
          "output_type": "stream",
          "name": "stderr",
          "text": [
            "\r 68%|\u001b[32m██████▊   \u001b[0m| 205/300 [01:05<00:32,  2.93it/s]"
          ]
        },
        {
          "output_type": "stream",
          "name": "stdout",
          "text": [
            "F1 in epoch204 : 0.8742\n"
          ]
        },
        {
          "output_type": "stream",
          "name": "stderr",
          "text": [
            "\r 69%|\u001b[32m██████▊   \u001b[0m| 206/300 [01:05<00:30,  3.03it/s]"
          ]
        },
        {
          "output_type": "stream",
          "name": "stdout",
          "text": [
            "F1 in epoch205 : 0.8742\n"
          ]
        },
        {
          "output_type": "stream",
          "name": "stderr",
          "text": [
            "\r 69%|\u001b[32m██████▉   \u001b[0m| 207/300 [01:05<00:29,  3.13it/s]"
          ]
        },
        {
          "output_type": "stream",
          "name": "stdout",
          "text": [
            "F1 in epoch206 : 0.8742\n"
          ]
        },
        {
          "output_type": "stream",
          "name": "stderr",
          "text": [
            "\r 69%|\u001b[32m██████▉   \u001b[0m| 208/300 [01:06<00:28,  3.21it/s]"
          ]
        },
        {
          "output_type": "stream",
          "name": "stdout",
          "text": [
            "F1 in epoch207 : 0.8742\n"
          ]
        },
        {
          "output_type": "stream",
          "name": "stderr",
          "text": [
            "\r 70%|\u001b[32m██████▉   \u001b[0m| 209/300 [01:06<00:29,  3.06it/s]"
          ]
        },
        {
          "output_type": "stream",
          "name": "stdout",
          "text": [
            "F1 in epoch208 : 0.8742\n"
          ]
        },
        {
          "output_type": "stream",
          "name": "stderr",
          "text": [
            "\r 70%|\u001b[32m███████   \u001b[0m| 210/300 [01:06<00:28,  3.13it/s]"
          ]
        },
        {
          "output_type": "stream",
          "name": "stdout",
          "text": [
            "F1 in epoch209 : 0.8742\n"
          ]
        },
        {
          "output_type": "stream",
          "name": "stderr",
          "text": [
            "\r 70%|\u001b[32m███████   \u001b[0m| 211/300 [01:07<00:27,  3.21it/s]"
          ]
        },
        {
          "output_type": "stream",
          "name": "stdout",
          "text": [
            "F1 in epoch210 : 0.8742\n"
          ]
        },
        {
          "output_type": "stream",
          "name": "stderr",
          "text": [
            "\r 71%|\u001b[32m███████   \u001b[0m| 212/300 [01:07<00:26,  3.28it/s]"
          ]
        },
        {
          "output_type": "stream",
          "name": "stdout",
          "text": [
            "F1 in epoch211 : 0.8737\n"
          ]
        },
        {
          "output_type": "stream",
          "name": "stderr",
          "text": [
            "\r 71%|\u001b[32m███████   \u001b[0m| 213/300 [01:07<00:28,  3.03it/s]"
          ]
        },
        {
          "output_type": "stream",
          "name": "stdout",
          "text": [
            "F1 in epoch212 : 0.8732\n"
          ]
        },
        {
          "output_type": "stream",
          "name": "stderr",
          "text": [
            "\r 71%|\u001b[32m███████▏  \u001b[0m| 214/300 [01:08<00:27,  3.12it/s]"
          ]
        },
        {
          "output_type": "stream",
          "name": "stdout",
          "text": [
            "F1 in epoch213 : 0.8732\n"
          ]
        },
        {
          "output_type": "stream",
          "name": "stderr",
          "text": [
            "\r 72%|\u001b[32m███████▏  \u001b[0m| 215/300 [01:08<00:26,  3.19it/s]"
          ]
        },
        {
          "output_type": "stream",
          "name": "stdout",
          "text": [
            "F1 in epoch214 : 0.8732\n"
          ]
        },
        {
          "output_type": "stream",
          "name": "stderr",
          "text": [
            "\r 72%|\u001b[32m███████▏  \u001b[0m| 216/300 [01:08<00:25,  3.26it/s]"
          ]
        },
        {
          "output_type": "stream",
          "name": "stdout",
          "text": [
            "F1 in epoch215 : 0.8726\n"
          ]
        },
        {
          "output_type": "stream",
          "name": "stderr",
          "text": [
            "\r 72%|\u001b[32m███████▏  \u001b[0m| 217/300 [01:09<00:27,  3.02it/s]"
          ]
        },
        {
          "output_type": "stream",
          "name": "stdout",
          "text": [
            "F1 in epoch216 : 0.8726\n"
          ]
        },
        {
          "output_type": "stream",
          "name": "stderr",
          "text": [
            "\r 73%|\u001b[32m███████▎  \u001b[0m| 218/300 [01:09<00:26,  3.12it/s]"
          ]
        },
        {
          "output_type": "stream",
          "name": "stdout",
          "text": [
            "F1 in epoch217 : 0.8726\n"
          ]
        },
        {
          "output_type": "stream",
          "name": "stderr",
          "text": [
            "\r 73%|\u001b[32m███████▎  \u001b[0m| 219/300 [01:09<00:25,  3.20it/s]"
          ]
        },
        {
          "output_type": "stream",
          "name": "stdout",
          "text": [
            "F1 in epoch218 : 0.8720\n"
          ]
        },
        {
          "output_type": "stream",
          "name": "stderr",
          "text": [
            "\r 73%|\u001b[32m███████▎  \u001b[0m| 220/300 [01:10<00:26,  2.97it/s]"
          ]
        },
        {
          "output_type": "stream",
          "name": "stdout",
          "text": [
            "F1 in epoch219 : 0.8714\n"
          ]
        },
        {
          "output_type": "stream",
          "name": "stderr",
          "text": [
            "\r 74%|\u001b[32m███████▎  \u001b[0m| 221/300 [01:10<00:25,  3.06it/s]"
          ]
        },
        {
          "output_type": "stream",
          "name": "stdout",
          "text": [
            "F1 in epoch220 : 0.8714\n"
          ]
        },
        {
          "output_type": "stream",
          "name": "stderr",
          "text": [
            "\r 74%|\u001b[32m███████▍  \u001b[0m| 222/300 [01:10<00:24,  3.12it/s]"
          ]
        },
        {
          "output_type": "stream",
          "name": "stdout",
          "text": [
            "F1 in epoch221 : 0.8714\n"
          ]
        },
        {
          "output_type": "stream",
          "name": "stderr",
          "text": [
            "\r 74%|\u001b[32m███████▍  \u001b[0m| 223/300 [01:11<00:24,  3.21it/s]"
          ]
        },
        {
          "output_type": "stream",
          "name": "stdout",
          "text": [
            "F1 in epoch222 : 0.8714\n"
          ]
        },
        {
          "output_type": "stream",
          "name": "stderr",
          "text": [
            "\r 75%|\u001b[32m███████▍  \u001b[0m| 224/300 [01:11<00:25,  2.97it/s]"
          ]
        },
        {
          "output_type": "stream",
          "name": "stdout",
          "text": [
            "F1 in epoch223 : 0.8714\n"
          ]
        },
        {
          "output_type": "stream",
          "name": "stderr",
          "text": [
            "\r 75%|\u001b[32m███████▌  \u001b[0m| 225/300 [01:11<00:24,  3.05it/s]"
          ]
        },
        {
          "output_type": "stream",
          "name": "stdout",
          "text": [
            "F1 in epoch224 : 0.8714\n"
          ]
        },
        {
          "output_type": "stream",
          "name": "stderr",
          "text": [
            "\r 75%|\u001b[32m███████▌  \u001b[0m| 226/300 [01:12<00:23,  3.15it/s]"
          ]
        },
        {
          "output_type": "stream",
          "name": "stdout",
          "text": [
            "F1 in epoch225 : 0.8714\n"
          ]
        },
        {
          "output_type": "stream",
          "name": "stderr",
          "text": [
            "\r 76%|\u001b[32m███████▌  \u001b[0m| 227/300 [01:12<00:22,  3.23it/s]"
          ]
        },
        {
          "output_type": "stream",
          "name": "stdout",
          "text": [
            "F1 in epoch226 : 0.8714\n"
          ]
        },
        {
          "output_type": "stream",
          "name": "stderr",
          "text": [
            "\r 76%|\u001b[32m███████▌  \u001b[0m| 228/300 [01:12<00:24,  2.99it/s]"
          ]
        },
        {
          "output_type": "stream",
          "name": "stdout",
          "text": [
            "F1 in epoch227 : 0.8714\n"
          ]
        },
        {
          "output_type": "stream",
          "name": "stderr",
          "text": [
            "\r 76%|\u001b[32m███████▋  \u001b[0m| 229/300 [01:13<00:22,  3.09it/s]"
          ]
        },
        {
          "output_type": "stream",
          "name": "stdout",
          "text": [
            "F1 in epoch228 : 0.8714\n"
          ]
        },
        {
          "output_type": "stream",
          "name": "stderr",
          "text": [
            "\r 77%|\u001b[32m███████▋  \u001b[0m| 230/300 [01:13<00:22,  3.17it/s]"
          ]
        },
        {
          "output_type": "stream",
          "name": "stdout",
          "text": [
            "F1 in epoch229 : 0.8714\n"
          ]
        },
        {
          "output_type": "stream",
          "name": "stderr",
          "text": [
            "\r 77%|\u001b[32m███████▋  \u001b[0m| 231/300 [01:13<00:21,  3.26it/s]"
          ]
        },
        {
          "output_type": "stream",
          "name": "stdout",
          "text": [
            "F1 in epoch230 : 0.8714\n"
          ]
        },
        {
          "output_type": "stream",
          "name": "stderr",
          "text": [
            "\r 77%|\u001b[32m███████▋  \u001b[0m| 232/300 [01:14<00:22,  3.03it/s]"
          ]
        },
        {
          "output_type": "stream",
          "name": "stdout",
          "text": [
            "F1 in epoch231 : 0.8714\n"
          ]
        },
        {
          "output_type": "stream",
          "name": "stderr",
          "text": [
            "\r 78%|\u001b[32m███████▊  \u001b[0m| 233/300 [01:14<00:21,  3.12it/s]"
          ]
        },
        {
          "output_type": "stream",
          "name": "stdout",
          "text": [
            "F1 in epoch232 : 0.8714\n"
          ]
        },
        {
          "output_type": "stream",
          "name": "stderr",
          "text": [
            "\r 78%|\u001b[32m███████▊  \u001b[0m| 234/300 [01:14<00:20,  3.20it/s]"
          ]
        },
        {
          "output_type": "stream",
          "name": "stdout",
          "text": [
            "F1 in epoch233 : 0.8714\n"
          ]
        },
        {
          "output_type": "stream",
          "name": "stderr",
          "text": [
            "\r 78%|\u001b[32m███████▊  \u001b[0m| 235/300 [01:14<00:19,  3.27it/s]"
          ]
        },
        {
          "output_type": "stream",
          "name": "stdout",
          "text": [
            "F1 in epoch234 : 0.8714\n"
          ]
        },
        {
          "output_type": "stream",
          "name": "stderr",
          "text": [
            "\r 79%|\u001b[32m███████▊  \u001b[0m| 236/300 [01:15<00:21,  3.02it/s]"
          ]
        },
        {
          "output_type": "stream",
          "name": "stdout",
          "text": [
            "F1 in epoch235 : 0.8714\n"
          ]
        },
        {
          "output_type": "stream",
          "name": "stderr",
          "text": [
            "\r 79%|\u001b[32m███████▉  \u001b[0m| 237/300 [01:15<00:20,  3.12it/s]"
          ]
        },
        {
          "output_type": "stream",
          "name": "stdout",
          "text": [
            "F1 in epoch236 : 0.8714\n"
          ]
        },
        {
          "output_type": "stream",
          "name": "stderr",
          "text": [
            "\r 79%|\u001b[32m███████▉  \u001b[0m| 238/300 [01:15<00:19,  3.18it/s]"
          ]
        },
        {
          "output_type": "stream",
          "name": "stdout",
          "text": [
            "F1 in epoch237 : 0.8714\n"
          ]
        },
        {
          "output_type": "stream",
          "name": "stderr",
          "text": [
            "\r 80%|\u001b[32m███████▉  \u001b[0m| 239/300 [01:16<00:18,  3.26it/s]"
          ]
        },
        {
          "output_type": "stream",
          "name": "stdout",
          "text": [
            "F1 in epoch238 : 0.8714\n"
          ]
        },
        {
          "output_type": "stream",
          "name": "stderr",
          "text": [
            "\r 80%|\u001b[32m████████  \u001b[0m| 240/300 [01:16<00:19,  3.01it/s]"
          ]
        },
        {
          "output_type": "stream",
          "name": "stdout",
          "text": [
            "F1 in epoch239 : 0.8714\n"
          ]
        },
        {
          "output_type": "stream",
          "name": "stderr",
          "text": [
            "\r 80%|\u001b[32m████████  \u001b[0m| 241/300 [01:16<00:18,  3.11it/s]"
          ]
        },
        {
          "output_type": "stream",
          "name": "stdout",
          "text": [
            "F1 in epoch240 : 0.8714\n"
          ]
        },
        {
          "output_type": "stream",
          "name": "stderr",
          "text": [
            "\r 81%|\u001b[32m████████  \u001b[0m| 242/300 [01:17<00:18,  3.20it/s]"
          ]
        },
        {
          "output_type": "stream",
          "name": "stdout",
          "text": [
            "F1 in epoch241 : 0.8714\n"
          ]
        },
        {
          "output_type": "stream",
          "name": "stderr",
          "text": [
            "\r 81%|\u001b[32m████████  \u001b[0m| 243/300 [01:17<00:17,  3.29it/s]"
          ]
        },
        {
          "output_type": "stream",
          "name": "stdout",
          "text": [
            "F1 in epoch242 : 0.8714\n"
          ]
        },
        {
          "output_type": "stream",
          "name": "stderr",
          "text": [
            "\r 81%|\u001b[32m████████▏ \u001b[0m| 244/300 [01:17<00:18,  3.06it/s]"
          ]
        },
        {
          "output_type": "stream",
          "name": "stdout",
          "text": [
            "F1 in epoch243 : 0.8714\n"
          ]
        },
        {
          "output_type": "stream",
          "name": "stderr",
          "text": [
            "\r 82%|\u001b[32m████████▏ \u001b[0m| 245/300 [01:18<00:17,  3.14it/s]"
          ]
        },
        {
          "output_type": "stream",
          "name": "stdout",
          "text": [
            "F1 in epoch244 : 0.8714\n"
          ]
        },
        {
          "output_type": "stream",
          "name": "stderr",
          "text": [
            "\r 82%|\u001b[32m████████▏ \u001b[0m| 246/300 [01:18<00:16,  3.21it/s]"
          ]
        },
        {
          "output_type": "stream",
          "name": "stdout",
          "text": [
            "F1 in epoch245 : 0.8714\n"
          ]
        },
        {
          "output_type": "stream",
          "name": "stderr",
          "text": [
            "\r 82%|\u001b[32m████████▏ \u001b[0m| 247/300 [01:18<00:16,  3.30it/s]"
          ]
        },
        {
          "output_type": "stream",
          "name": "stdout",
          "text": [
            "F1 in epoch246 : 0.8714\n"
          ]
        },
        {
          "output_type": "stream",
          "name": "stderr",
          "text": [
            "\r 83%|\u001b[32m████████▎ \u001b[0m| 248/300 [01:19<00:17,  3.06it/s]"
          ]
        },
        {
          "output_type": "stream",
          "name": "stdout",
          "text": [
            "F1 in epoch247 : 0.8714\n"
          ]
        },
        {
          "output_type": "stream",
          "name": "stderr",
          "text": [
            "\r 83%|\u001b[32m████████▎ \u001b[0m| 249/300 [01:19<00:16,  3.14it/s]"
          ]
        },
        {
          "output_type": "stream",
          "name": "stdout",
          "text": [
            "F1 in epoch248 : 0.8714\n"
          ]
        },
        {
          "output_type": "stream",
          "name": "stderr",
          "text": [
            "\r 83%|\u001b[32m████████▎ \u001b[0m| 250/300 [01:19<00:15,  3.23it/s]"
          ]
        },
        {
          "output_type": "stream",
          "name": "stdout",
          "text": [
            "F1 in epoch249 : 0.8714\n"
          ]
        },
        {
          "output_type": "stream",
          "name": "stderr",
          "text": [
            "\r 84%|\u001b[32m████████▎ \u001b[0m| 251/300 [01:20<00:16,  3.03it/s]"
          ]
        },
        {
          "output_type": "stream",
          "name": "stdout",
          "text": [
            "F1 in epoch250 : 0.8714\n"
          ]
        },
        {
          "output_type": "stream",
          "name": "stderr",
          "text": [
            "\r 84%|\u001b[32m████████▍ \u001b[0m| 252/300 [01:20<00:15,  3.11it/s]"
          ]
        },
        {
          "output_type": "stream",
          "name": "stdout",
          "text": [
            "F1 in epoch251 : 0.8714\n"
          ]
        },
        {
          "output_type": "stream",
          "name": "stderr",
          "text": [
            "\r 84%|\u001b[32m████████▍ \u001b[0m| 253/300 [01:20<00:15,  3.11it/s]"
          ]
        },
        {
          "output_type": "stream",
          "name": "stdout",
          "text": [
            "F1 in epoch252 : 0.8714\n"
          ]
        },
        {
          "output_type": "stream",
          "name": "stderr",
          "text": [
            "\r 85%|\u001b[32m████████▍ \u001b[0m| 254/300 [01:20<00:14,  3.21it/s]"
          ]
        },
        {
          "output_type": "stream",
          "name": "stdout",
          "text": [
            "F1 in epoch253 : 0.8714\n"
          ]
        },
        {
          "output_type": "stream",
          "name": "stderr",
          "text": [
            "\r 85%|\u001b[32m████████▌ \u001b[0m| 255/300 [01:21<00:14,  3.01it/s]"
          ]
        },
        {
          "output_type": "stream",
          "name": "stdout",
          "text": [
            "F1 in epoch254 : 0.8714\n"
          ]
        },
        {
          "output_type": "stream",
          "name": "stderr",
          "text": [
            "\r 85%|\u001b[32m████████▌ \u001b[0m| 256/300 [01:21<00:14,  3.10it/s]"
          ]
        },
        {
          "output_type": "stream",
          "name": "stdout",
          "text": [
            "F1 in epoch255 : 0.8714\n"
          ]
        },
        {
          "output_type": "stream",
          "name": "stderr",
          "text": [
            "\r 86%|\u001b[32m████████▌ \u001b[0m| 257/300 [01:21<00:13,  3.19it/s]"
          ]
        },
        {
          "output_type": "stream",
          "name": "stdout",
          "text": [
            "F1 in epoch256 : 0.8714\n"
          ]
        },
        {
          "output_type": "stream",
          "name": "stderr",
          "text": [
            "\r 86%|\u001b[32m████████▌ \u001b[0m| 258/300 [01:22<00:12,  3.26it/s]"
          ]
        },
        {
          "output_type": "stream",
          "name": "stdout",
          "text": [
            "F1 in epoch257 : 0.8714\n"
          ]
        },
        {
          "output_type": "stream",
          "name": "stderr",
          "text": [
            "\r 86%|\u001b[32m████████▋ \u001b[0m| 259/300 [01:22<00:13,  3.00it/s]"
          ]
        },
        {
          "output_type": "stream",
          "name": "stdout",
          "text": [
            "F1 in epoch258 : 0.8714\n"
          ]
        },
        {
          "output_type": "stream",
          "name": "stderr",
          "text": [
            "\r 87%|\u001b[32m████████▋ \u001b[0m| 260/300 [01:22<00:12,  3.11it/s]"
          ]
        },
        {
          "output_type": "stream",
          "name": "stdout",
          "text": [
            "F1 in epoch259 : 0.8714\n"
          ]
        },
        {
          "output_type": "stream",
          "name": "stderr",
          "text": [
            "\r 87%|\u001b[32m████████▋ \u001b[0m| 261/300 [01:23<00:12,  3.22it/s]"
          ]
        },
        {
          "output_type": "stream",
          "name": "stdout",
          "text": [
            "F1 in epoch260 : 0.8714\n"
          ]
        },
        {
          "output_type": "stream",
          "name": "stderr",
          "text": [
            "\r 87%|\u001b[32m████████▋ \u001b[0m| 262/300 [01:23<00:12,  2.98it/s]"
          ]
        },
        {
          "output_type": "stream",
          "name": "stdout",
          "text": [
            "F1 in epoch261 : 0.8714\n"
          ]
        },
        {
          "output_type": "stream",
          "name": "stderr",
          "text": [
            "\r 88%|\u001b[32m████████▊ \u001b[0m| 263/300 [01:23<00:11,  3.09it/s]"
          ]
        },
        {
          "output_type": "stream",
          "name": "stdout",
          "text": [
            "F1 in epoch262 : 0.8714\n"
          ]
        },
        {
          "output_type": "stream",
          "name": "stderr",
          "text": [
            "\r 88%|\u001b[32m████████▊ \u001b[0m| 264/300 [01:24<00:11,  3.17it/s]"
          ]
        },
        {
          "output_type": "stream",
          "name": "stdout",
          "text": [
            "F1 in epoch263 : 0.8714\n"
          ]
        },
        {
          "output_type": "stream",
          "name": "stderr",
          "text": [
            "\r 88%|\u001b[32m████████▊ \u001b[0m| 265/300 [01:24<00:10,  3.24it/s]"
          ]
        },
        {
          "output_type": "stream",
          "name": "stdout",
          "text": [
            "F1 in epoch264 : 0.8708\n"
          ]
        },
        {
          "output_type": "stream",
          "name": "stderr",
          "text": [
            "\r 89%|\u001b[32m████████▊ \u001b[0m| 266/300 [01:24<00:11,  3.00it/s]"
          ]
        },
        {
          "output_type": "stream",
          "name": "stdout",
          "text": [
            "F1 in epoch265 : 0.8708\n"
          ]
        },
        {
          "output_type": "stream",
          "name": "stderr",
          "text": [
            "\r 89%|\u001b[32m████████▉ \u001b[0m| 267/300 [01:25<00:10,  3.09it/s]"
          ]
        },
        {
          "output_type": "stream",
          "name": "stdout",
          "text": [
            "F1 in epoch266 : 0.8708\n"
          ]
        },
        {
          "output_type": "stream",
          "name": "stderr",
          "text": [
            "\r 89%|\u001b[32m████████▉ \u001b[0m| 268/300 [01:25<00:10,  3.17it/s]"
          ]
        },
        {
          "output_type": "stream",
          "name": "stdout",
          "text": [
            "F1 in epoch267 : 0.8708\n"
          ]
        },
        {
          "output_type": "stream",
          "name": "stderr",
          "text": [
            "\r 90%|\u001b[32m████████▉ \u001b[0m| 269/300 [01:25<00:09,  3.26it/s]"
          ]
        },
        {
          "output_type": "stream",
          "name": "stdout",
          "text": [
            "F1 in epoch268 : 0.8708\n"
          ]
        },
        {
          "output_type": "stream",
          "name": "stderr",
          "text": [
            "\r 90%|\u001b[32m█████████ \u001b[0m| 270/300 [01:26<00:10,  2.94it/s]"
          ]
        },
        {
          "output_type": "stream",
          "name": "stdout",
          "text": [
            "F1 in epoch269 : 0.8708\n"
          ]
        },
        {
          "output_type": "stream",
          "name": "stderr",
          "text": [
            "\r 90%|\u001b[32m█████████ \u001b[0m| 271/300 [01:26<00:09,  3.03it/s]"
          ]
        },
        {
          "output_type": "stream",
          "name": "stdout",
          "text": [
            "F1 in epoch270 : 0.8708\n"
          ]
        },
        {
          "output_type": "stream",
          "name": "stderr",
          "text": [
            "\r 91%|\u001b[32m█████████ \u001b[0m| 272/300 [01:26<00:08,  3.12it/s]"
          ]
        },
        {
          "output_type": "stream",
          "name": "stdout",
          "text": [
            "F1 in epoch271 : 0.8708\n"
          ]
        },
        {
          "output_type": "stream",
          "name": "stderr",
          "text": [
            "\r 91%|\u001b[32m█████████ \u001b[0m| 273/300 [01:27<00:08,  3.21it/s]"
          ]
        },
        {
          "output_type": "stream",
          "name": "stdout",
          "text": [
            "F1 in epoch272 : 0.8708\n"
          ]
        },
        {
          "output_type": "stream",
          "name": "stderr",
          "text": [
            "\r 91%|\u001b[32m█████████▏\u001b[0m| 274/300 [01:27<00:08,  2.97it/s]"
          ]
        },
        {
          "output_type": "stream",
          "name": "stdout",
          "text": [
            "F1 in epoch273 : 0.8708\n"
          ]
        },
        {
          "output_type": "stream",
          "name": "stderr",
          "text": [
            "\r 92%|\u001b[32m█████████▏\u001b[0m| 275/300 [01:27<00:08,  3.07it/s]"
          ]
        },
        {
          "output_type": "stream",
          "name": "stdout",
          "text": [
            "F1 in epoch274 : 0.8708\n"
          ]
        },
        {
          "output_type": "stream",
          "name": "stderr",
          "text": [
            "\r 92%|\u001b[32m█████████▏\u001b[0m| 276/300 [01:28<00:07,  3.14it/s]"
          ]
        },
        {
          "output_type": "stream",
          "name": "stdout",
          "text": [
            "F1 in epoch275 : 0.8708\n"
          ]
        },
        {
          "output_type": "stream",
          "name": "stderr",
          "text": [
            "\r 92%|\u001b[32m█████████▏\u001b[0m| 277/300 [01:28<00:07,  3.23it/s]"
          ]
        },
        {
          "output_type": "stream",
          "name": "stdout",
          "text": [
            "F1 in epoch276 : 0.8708\n"
          ]
        },
        {
          "output_type": "stream",
          "name": "stderr",
          "text": [
            "\r 93%|\u001b[32m█████████▎\u001b[0m| 278/300 [01:28<00:07,  3.01it/s]"
          ]
        },
        {
          "output_type": "stream",
          "name": "stdout",
          "text": [
            "F1 in epoch277 : 0.8708\n"
          ]
        },
        {
          "output_type": "stream",
          "name": "stderr",
          "text": [
            "\r 93%|\u001b[32m█████████▎\u001b[0m| 279/300 [01:29<00:06,  3.05it/s]"
          ]
        },
        {
          "output_type": "stream",
          "name": "stdout",
          "text": [
            "F1 in epoch278 : 0.8708\n"
          ]
        },
        {
          "output_type": "stream",
          "name": "stderr",
          "text": [
            "\r 93%|\u001b[32m█████████▎\u001b[0m| 280/300 [01:29<00:06,  3.13it/s]"
          ]
        },
        {
          "output_type": "stream",
          "name": "stdout",
          "text": [
            "F1 in epoch279 : 0.8708\n"
          ]
        },
        {
          "output_type": "stream",
          "name": "stderr",
          "text": [
            "\r 94%|\u001b[32m█████████▎\u001b[0m| 281/300 [01:29<00:05,  3.22it/s]"
          ]
        },
        {
          "output_type": "stream",
          "name": "stdout",
          "text": [
            "F1 in epoch280 : 0.8708\n"
          ]
        },
        {
          "output_type": "stream",
          "name": "stderr",
          "text": [
            "\r 94%|\u001b[32m█████████▍\u001b[0m| 282/300 [01:30<00:06,  2.97it/s]"
          ]
        },
        {
          "output_type": "stream",
          "name": "stdout",
          "text": [
            "F1 in epoch281 : 0.8708\n"
          ]
        },
        {
          "output_type": "stream",
          "name": "stderr",
          "text": [
            "\r 94%|\u001b[32m█████████▍\u001b[0m| 283/300 [01:30<00:05,  3.07it/s]"
          ]
        },
        {
          "output_type": "stream",
          "name": "stdout",
          "text": [
            "F1 in epoch282 : 0.8708\n"
          ]
        },
        {
          "output_type": "stream",
          "name": "stderr",
          "text": [
            "\r 95%|\u001b[32m█████████▍\u001b[0m| 284/300 [01:30<00:05,  3.17it/s]"
          ]
        },
        {
          "output_type": "stream",
          "name": "stdout",
          "text": [
            "F1 in epoch283 : 0.8708\n"
          ]
        },
        {
          "output_type": "stream",
          "name": "stderr",
          "text": [
            "\r 95%|\u001b[32m█████████▌\u001b[0m| 285/300 [01:30<00:04,  3.24it/s]"
          ]
        },
        {
          "output_type": "stream",
          "name": "stdout",
          "text": [
            "F1 in epoch284 : 0.8708\n"
          ]
        },
        {
          "output_type": "stream",
          "name": "stderr",
          "text": [
            "\r 95%|\u001b[32m█████████▌\u001b[0m| 286/300 [01:31<00:04,  3.00it/s]"
          ]
        },
        {
          "output_type": "stream",
          "name": "stdout",
          "text": [
            "F1 in epoch285 : 0.8708\n"
          ]
        },
        {
          "output_type": "stream",
          "name": "stderr",
          "text": [
            "\r 96%|\u001b[32m█████████▌\u001b[0m| 287/300 [01:31<00:04,  3.11it/s]"
          ]
        },
        {
          "output_type": "stream",
          "name": "stdout",
          "text": [
            "F1 in epoch286 : 0.8708\n"
          ]
        },
        {
          "output_type": "stream",
          "name": "stderr",
          "text": [
            "\r 96%|\u001b[32m█████████▌\u001b[0m| 288/300 [01:31<00:03,  3.20it/s]"
          ]
        },
        {
          "output_type": "stream",
          "name": "stdout",
          "text": [
            "F1 in epoch287 : 0.8708\n"
          ]
        },
        {
          "output_type": "stream",
          "name": "stderr",
          "text": [
            "\r 96%|\u001b[32m█████████▋\u001b[0m| 289/300 [01:32<00:03,  2.91it/s]"
          ]
        },
        {
          "output_type": "stream",
          "name": "stdout",
          "text": [
            "F1 in epoch288 : 0.8708\n"
          ]
        },
        {
          "output_type": "stream",
          "name": "stderr",
          "text": [
            "\r 97%|\u001b[32m█████████▋\u001b[0m| 290/300 [01:32<00:03,  3.02it/s]"
          ]
        },
        {
          "output_type": "stream",
          "name": "stdout",
          "text": [
            "F1 in epoch289 : 0.8708\n"
          ]
        },
        {
          "output_type": "stream",
          "name": "stderr",
          "text": [
            "\r 97%|\u001b[32m█████████▋\u001b[0m| 291/300 [01:32<00:02,  3.11it/s]"
          ]
        },
        {
          "output_type": "stream",
          "name": "stdout",
          "text": [
            "F1 in epoch290 : 0.8708\n"
          ]
        },
        {
          "output_type": "stream",
          "name": "stderr",
          "text": [
            "\r 97%|\u001b[32m█████████▋\u001b[0m| 292/300 [01:33<00:02,  3.18it/s]"
          ]
        },
        {
          "output_type": "stream",
          "name": "stdout",
          "text": [
            "F1 in epoch291 : 0.8708\n"
          ]
        },
        {
          "output_type": "stream",
          "name": "stderr",
          "text": [
            "\r 98%|\u001b[32m█████████▊\u001b[0m| 293/300 [01:33<00:02,  2.98it/s]"
          ]
        },
        {
          "output_type": "stream",
          "name": "stdout",
          "text": [
            "F1 in epoch292 : 0.8708\n"
          ]
        },
        {
          "output_type": "stream",
          "name": "stderr",
          "text": [
            "\r 98%|\u001b[32m█████████▊\u001b[0m| 294/300 [01:33<00:01,  3.08it/s]"
          ]
        },
        {
          "output_type": "stream",
          "name": "stdout",
          "text": [
            "F1 in epoch293 : 0.8708\n"
          ]
        },
        {
          "output_type": "stream",
          "name": "stderr",
          "text": [
            "\r 98%|\u001b[32m█████████▊\u001b[0m| 295/300 [01:34<00:01,  3.17it/s]"
          ]
        },
        {
          "output_type": "stream",
          "name": "stdout",
          "text": [
            "F1 in epoch294 : 0.8708\n"
          ]
        },
        {
          "output_type": "stream",
          "name": "stderr",
          "text": [
            "\r 99%|\u001b[32m█████████▊\u001b[0m| 296/300 [01:34<00:01,  3.25it/s]"
          ]
        },
        {
          "output_type": "stream",
          "name": "stdout",
          "text": [
            "F1 in epoch295 : 0.8708\n"
          ]
        },
        {
          "output_type": "stream",
          "name": "stderr",
          "text": [
            "\r 99%|\u001b[32m█████████▉\u001b[0m| 297/300 [01:34<00:00,  3.00it/s]"
          ]
        },
        {
          "output_type": "stream",
          "name": "stdout",
          "text": [
            "F1 in epoch296 : 0.8708\n"
          ]
        },
        {
          "output_type": "stream",
          "name": "stderr",
          "text": [
            "\r 99%|\u001b[32m█████████▉\u001b[0m| 298/300 [01:35<00:00,  3.06it/s]"
          ]
        },
        {
          "output_type": "stream",
          "name": "stdout",
          "text": [
            "F1 in epoch297 : 0.8708\n"
          ]
        },
        {
          "output_type": "stream",
          "name": "stderr",
          "text": [
            "\r100%|\u001b[32m█████████▉\u001b[0m| 299/300 [01:35<00:00,  3.16it/s]"
          ]
        },
        {
          "output_type": "stream",
          "name": "stdout",
          "text": [
            "F1 in epoch298 : 0.8708\n"
          ]
        },
        {
          "output_type": "stream",
          "name": "stderr",
          "text": [
            "100%|\u001b[32m██████████\u001b[0m| 300/300 [01:35<00:00,  3.13it/s]"
          ]
        },
        {
          "output_type": "stream",
          "name": "stdout",
          "text": [
            "F1 in epoch299 : 0.8708\n"
          ]
        },
        {
          "output_type": "stream",
          "name": "stderr",
          "text": [
            "\n"
          ]
        }
      ]
    },
    {
      "cell_type": "code",
      "source": [
        "y_proba = final.cpu().numpy()\n",
        "\n",
        "resl = []\n",
        "for i in y_proba:\n",
        "  a = [x+1 for x in range(len(i)) if i[x] > 0.5]\n",
        "  for j in range(len(a)):\n",
        "    if a[j] >=12:\n",
        "      a[j] = a[j]+1\n",
        "  resl.append(a)\n",
        "\n",
        "test_pred = []\n",
        "for lis in resl:\n",
        "  a = [str(i) for i in lis]\n",
        "  test_pred.append(\" \".join(a))\n",
        "\n",
        "output_df = pd.DataFrame(test_pred, columns = ['Labels'])\n",
        "\n",
        "# The best model of our prediction data on kaggle is svm.\n",
        "# Select the prediction of svm model for output.\n",
        "output_df = pd.DataFrame(test_pred, columns = ['Labels'])\n",
        "output_df.to_csv('/content/Predicted_labels.txt', sep=\",\", float_format='%d',index_label=\"ImageID\")"
      ],
      "metadata": {
        "id": "dhj-zpZQCU-Q"
      },
      "execution_count": 32,
      "outputs": []
    }
  ]
}